{
 "cells": [
  {
   "cell_type": "markdown",
   "id": "bdb91078",
   "metadata": {},
   "source": [
    "## Packages and Modules:\n",
    "    - Packages\n",
    "        => Folder\n",
    "        Sub-Package\n",
    "            => Sub folder\n",
    "    - Module\n",
    "        => filename.extension\n",
    "        => .py\n",
    "    \n",
    "    - Inbuilt packages, ex: math,\n",
    "    - Userdefined, ex: modulename "
   ]
  },
  {
   "cell_type": "code",
   "execution_count": 1,
   "id": "842ae644",
   "metadata": {},
   "outputs": [],
   "source": [
    "import math"
   ]
  },
  {
   "cell_type": "code",
   "execution_count": 2,
   "id": "24846d79",
   "metadata": {},
   "outputs": [
    {
     "name": "stdout",
     "output_type": "stream",
     "text": [
      "['__doc__', '__loader__', '__name__', '__package__', '__spec__', 'acos', 'acosh', 'asin', 'asinh', 'atan', 'atan2', 'atanh', 'ceil', 'comb', 'copysign', 'cos', 'cosh', 'degrees', 'dist', 'e', 'erf', 'erfc', 'exp', 'expm1', 'fabs', 'factorial', 'floor', 'fmod', 'frexp', 'fsum', 'gamma', 'gcd', 'hypot', 'inf', 'isclose', 'isfinite', 'isinf', 'isnan', 'isqrt', 'lcm', 'ldexp', 'lgamma', 'log', 'log10', 'log1p', 'log2', 'modf', 'nan', 'nextafter', 'perm', 'pi', 'pow', 'prod', 'radians', 'remainder', 'sin', 'sinh', 'sqrt', 'tan', 'tanh', 'tau', 'trunc', 'ulp']\n"
     ]
    }
   ],
   "source": [
    "print(dir(math))"
   ]
  },
  {
   "cell_type": "code",
   "execution_count": 3,
   "id": "803920de",
   "metadata": {},
   "outputs": [
    {
     "name": "stdout",
     "output_type": "stream",
     "text": [
      "This module provides access to the mathematical functions\n",
      "defined by the C standard.\n"
     ]
    }
   ],
   "source": [
    "print(math.__doc__)"
   ]
  },
  {
   "cell_type": "code",
   "execution_count": 4,
   "id": "48040d2a",
   "metadata": {},
   "outputs": [
    {
     "name": "stdout",
     "output_type": "stream",
     "text": [
      "3.141592653589793\n"
     ]
    }
   ],
   "source": [
    "print(math.pi)"
   ]
  },
  {
   "cell_type": "code",
   "execution_count": 5,
   "id": "4a664e2e",
   "metadata": {},
   "outputs": [
    {
     "name": "stdout",
     "output_type": "stream",
     "text": [
      "120\n"
     ]
    }
   ],
   "source": [
    "print(math.factorial(5))"
   ]
  },
  {
   "cell_type": "code",
   "execution_count": 6,
   "id": "b059b987",
   "metadata": {},
   "outputs": [
    {
     "ename": "ModuleNotFoundError",
     "evalue": "No module named 'demo'",
     "output_type": "error",
     "traceback": [
      "\u001b[1;31m---------------------------------------------------------------------------\u001b[0m",
      "\u001b[1;31mModuleNotFoundError\u001b[0m                       Traceback (most recent call last)",
      "Cell \u001b[1;32mIn[6], line 1\u001b[0m\n\u001b[1;32m----> 1\u001b[0m \u001b[38;5;28;01mimport\u001b[39;00m \u001b[38;5;21;01mdemo\u001b[39;00m\n",
      "\u001b[1;31mModuleNotFoundError\u001b[0m: No module named 'demo'"
     ]
    }
   ],
   "source": [
    "import demo"
   ]
  },
  {
   "cell_type": "markdown",
   "id": "9d327385",
   "metadata": {},
   "source": [
    "###  Importing in same location\n",
    "    Syntax:\n",
    "        import modulename\n",
    "        \n",
    "    - For printing a variable value\n",
    "        modulename.variablename\n",
    "    \n",
    "    - For printing a function\n",
    "        modulename.functionname()\n",
    "    \n",
    "    - For printing a classname\n",
    "        modulename.classname()\n",
    "        \n",
    "    - For printing a method\n",
    "        modulename.classname.methodname()\n",
    "     \n",
    "        \n",
    "        import modulename as aliasname\n",
    "        \n",
    "        aliasname.variablename => Variable\n",
    "        aliasname.function() => function\n",
    "        aliasname.class() => class\n",
    "        aliasname.class().method() => method\n",
    "        "
   ]
  },
  {
   "cell_type": "code",
   "execution_count": 1,
   "id": "542e9352",
   "metadata": {},
   "outputs": [],
   "source": [
    "import test"
   ]
  },
  {
   "cell_type": "code",
   "execution_count": 2,
   "id": "82066872",
   "metadata": {},
   "outputs": [
    {
     "name": "stdout",
     "output_type": "stream",
     "text": [
      "['__builtins__', '__cached__', '__doc__', '__file__', '__loader__', '__name__', '__package__', '__spec__', 'a', 'p']\n"
     ]
    }
   ],
   "source": [
    "print(dir(test))"
   ]
  },
  {
   "cell_type": "code",
   "execution_count": 3,
   "id": "506f363a",
   "metadata": {},
   "outputs": [
    {
     "name": "stdout",
     "output_type": "stream",
     "text": [
      " Sample Example for Module \n"
     ]
    }
   ],
   "source": [
    "print(test.__doc__)"
   ]
  },
  {
   "cell_type": "code",
   "execution_count": 6,
   "id": "587bd0e3",
   "metadata": {},
   "outputs": [
    {
     "name": "stdout",
     "output_type": "stream",
     "text": [
      "50\n",
      "89 <class 'str'>\n"
     ]
    }
   ],
   "source": [
    "print(test.a)\n",
    "print(test.p,type(test.p))"
   ]
  },
  {
   "cell_type": "code",
   "execution_count": 7,
   "id": "5ca74821",
   "metadata": {},
   "outputs": [],
   "source": [
    "import test as t"
   ]
  },
  {
   "cell_type": "code",
   "execution_count": 8,
   "id": "f14ee580",
   "metadata": {},
   "outputs": [
    {
     "name": "stdout",
     "output_type": "stream",
     "text": [
      "['__builtins__', '__cached__', '__doc__', '__file__', '__loader__', '__name__', '__package__', '__spec__', 'a', 'p']\n"
     ]
    }
   ],
   "source": [
    "print(dir(t))"
   ]
  },
  {
   "cell_type": "code",
   "execution_count": 9,
   "id": "36368e1c",
   "metadata": {},
   "outputs": [
    {
     "name": "stdout",
     "output_type": "stream",
     "text": [
      "50\n",
      "89 <class 'str'>\n"
     ]
    }
   ],
   "source": [
    "print(t.a)\n",
    "print(t.p,type(t.p))"
   ]
  },
  {
   "cell_type": "markdown",
   "id": "0ad45886",
   "metadata": {},
   "source": [
    "## Importing from a package\n",
    "    Syntax:\n",
    "        from packagename import module\n",
    "            modulename.variablename\n",
    "            modulename.function\n",
    "            modulename.classname\n",
    "            modulename.classname.methodname\n",
    "        from packagename.modulename import *\n",
    "            variablename\n",
    "            function\n",
    "            class\n",
    "            class.method\n",
    "        from packagename.modulename import variablename\n",
    "            variablename\n",
    "        from packagename import module as md\n",
    "            md.variablename\n",
    "            md.function\n",
    "            md.classname\n",
    "            md.classname.methodname\n",
    "        from . import module\n",
    "            . => same directory"
   ]
  },
  {
   "cell_type": "code",
   "execution_count": 10,
   "id": "d8a5b8f0",
   "metadata": {},
   "outputs": [],
   "source": [
    "from DataFiles import demo"
   ]
  },
  {
   "cell_type": "code",
   "execution_count": 11,
   "id": "dff7e218",
   "metadata": {},
   "outputs": [
    {
     "name": "stdout",
     "output_type": "stream",
     "text": [
      "['__builtins__', '__cached__', '__doc__', '__file__', '__loader__', '__name__', '__package__', '__spec__', 'd']\n"
     ]
    }
   ],
   "source": [
    "print(dir(demo))"
   ]
  },
  {
   "cell_type": "code",
   "execution_count": 13,
   "id": "f628e855",
   "metadata": {},
   "outputs": [
    {
     "name": "stdout",
     "output_type": "stream",
     "text": [
      "30\n"
     ]
    }
   ],
   "source": [
    "print(demo.d)"
   ]
  },
  {
   "cell_type": "code",
   "execution_count": 3,
   "id": "a36cde8c",
   "metadata": {},
   "outputs": [],
   "source": [
    "from DataFiles import *"
   ]
  },
  {
   "cell_type": "code",
   "execution_count": 6,
   "id": "b00ebb17",
   "metadata": {},
   "outputs": [
    {
     "ename": "NameError",
     "evalue": "name 'demo' is not defined",
     "output_type": "error",
     "traceback": [
      "\u001b[1;31m---------------------------------------------------------------------------\u001b[0m",
      "\u001b[1;31mNameError\u001b[0m                                 Traceback (most recent call last)",
      "Cell \u001b[1;32mIn[6], line 1\u001b[0m\n\u001b[1;32m----> 1\u001b[0m \u001b[38;5;28mprint\u001b[39m(\u001b[38;5;28mdir\u001b[39m(\u001b[43mdemo\u001b[49m))\n",
      "\u001b[1;31mNameError\u001b[0m: name 'demo' is not defined"
     ]
    }
   ],
   "source": [
    "print(dir(demo))"
   ]
  },
  {
   "cell_type": "code",
   "execution_count": 7,
   "id": "c5858cf2",
   "metadata": {},
   "outputs": [
    {
     "ename": "NameError",
     "evalue": "name 'sample' is not defined",
     "output_type": "error",
     "traceback": [
      "\u001b[1;31m---------------------------------------------------------------------------\u001b[0m",
      "\u001b[1;31mNameError\u001b[0m                                 Traceback (most recent call last)",
      "Cell \u001b[1;32mIn[7], line 1\u001b[0m\n\u001b[1;32m----> 1\u001b[0m \u001b[38;5;28mprint\u001b[39m(\u001b[38;5;28mdir\u001b[39m(\u001b[43msample\u001b[49m))\n",
      "\u001b[1;31mNameError\u001b[0m: name 'sample' is not defined"
     ]
    }
   ],
   "source": [
    "print(dir(sample))"
   ]
  },
  {
   "cell_type": "code",
   "execution_count": 8,
   "id": "6093ebfd",
   "metadata": {},
   "outputs": [],
   "source": [
    "from DataFiles import demo,sample"
   ]
  },
  {
   "cell_type": "code",
   "execution_count": 9,
   "id": "31e9643d",
   "metadata": {},
   "outputs": [
    {
     "name": "stdout",
     "output_type": "stream",
     "text": [
      "['__builtins__', '__cached__', '__doc__', '__file__', '__loader__', '__name__', '__package__', '__spec__', 'd', 'h']\n"
     ]
    }
   ],
   "source": [
    "print(dir(demo))"
   ]
  },
  {
   "cell_type": "code",
   "execution_count": 10,
   "id": "abb8bf04",
   "metadata": {},
   "outputs": [
    {
     "name": "stdout",
     "output_type": "stream",
     "text": [
      "['__builtins__', '__cached__', '__doc__', '__file__', '__loader__', '__name__', '__package__', '__spec__', 'c']\n"
     ]
    }
   ],
   "source": [
    "print(dir(sample))"
   ]
  },
  {
   "cell_type": "code",
   "execution_count": 11,
   "id": "6b7ac747",
   "metadata": {},
   "outputs": [
    {
     "name": "stdout",
     "output_type": "stream",
     "text": [
      "30 [45, 89, 56, 45]\n"
     ]
    }
   ],
   "source": [
    "print(demo.d,demo.h)"
   ]
  },
  {
   "cell_type": "code",
   "execution_count": 12,
   "id": "31fcd1de",
   "metadata": {},
   "outputs": [
    {
     "name": "stdout",
     "output_type": "stream",
     "text": [
      "54\n"
     ]
    }
   ],
   "source": [
    "print(sample.c)"
   ]
  },
  {
   "cell_type": "code",
   "execution_count": 1,
   "id": "49f5f49f",
   "metadata": {},
   "outputs": [],
   "source": [
    "from DataFiles import demo"
   ]
  },
  {
   "cell_type": "code",
   "execution_count": 2,
   "id": "121f0406",
   "metadata": {},
   "outputs": [
    {
     "name": "stdout",
     "output_type": "stream",
     "text": [
      "['__builtins__', '__cached__', '__doc__', '__file__', '__loader__', '__name__', '__package__', '__spec__', 'd', 'h', 'intlist']\n"
     ]
    }
   ],
   "source": [
    "print(dir(demo))"
   ]
  },
  {
   "cell_type": "code",
   "execution_count": 3,
   "id": "7f0ea2bc",
   "metadata": {},
   "outputs": [
    {
     "name": "stdout",
     "output_type": "stream",
     "text": [
      "[5, 8]\n"
     ]
    }
   ],
   "source": [
    "print(demo.intlist(['5','8']))"
   ]
  },
  {
   "cell_type": "code",
   "execution_count": 4,
   "id": "724968bb",
   "metadata": {},
   "outputs": [
    {
     "name": "stdout",
     "output_type": "stream",
     "text": [
      "Enter list of values: 8 96 78 56 45 78 2 45\n",
      "['8', '96', '78', '56', '45', '78', '2', '45'] <class 'list'>\n",
      "[8, 96, 78, 56, 45, 78, 2, 45]\n"
     ]
    }
   ],
   "source": [
    "k = input(\"Enter list of values: \").split()\n",
    "print(k,type(k))\n",
    "print(demo.intlist(k))"
   ]
  },
  {
   "cell_type": "code",
   "execution_count": 5,
   "id": "3a6c30b7",
   "metadata": {},
   "outputs": [],
   "source": [
    "from DataFiles.Input import users"
   ]
  },
  {
   "cell_type": "code",
   "execution_count": 6,
   "id": "ebef049d",
   "metadata": {},
   "outputs": [
    {
     "name": "stdout",
     "output_type": "stream",
     "text": [
      "['__builtins__', '__cached__', '__doc__', '__file__', '__loader__', '__name__', '__package__', '__spec__', 'names']\n"
     ]
    }
   ],
   "source": [
    "print(dir(users))"
   ]
  },
  {
   "cell_type": "code",
   "execution_count": 7,
   "id": "b0f7b5d7",
   "metadata": {},
   "outputs": [
    {
     "name": "stdout",
     "output_type": "stream",
     "text": [
      "['Lavanya', 'Suresh']\n"
     ]
    }
   ],
   "source": [
    "print(users.names)"
   ]
  },
  {
   "cell_type": "markdown",
   "id": "46ae1d34",
   "metadata": {},
   "source": [
    "## Files:\n",
    "    - To store data permanently when the kernel is restarted\n",
    "    - .py,.csv,.text,.html extensions\n",
    "    - Modes\n",
    "        -> reading => r\n",
    "        -> writing => w\n",
    "        -> append => a\n",
    "        -> execute => x"
   ]
  },
  {
   "cell_type": "code",
   "execution_count": 8,
   "id": "f6d0e7db",
   "metadata": {},
   "outputs": [
    {
     "ename": "FileNotFoundError",
     "evalue": "[Errno 2] No such file or directory: 'DataFiles/listofusers.text'",
     "output_type": "error",
     "traceback": [
      "\u001b[1;31m---------------------------------------------------------------------------\u001b[0m",
      "\u001b[1;31mFileNotFoundError\u001b[0m                         Traceback (most recent call last)",
      "Cell \u001b[1;32mIn[8], line 1\u001b[0m\n\u001b[1;32m----> 1\u001b[0m f \u001b[38;5;241m=\u001b[39m \u001b[38;5;28;43mopen\u001b[39;49m\u001b[43m(\u001b[49m\u001b[38;5;124;43m'\u001b[39;49m\u001b[38;5;124;43mDataFiles/listofusers.text\u001b[39;49m\u001b[38;5;124;43m'\u001b[39;49m\u001b[43m,\u001b[49m\u001b[38;5;124;43m'\u001b[39;49m\u001b[38;5;124;43mr\u001b[39;49m\u001b[38;5;124;43m'\u001b[39;49m\u001b[43m)\u001b[49m\n\u001b[0;32m      2\u001b[0m \u001b[38;5;28mprint\u001b[39m(f,\u001b[38;5;28mtype\u001b[39m(f))\n\u001b[0;32m      3\u001b[0m f\u001b[38;5;241m.\u001b[39mclose()\n",
      "File \u001b[1;32m~\\AppData\\Local\\Programs\\Python\\Python39\\lib\\site-packages\\IPython\\core\\interactiveshell.py:282\u001b[0m, in \u001b[0;36m_modified_open\u001b[1;34m(file, *args, **kwargs)\u001b[0m\n\u001b[0;32m    275\u001b[0m \u001b[38;5;28;01mif\u001b[39;00m file \u001b[38;5;129;01min\u001b[39;00m {\u001b[38;5;241m0\u001b[39m, \u001b[38;5;241m1\u001b[39m, \u001b[38;5;241m2\u001b[39m}:\n\u001b[0;32m    276\u001b[0m     \u001b[38;5;28;01mraise\u001b[39;00m \u001b[38;5;167;01mValueError\u001b[39;00m(\n\u001b[0;32m    277\u001b[0m         \u001b[38;5;124mf\u001b[39m\u001b[38;5;124m\"\u001b[39m\u001b[38;5;124mIPython won\u001b[39m\u001b[38;5;124m'\u001b[39m\u001b[38;5;124mt let you open fd=\u001b[39m\u001b[38;5;132;01m{\u001b[39;00mfile\u001b[38;5;132;01m}\u001b[39;00m\u001b[38;5;124m by default \u001b[39m\u001b[38;5;124m\"\u001b[39m\n\u001b[0;32m    278\u001b[0m         \u001b[38;5;124m\"\u001b[39m\u001b[38;5;124mas it is likely to crash IPython. If you know what you are doing, \u001b[39m\u001b[38;5;124m\"\u001b[39m\n\u001b[0;32m    279\u001b[0m         \u001b[38;5;124m\"\u001b[39m\u001b[38;5;124myou can use builtins\u001b[39m\u001b[38;5;124m'\u001b[39m\u001b[38;5;124m open.\u001b[39m\u001b[38;5;124m\"\u001b[39m\n\u001b[0;32m    280\u001b[0m     )\n\u001b[1;32m--> 282\u001b[0m \u001b[38;5;28;01mreturn\u001b[39;00m io_open(file, \u001b[38;5;241m*\u001b[39margs, \u001b[38;5;241m*\u001b[39m\u001b[38;5;241m*\u001b[39mkwargs)\n",
      "\u001b[1;31mFileNotFoundError\u001b[0m: [Errno 2] No such file or directory: 'DataFiles/listofusers.text'"
     ]
    }
   ],
   "source": [
    "f = open('DataFiles/listofusers.text','r')\n",
    "print(f,type(f))\n",
    "f.close()"
   ]
  },
  {
   "cell_type": "code",
   "execution_count": 14,
   "id": "b4b475b3",
   "metadata": {},
   "outputs": [
    {
     "name": "stdout",
     "output_type": "stream",
     "text": [
      "<_io.TextIOWrapper name='DataFiles/sample.py' mode='r' encoding='cp1252'> <class '_io.TextIOWrapper'>\n",
      "c = 54\n",
      "\n",
      "sddfkjsdf\n",
      "sdd\n",
      "f\n",
      "sddf\n",
      "sd\n",
      "df\n",
      "sdf\n",
      "s\n",
      "df\n",
      "s\n",
      "ddf\n"
     ]
    }
   ],
   "source": [
    "f = open('DataFiles/sample.py','r')\n",
    "print(f,type(f))\n",
    "print(f.read())\n",
    "f.close()"
   ]
  },
  {
   "cell_type": "code",
   "execution_count": 15,
   "id": "fba411e4",
   "metadata": {},
   "outputs": [
    {
     "name": "stdout",
     "output_type": "stream",
     "text": [
      "['_CHUNK_SIZE', '__class__', '__del__', '__delattr__', '__dict__', '__dir__', '__doc__', '__enter__', '__eq__', '__exit__', '__format__', '__ge__', '__getattribute__', '__gt__', '__hash__', '__init__', '__init_subclass__', '__iter__', '__le__', '__lt__', '__ne__', '__new__', '__next__', '__reduce__', '__reduce_ex__', '__repr__', '__setattr__', '__sizeof__', '__str__', '__subclasshook__', '_checkClosed', '_checkReadable', '_checkSeekable', '_checkWritable', '_finalizing', 'buffer', 'close', 'closed', 'detach', 'encoding', 'errors', 'fileno', 'flush', 'isatty', 'line_buffering', 'mode', 'name', 'newlines', 'read', 'readable', 'readline', 'readlines', 'reconfigure', 'seek', 'seekable', 'tell', 'truncate', 'writable', 'write', 'write_through', 'writelines']\n"
     ]
    }
   ],
   "source": [
    "print(dir(f))"
   ]
  },
  {
   "cell_type": "code",
   "execution_count": 16,
   "id": "d72d1676",
   "metadata": {},
   "outputs": [
    {
     "name": "stdout",
     "output_type": "stream",
     "text": [
      "c = 54\n",
      "\n",
      "sddfkjsdf\n",
      "sdd\n",
      "f\n",
      "sddf\n",
      "sd\n",
      "df\n",
      "sdf\n",
      "s\n",
      "df\n",
      "s\n",
      "ddf\n"
     ]
    }
   ],
   "source": [
    "with open('DataFiles/sample.py','r') as g:\n",
    "    print(g.read())\n"
   ]
  },
  {
   "cell_type": "code",
   "execution_count": null,
   "id": "53f2359f",
   "metadata": {},
   "outputs": [],
   "source": []
  }
 ],
 "metadata": {
  "kernelspec": {
   "display_name": "Python 3 (ipykernel)",
   "language": "python",
   "name": "python3"
  },
  "language_info": {
   "codemirror_mode": {
    "name": "ipython",
    "version": 3
   },
   "file_extension": ".py",
   "mimetype": "text/x-python",
   "name": "python",
   "nbconvert_exporter": "python",
   "pygments_lexer": "ipython3",
   "version": "3.9.13"
  }
 },
 "nbformat": 4,
 "nbformat_minor": 5
}

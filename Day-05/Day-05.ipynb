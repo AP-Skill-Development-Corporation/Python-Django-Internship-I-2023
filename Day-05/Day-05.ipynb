{
 "cells": [
  {
   "cell_type": "code",
   "execution_count": 3,
   "id": "ea002040",
   "metadata": {},
   "outputs": [
    {
     "name": "stdout",
     "output_type": "stream",
     "text": [
      "Enter x value: 2\n",
      "Enter z value: 3\n",
      "<class 'str'> <class 'str'>\n",
      "18\n",
      "<class 'str'> <class 'str'>\n"
     ]
    }
   ],
   "source": [
    "# 3x**2+2*z\n",
    "x,z = input(\"Enter x value: \"),input(\"Enter z value: \")\n",
    "print(type(x),type(z))\n",
    "print(3*int(x)**2+2*int(z))\n",
    "print(type(x),type(z))"
   ]
  },
  {
   "cell_type": "markdown",
   "id": "099888fa",
   "metadata": {},
   "source": [
    "## Typecasting:\n",
    "    - To change a data type of variable from one type to another data type\n",
    "    - int()\n",
    "    - float()\n",
    "    - str()\n",
    "    - bool()\n",
    "    - complex()\n",
    "    - Data Structures [list(),tuple(),set(),dict()]"
   ]
  },
  {
   "cell_type": "code",
   "execution_count": 5,
   "id": "28ee0e87",
   "metadata": {},
   "outputs": [
    {
     "name": "stdout",
     "output_type": "stream",
     "text": [
      "Enter a value: 45\n",
      "45 <class 'int'>\n"
     ]
    }
   ],
   "source": [
    "c = int(input(\"Enter a value: \"))\n",
    "print(c,type(c))"
   ]
  },
  {
   "cell_type": "code",
   "execution_count": 7,
   "id": "d58a232e",
   "metadata": {},
   "outputs": [
    {
     "name": "stdout",
     "output_type": "stream",
     "text": [
      "Enter a value: 45.000\n",
      "45.0 <class 'float'>\n"
     ]
    }
   ],
   "source": [
    "z = float(input(\"Enter a value: \"))\n",
    "print(z,type(z))"
   ]
  },
  {
   "cell_type": "code",
   "execution_count": 9,
   "id": "cc8182fd",
   "metadata": {},
   "outputs": [
    {
     "name": "stdout",
     "output_type": "stream",
     "text": [
      "Enter a value: -2j\n",
      "-2j <class 'complex'>\n"
     ]
    }
   ],
   "source": [
    "a = complex(input(\"Enter a value: \"))\n",
    "print(a,type(a))"
   ]
  },
  {
   "cell_type": "markdown",
   "id": "4f9b3842",
   "metadata": {},
   "source": [
    "## Operators:\n",
    "    - Arithmetic => +,-,*,/,%,//(floor Division),**(exponent)\n",
    "        => expression\n",
    "    - Logical => AND,OR,NOT,XOR\n",
    "        => 2 conditions (a>4) and (b<5)\n",
    "        => True or False => Values\n",
    "    - Relational => >,<,>=,<=,!=,==\n",
    "        => 2 operands (a > b)\n",
    "    - Bitwise => &,|,!,>>,<<\n",
    "        => expressions 2 conditions\n",
    "        => Values\n",
    "    - Assignment => +=,-=,*=,/=,//=,**=\n",
    "        => a = a+5 \n",
    "        => a += 5\n",
    "        => Loops,conditional \n",
    "    - Membership => in,not in => Iterators [Data Structures]\n",
    "    - Identity => is, is not [String]"
   ]
  },
  {
   "cell_type": "code",
   "execution_count": 10,
   "id": "491b991a",
   "metadata": {},
   "outputs": [
    {
     "name": "stdout",
     "output_type": "stream",
     "text": [
      "500\n",
      "0\n"
     ]
    }
   ],
   "source": [
    "a,b = 10,500\n",
    "print(a and b)\n",
    "print(a & b)"
   ]
  },
  {
   "cell_type": "code",
   "execution_count": 12,
   "id": "e7891522",
   "metadata": {},
   "outputs": [
    {
     "name": "stdout",
     "output_type": "stream",
     "text": [
      "5\n",
      "4\n",
      "100\n"
     ]
    }
   ],
   "source": [
    "a,b = 100,5\n",
    "print(a and b)\n",
    "print(a & b)\n",
    "print(b and a)"
   ]
  },
  {
   "cell_type": "code",
   "execution_count": 13,
   "id": "b0bb40c8",
   "metadata": {},
   "outputs": [
    {
     "name": "stdout",
     "output_type": "stream",
     "text": [
      "50\n",
      "498\n"
     ]
    }
   ],
   "source": [
    "p,q = 50,480\n",
    "print(p or q)\n",
    "print(p | q)"
   ]
  },
  {
   "cell_type": "code",
   "execution_count": 18,
   "id": "fd95e7b8",
   "metadata": {},
   "outputs": [
    {
     "name": "stdout",
     "output_type": "stream",
     "text": [
      "500\n",
      "509\n",
      "41\n"
     ]
    }
   ],
   "source": [
    "p,q = 500,41\n",
    "print(p or q)\n",
    "print(p | q)\n",
    "print(q or p)"
   ]
  },
  {
   "cell_type": "code",
   "execution_count": 19,
   "id": "4f610765",
   "metadata": {},
   "outputs": [],
   "source": [
    "import keyword"
   ]
  },
  {
   "cell_type": "code",
   "execution_count": 20,
   "id": "ae946249",
   "metadata": {},
   "outputs": [
    {
     "name": "stdout",
     "output_type": "stream",
     "text": [
      "['__all__', '__builtins__', '__cached__', '__doc__', '__file__', '__loader__', '__name__', '__package__', '__spec__', 'iskeyword', 'issoftkeyword', 'kwlist', 'softkwlist']\n"
     ]
    }
   ],
   "source": [
    "print(dir(keyword))"
   ]
  },
  {
   "cell_type": "code",
   "execution_count": 23,
   "id": "6e21fea1",
   "metadata": {},
   "outputs": [
    {
     "name": "stdout",
     "output_type": "stream",
     "text": [
      "<class 'module'>\n"
     ]
    }
   ],
   "source": [
    "print(type(keyword))"
   ]
  },
  {
   "cell_type": "code",
   "execution_count": 25,
   "id": "cc3c1350",
   "metadata": {},
   "outputs": [
    {
     "name": "stdout",
     "output_type": "stream",
     "text": [
      "['False', 'None', 'True', '__peg_parser__', 'and', 'as', 'assert', 'async', 'await', 'break', 'class', 'continue', 'def', 'del', 'elif', 'else', 'except', 'finally', 'for', 'from', 'global', 'if', 'import', 'in', 'is', 'lambda', 'nonlocal', 'not', 'or', 'pass', 'raise', 'return', 'try', 'while', 'with', 'yield'] 36\n"
     ]
    }
   ],
   "source": [
    "print(keyword.kwlist,len(keyword.kwlist))"
   ]
  },
  {
   "cell_type": "markdown",
   "id": "17ef8c85",
   "metadata": {},
   "source": [
    "## Conditional Statements:\n",
    "    - To check whether a given condition is either True or False\n",
    "    - if => single case\n",
    "    - if-else => => 2 cases\n",
    "    - nested if => 2 or more n number of cases\n",
    "    - elif ladder => 3 or more n number of cases [Preference]"
   ]
  },
  {
   "cell_type": "markdown",
   "id": "3318ed11",
   "metadata": {},
   "source": [
    "## If\n",
    "    Syntax:\n",
    "        if condition:\n",
    "            //statemnts\n",
    "        Note: () => Optional"
   ]
  },
  {
   "cell_type": "code",
   "execution_count": 31,
   "id": "047d83fa",
   "metadata": {},
   "outputs": [
    {
     "name": "stdout",
     "output_type": "stream",
     "text": [
      "Enter a number: 2\n",
      "Given number 2 is not equal to 450\n"
     ]
    }
   ],
   "source": [
    "x = int(input(\"Enter a number: \"))\n",
    "if x != 450:\n",
    "    print(f\"Given number {x} is not equal to 450\")"
   ]
  },
  {
   "cell_type": "code",
   "execution_count": 40,
   "id": "75f49002",
   "metadata": {},
   "outputs": [
    {
     "name": "stdout",
     "output_type": "stream",
     "text": [
      "Enter a number: 2\n"
     ]
    }
   ],
   "source": [
    "z = int(input(\"Enter a number: \"))\n",
    "if float(z) == str(2):\n",
    "    print(f\"Given number {z} is equal to float value of 2.00\")"
   ]
  },
  {
   "cell_type": "code",
   "execution_count": 42,
   "id": "eed84160",
   "metadata": {},
   "outputs": [
    {
     "name": "stdout",
     "output_type": "stream",
     "text": [
      "Enter a name: ramesh\n",
      "Welcome user ramesh\n"
     ]
    }
   ],
   "source": [
    "v = input(\"Enter a name: \")\n",
    "if v == \"ramesh\":\n",
    "    print(f\"Welcome user {v}\")"
   ]
  },
  {
   "cell_type": "markdown",
   "id": "ec555fea",
   "metadata": {},
   "source": [
    "## if-else:\n",
    "    Syntax:\n",
    "        if condition:\n",
    "            //statements\n",
    "        else:\n",
    "            //statements\n",
    "        Note: () => Optional"
   ]
  },
  {
   "cell_type": "code",
   "execution_count": 45,
   "id": "5c6645fd",
   "metadata": {},
   "outputs": [
    {
     "name": "stdout",
     "output_type": "stream",
     "text": [
      "Enter a value: 5\n",
      "Given number 5 is not Equal to 10\n"
     ]
    }
   ],
   "source": [
    "n = int(input(\"Enter a value: \"))\n",
    "if n == 10:\n",
    "    print(f\"Given number {n} is Equal to 10\")\n",
    "else:\n",
    "    print(f\"Given number {n} is not Equal to 10\")"
   ]
  },
  {
   "cell_type": "markdown",
   "id": "72474a18",
   "metadata": {},
   "source": [
    "## Nested If:\n",
    "    Syntax:\n",
    "        if condition-1:\n",
    "            if condition-2:\n",
    "                //statement-1\n",
    "            else:\n",
    "                //statement-2\n",
    "        else:\n",
    "            //statement-n\n",
    "        Note: () => Optional , else => Optional"
   ]
  },
  {
   "cell_type": "code",
   "execution_count": 48,
   "id": "848e7cc6",
   "metadata": {},
   "outputs": [
    {
     "name": "stdout",
     "output_type": "stream",
     "text": [
      "Enter a name: santosh\n",
      "Enter a password: abc123\n",
      "Welcome User santosh!!!\n"
     ]
    }
   ],
   "source": [
    "username = input(\"Enter a name: \")\n",
    "password = input(\"Enter a password: \")\n",
    "if username == \"santosh\":\n",
    "    if password == \"abc123\":\n",
    "        print(f\"Welcome User {username}!!!\")\n",
    "    else:\n",
    "        print(\"Invalid Username/Password\")\n",
    "else:\n",
    "    print(\"Invalid Username/Password\")"
   ]
  },
  {
   "cell_type": "code",
   "execution_count": 56,
   "id": "72382349",
   "metadata": {},
   "outputs": [
    {
     "name": "stdout",
     "output_type": "stream",
     "text": [
      "Enter a name: santosh\n",
      "Enter a password: abc123\n",
      "Welcome User santosh!!!\n"
     ]
    }
   ],
   "source": [
    "username = input(\"Enter a name: \")\n",
    "password = input(\"Enter a password: \")\n",
    "if username == \"santosh\" and password == \"abc123\":\n",
    "    print(\"Welcome User {}!!!\".format(username))\n",
    "else:\n",
    "    print(\"Invalid Username/Password\")"
   ]
  },
  {
   "cell_type": "code",
   "execution_count": 51,
   "id": "17f55598",
   "metadata": {},
   "outputs": [
    {
     "name": "stdout",
     "output_type": "stream",
     "text": [
      "Enter Username: ramesh\n",
      "Enter Password: pq12\n",
      "Welcome User ramesh!!\n"
     ]
    }
   ],
   "source": [
    "user = input(\"Enter Username: \")\n",
    "if user == \"ramesh\":\n",
    "    pwd = input(\"Enter Password: \")\n",
    "    if pwd == \"pq12\":\n",
    "        print(f\"Welcome User {user}!!\")\n",
    "    else:\n",
    "        print(f\"Invalid Password for {user}\")\n",
    "else:\n",
    "    print(f\"Entered {user} is Invalid\")"
   ]
  },
  {
   "cell_type": "markdown",
   "id": "4b51cd92",
   "metadata": {},
   "source": [
    "## elif:\n",
    "    Syntax:\n",
    "        if condition-1:\n",
    "            //statement-1\n",
    "        elif condition-2:\n",
    "            //statement-2\n",
    "            |        |\n",
    "        elif condition-n:\n",
    "            //statement-n\n",
    "        else:\n",
    "            //statement-(n-2)"
   ]
  },
  {
   "cell_type": "code",
   "execution_count": 63,
   "id": "1e2ffc13",
   "metadata": {},
   "outputs": [
    {
     "name": "stdout",
     "output_type": "stream",
     "text": [
      "Enter a number: 12\n",
      "Enter a value: 3\n",
      "Given number is 12 multiply of 3 is: 36\n"
     ]
    }
   ],
   "source": [
    "n = int(input(\"Enter a number: \"))\n",
    "if n>5 and n<10:\n",
    "    m = int(input(\"Enter a value: \"))\n",
    "    print(f\"Given number is {n} power of {m} is: {n**m}\")\n",
    "elif n<50 and n>20:\n",
    "    k = int(input(\"Enter a value: \"))\n",
    "    print(f\"Given number is {n} divisible by {k} is: {n//k}\")\n",
    "elif n<15:\n",
    "    z = int(input(\"Enter a value: \"))\n",
    "    print(f\"Given number is {n} multiply of {z} is: {n*z}\")\n",
    "else:\n",
    "    print(f\"Given number is {n}\")"
   ]
  },
  {
   "cell_type": "markdown",
   "id": "e228f92e",
   "metadata": {},
   "source": [
    "## Loops or Iterations or Repitions\n",
    "    - To execute a snigle statement for n number of times\n",
    "    - for => Known ranges\n",
    "    - while => Known ranges and Unknown ranges [Infinity]"
   ]
  },
  {
   "cell_type": "markdown",
   "id": "a9046b1a",
   "metadata": {},
   "source": [
    "## For:\n",
    "    Syntax:\n",
    "        for iterationvariablename in range(start,stop,step):\n",
    "            //statements\n",
    "                        (or)\n",
    "        for iterationvariablename in iterator:\n",
    "            //statements\n",
    "        \n",
    "        Iterator => Data Structures [List,Tuple,Set,String and Dictionary]"
   ]
  },
  {
   "cell_type": "markdown",
   "id": "1aee3142",
   "metadata": {},
   "source": [
    "## range\n",
    "    - range(stop):\n",
    "        => By default it starts with exactly 0\n",
    "        => It ends with stop value - 1\n",
    "        => By default it increments with +1\n",
    "        Ex:\n",
    "            range(5):\n",
    "                0 1 2 3 4\n",
    "    \n",
    "    - range(start,stop):\n",
    "        => It exactly starts with start value\n",
    "        => It ends with stop value - 1\n",
    "        => BY default it increments with +1\n",
    "        Ex:\n",
    "            range(2,6):\n",
    "                2 3 4 5\n",
    "    \n",
    "    - range(start,stop,step):\n",
    "        => It exactly starts with start value\n",
    "        => it ends with stop value - 1\n",
    "        => It increments or decrement with step value\n",
    "        Ex:\n",
    "            range(2,10,3):\n",
    "                2 5 8 "
   ]
  },
  {
   "cell_type": "code",
   "execution_count": 68,
   "id": "d44de967",
   "metadata": {},
   "outputs": [
    {
     "name": "stdout",
     "output_type": "stream",
     "text": [
      "Enter a value: 10\n",
      "0 1 2 3 4 5 6 7 8 9 "
     ]
    }
   ],
   "source": [
    "n = int(input(\"Enter a value: \"))\n",
    "for i in range(n):\n",
    "    print(i,end=\" \")"
   ]
  },
  {
   "cell_type": "code",
   "execution_count": null,
   "id": "d9651126",
   "metadata": {},
   "outputs": [],
   "source": []
  }
 ],
 "metadata": {
  "kernelspec": {
   "display_name": "Python 3 (ipykernel)",
   "language": "python",
   "name": "python3"
  },
  "language_info": {
   "codemirror_mode": {
    "name": "ipython",
    "version": 3
   },
   "file_extension": ".py",
   "mimetype": "text/x-python",
   "name": "python",
   "nbconvert_exporter": "python",
   "pygments_lexer": "ipython3",
   "version": "3.9.13"
  }
 },
 "nbformat": 4,
 "nbformat_minor": 5
}

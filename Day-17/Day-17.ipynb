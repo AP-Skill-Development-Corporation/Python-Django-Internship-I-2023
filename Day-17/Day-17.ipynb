{
 "cells": [
  {
   "cell_type": "code",
   "execution_count": 4,
   "id": "cdf32c37",
   "metadata": {},
   "outputs": [
    {
     "name": "stdout",
     "output_type": "stream",
     "text": [
      "58\n",
      "58\n"
     ]
    }
   ],
   "source": [
    "class Person:\n",
    "    a = 58\n",
    "\n",
    "w = Person\n",
    "print(Person.a) # Class Attribute\n",
    "print(w.a) # Instance Attribute"
   ]
  },
  {
   "cell_type": "code",
   "execution_count": 13,
   "id": "abbc0524",
   "metadata": {},
   "outputs": [
    {
     "name": "stdout",
     "output_type": "stream",
     "text": [
      "{'__module__': '__main__', 'a': 58, 'g': 45, '__dict__': <attribute '__dict__' of 'Person' objects>, '__weakref__': <attribute '__weakref__' of 'Person' objects>, '__doc__': None}\n",
      "58\n",
      "58\n",
      "45\n",
      "{'__module__': '__main__', 'a': 58, 'g': 45, '__dict__': <attribute '__dict__' of 'Person' objects>, '__weakref__': <attribute '__weakref__' of 'Person' objects>, '__doc__': None}\n"
     ]
    }
   ],
   "source": [
    "class Person:\n",
    "    a,g = 58,45\n",
    "\n",
    "w = Person\n",
    "print(Person.__dict__)\n",
    "print(w.a)\n",
    "print(getattr(w,'a'))\n",
    "print(Person.__dict__['g'])\n",
    "print(w.__dict__)"
   ]
  },
  {
   "cell_type": "code",
   "execution_count": 17,
   "id": "f80688a2",
   "metadata": {},
   "outputs": [
    {
     "name": "stdout",
     "output_type": "stream",
     "text": [
      "{'__module__': '__main__', 't': 78, '__dict__': <attribute '__dict__' of 'Employee' objects>, '__weakref__': <attribute '__weakref__' of 'Employee' objects>, '__doc__': None}\n",
      "{}\n",
      "{'__module__': '__main__', 't': 25, '__dict__': <attribute '__dict__' of 'Employee' objects>, '__weakref__': <attribute '__weakref__' of 'Employee' objects>, '__doc__': None}\n",
      "{}\n"
     ]
    }
   ],
   "source": [
    "class Employee:\n",
    "    t = 78\n",
    "\n",
    "z = Employee()\n",
    "print(Employee.__dict__)\n",
    "print(z.__dict__)\n",
    "Employee.t = 25\n",
    "print(Employee.__dict__)\n",
    "print(z.__dict__)"
   ]
  },
  {
   "cell_type": "code",
   "execution_count": 20,
   "id": "8ca04ead",
   "metadata": {},
   "outputs": [
    {
     "name": "stdout",
     "output_type": "stream",
     "text": [
      "{'__module__': '__main__', 'w': 45, '__dict__': <attribute '__dict__' of 'Employee' objects>, '__weakref__': <attribute '__weakref__' of 'Employee' objects>, '__doc__': None}\n",
      "{}\n",
      "{'__module__': '__main__', 'w': 45, '__dict__': <attribute '__dict__' of 'Employee' objects>, '__weakref__': <attribute '__weakref__' of 'Employee' objects>, '__doc__': None}\n",
      "{'w': 'Ramesh'}\n"
     ]
    }
   ],
   "source": [
    "class Employee:\n",
    "    w = 45\n",
    "    \n",
    "q = Employee()\n",
    "print(Employee.__dict__)\n",
    "print(q.__dict__)\n",
    "q.w = \"Ramesh\"\n",
    "print(Employee.__dict__)\n",
    "print(q.__dict__)"
   ]
  },
  {
   "cell_type": "code",
   "execution_count": 31,
   "id": "2190a157",
   "metadata": {},
   "outputs": [
    {
     "name": "stdout",
     "output_type": "stream",
     "text": [
      "20\n",
      "23\n",
      "20\n",
      "Tilak\n",
      "Tilak\n"
     ]
    }
   ],
   "source": [
    "class Student:\n",
    "    sname = \"Tilak\"\n",
    "    sage = 20\n",
    "    sbranch = \"ECE\"\n",
    "\n",
    "v = Student()\n",
    "print(getattr(v,'sage'))\n",
    "setattr(v,'sage',23)\n",
    "print(v.sage)\n",
    "print(Student.sage)\n",
    "# delattr(v,'sname')\n",
    "print(v.sname)\n",
    "print(Student.sname)\n",
    "del Student.sname\n",
    "# print(Student.sname)\n",
    "# print(v.sname)"
   ]
  },
  {
   "cell_type": "code",
   "execution_count": 51,
   "id": "8e3b5fcb",
   "metadata": {},
   "outputs": [
    {
     "name": "stdout",
     "output_type": "stream",
     "text": [
      "{'__module__': '__main__', 'ecmp': 'Nalanda Private Limited', 'eid': 'RY56', 'info': <function Employee.info at 0x000002530C612160>, '__dict__': <attribute '__dict__' of 'Employee' objects>, '__weakref__': <attribute '__weakref__' of 'Employee' objects>, '__doc__': None}\n",
      "{'__module__': '__main__', 'ecmp': 'Nalanda Private Limited', 'eid': 'RY56', 'info': <function Employee.info at 0x000002530C612160>, '__dict__': <attribute '__dict__' of 'Employee' objects>, '__weakref__': <attribute '__weakref__' of 'Employee' objects>, '__doc__': None}\n",
      "Company Name: Nalanda Private Limited and Employee Id: RY56\n",
      "Company Name: Nalanda Private Limited and Employee Id: RY56\n",
      "Company Name: Nalanda Private Limited and Employee Id: RY56\n"
     ]
    }
   ],
   "source": [
    "class Employee:\n",
    "    ecmp = \"Nalanda Private Limited\"\n",
    "    eid = \"RY56\"\n",
    "    \n",
    "    def info():\n",
    "        print(f\"Company Name: {Employee.ecmp} and Employee Id: {Employee.eid}\")\n",
    "\n",
    "e = Employee()\n",
    "print(Employee.__dict__)\n",
    "print(e.__dict__)\n",
    "# Employee.info()\n",
    "getattr(Employee,'info')()\n",
    "Employee.__dict__['info']()\n",
    "e.__dict__['info']()"
   ]
  },
  {
   "cell_type": "code",
   "execution_count": 58,
   "id": "5cf7180d",
   "metadata": {},
   "outputs": [
    {
     "name": "stdout",
     "output_type": "stream",
     "text": [
      "Company Name: Lalitha Private Limited Employee id is: TY34\n",
      "Employee Salary: 25000\n",
      "Company Name: Lalitha Private Limited Employee id is: TY34\n",
      "Employee Salary: 36000\n",
      "{'__module__': '__main__', 'eid': 'TY34', 'ecm': 'Lalitha Private Limited', 'printinfo': <function Employee.printinfo at 0x000002530A97DC10>, '__dict__': <attribute '__dict__' of 'Employee' objects>, '__weakref__': <attribute '__weakref__' of 'Employee' objects>, '__doc__': None}\n",
      "{}\n"
     ]
    }
   ],
   "source": [
    "class Employee:\n",
    "    eid = \"TY34\"\n",
    "    ecm = \"Lalitha Private Limited\"\n",
    "    \n",
    "    def printinfo(self,y):\n",
    "        print(f\"Company Name: {Employee.ecm} Employee id is: {Employee.eid}\")\n",
    "        print(f\"Employee Salary: {y}\")\n",
    "\n",
    "b = Employee()\n",
    "b.printinfo(25000)\n",
    "Employee.printinfo(b,36000)\n",
    "print(Employee.__dict__)\n",
    "print(b.__dict__)"
   ]
  },
  {
   "cell_type": "markdown",
   "id": "6f148b9f",
   "metadata": {},
   "source": [
    "## Constructor Types:\n",
    "    - Default\n",
    "    - Parameterized\n",
    "    - Non Parameterized"
   ]
  },
  {
   "cell_type": "code",
   "execution_count": 68,
   "id": "e6d4c6f9",
   "metadata": {},
   "outputs": [
    {
     "name": "stdout",
     "output_type": "stream",
     "text": [
      "name is: Prasad and age is: 45\n",
      "name is: 45 and salary is: 5600\n"
     ]
    }
   ],
   "source": [
    "class Demo:\n",
    "    \n",
    "#     def __init__(self):\n",
    "#         pass\n",
    "    \n",
    "    def gy(self):\n",
    "        self.n,self.m = 45,\"Prasad\"\n",
    "        print(f\"name is: {self.m} and age is: {self.n}\")\n",
    "    \n",
    "    def yu(self):\n",
    "        p = 5600\n",
    "        print(f\"name is: {self.n} and salary is: {p}\")\n",
    "    \n",
    "x = Demo()\n",
    "x.gy()\n",
    "x.yu()"
   ]
  },
  {
   "cell_type": "code",
   "execution_count": 72,
   "id": "e131817e",
   "metadata": {},
   "outputs": [
    {
     "name": "stdout",
     "output_type": "stream",
     "text": [
      "Employee Name: Tilak\n",
      "Employee Age: 56\n"
     ]
    }
   ],
   "source": [
    "class Employee:\n",
    "    \n",
    "    def __init__(self):\n",
    "        self.name = \"Tilak\"\n",
    "        self.age = 56\n",
    "    \n",
    "    def empinfo(self):\n",
    "        print(f\"Employee Name: {self.name}\")\n",
    "        print(f\"Employee Age: {self.age}\")\n",
    "\n",
    "r = Employee()\n",
    "r.empinfo()\n",
    "\n",
    "# k = Employee(\"Manoj\",12)\n",
    "# k.empinfo()"
   ]
  },
  {
   "cell_type": "code",
   "execution_count": 75,
   "id": "31d8a78c",
   "metadata": {},
   "outputs": [
    {
     "name": "stdout",
     "output_type": "stream",
     "text": [
      "Student Name: Manjusha\n",
      "Student Branch: CSE\n",
      "Student age: 23\n",
      "Student Name: Kalyani\n",
      "Student Branch: ECE\n",
      "Student age: 20\n"
     ]
    }
   ],
   "source": [
    "class Student:\n",
    "    \n",
    "    def __init__(self,name,age,branch):\n",
    "        self.n = name\n",
    "        self.a = age\n",
    "        self.b = branch\n",
    "    \n",
    "    def stdinfo(self):\n",
    "        print(f\"Student Name: {self.n}\\nStudent Branch: {self.b}\\nStudent age: {self.a}\")\n",
    "\n",
    "s = Student(\"Manjusha\",23,\"CSE\")\n",
    "s.stdinfo()\n",
    "f = Student(\"Kalyani\",20,\"ECE\")\n",
    "f.stdinfo()"
   ]
  },
  {
   "cell_type": "code",
   "execution_count": 80,
   "id": "21c384b2",
   "metadata": {},
   "outputs": [
    {
     "name": "stdout",
     "output_type": "stream",
     "text": [
      "Welcome Pavan you are Not Eligible for this site\n",
      "Welcome Giri you are Eligible for this site\n",
      "Not Eligible\n",
      "Eligible\n"
     ]
    }
   ],
   "source": [
    "class Student:\n",
    "    \n",
    "    # constructor method\n",
    "    def __init__(self,name,age):\n",
    "        self.name = name\n",
    "        self.age = age\n",
    "    \n",
    "    # static method\n",
    "    @staticmethod\n",
    "    def check(h):\n",
    "        if h>=18:\n",
    "            r = \"Eligible\"\n",
    "        else:\n",
    "            r = \"Not Eligible\"\n",
    "        return r \n",
    "    \n",
    "    # instance method\n",
    "    def login(self):\n",
    "        print(f\"Welcome {self.name} you are {self.check(self.age)} for this site\")\n",
    "\n",
    "c = Student(\"Pavan\",10)\n",
    "c.login()\n",
    "d = Student(\"Giri\",26)\n",
    "d.login()\n",
    "print(c.check(2))\n",
    "print(d.check(20))"
   ]
  },
  {
   "cell_type": "code",
   "execution_count": null,
   "id": "a08eeee0",
   "metadata": {},
   "outputs": [],
   "source": []
  }
 ],
 "metadata": {
  "kernelspec": {
   "display_name": "Python 3 (ipykernel)",
   "language": "python",
   "name": "python3"
  },
  "language_info": {
   "codemirror_mode": {
    "name": "ipython",
    "version": 3
   },
   "file_extension": ".py",
   "mimetype": "text/x-python",
   "name": "python",
   "nbconvert_exporter": "python",
   "pygments_lexer": "ipython3",
   "version": "3.9.13"
  }
 },
 "nbformat": 4,
 "nbformat_minor": 5
}

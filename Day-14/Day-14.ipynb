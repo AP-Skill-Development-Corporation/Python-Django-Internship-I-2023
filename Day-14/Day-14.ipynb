{
 "cells": [
  {
   "cell_type": "code",
   "execution_count": 2,
   "id": "e618f29f",
   "metadata": {},
   "outputs": [],
   "source": [
    "with open(\"Data/demo.text\",\"w\") as e:\n",
    "    e.write(\"Good Afternoon!!!!\")\n",
    "    e.write(\"All\")"
   ]
  },
  {
   "cell_type": "code",
   "execution_count": 4,
   "id": "36310d9b",
   "metadata": {},
   "outputs": [],
   "source": [
    "with open(\"Data/sample.text\",\"a\") as e:\n",
    "    e.write(\"Good Night!!!!\")\n",
    "    e.write(\"All\")"
   ]
  },
  {
   "cell_type": "code",
   "execution_count": 6,
   "id": "656e23c0",
   "metadata": {},
   "outputs": [
    {
     "ename": "FileExistsError",
     "evalue": "[Errno 17] File exists: 'Data/test.text'",
     "output_type": "error",
     "traceback": [
      "\u001b[1;31m---------------------------------------------------------------------------\u001b[0m",
      "\u001b[1;31mFileExistsError\u001b[0m                           Traceback (most recent call last)",
      "Cell \u001b[1;32mIn[6], line 1\u001b[0m\n\u001b[1;32m----> 1\u001b[0m \u001b[38;5;28;01mwith\u001b[39;00m \u001b[38;5;28;43mopen\u001b[39;49m\u001b[43m(\u001b[49m\u001b[38;5;124;43m\"\u001b[39;49m\u001b[38;5;124;43mData/test.text\u001b[39;49m\u001b[38;5;124;43m\"\u001b[39;49m\u001b[43m,\u001b[49m\u001b[38;5;124;43m\"\u001b[39;49m\u001b[38;5;124;43mx\u001b[39;49m\u001b[38;5;124;43m\"\u001b[39;49m\u001b[43m)\u001b[49m \u001b[38;5;28;01mas\u001b[39;00m e:\n\u001b[0;32m      2\u001b[0m     e\u001b[38;5;241m.\u001b[39mwrite(\u001b[38;5;124m\"\u001b[39m\u001b[38;5;124mGood Afternoon!!!!\u001b[39m\u001b[38;5;124m\"\u001b[39m)\n\u001b[0;32m      3\u001b[0m     e\u001b[38;5;241m.\u001b[39mwrite(\u001b[38;5;124m\"\u001b[39m\u001b[38;5;124mAll\u001b[39m\u001b[38;5;124m\"\u001b[39m)\n",
      "File \u001b[1;32m~\\AppData\\Local\\Programs\\Python\\Python39\\lib\\site-packages\\IPython\\core\\interactiveshell.py:282\u001b[0m, in \u001b[0;36m_modified_open\u001b[1;34m(file, *args, **kwargs)\u001b[0m\n\u001b[0;32m    275\u001b[0m \u001b[38;5;28;01mif\u001b[39;00m file \u001b[38;5;129;01min\u001b[39;00m {\u001b[38;5;241m0\u001b[39m, \u001b[38;5;241m1\u001b[39m, \u001b[38;5;241m2\u001b[39m}:\n\u001b[0;32m    276\u001b[0m     \u001b[38;5;28;01mraise\u001b[39;00m \u001b[38;5;167;01mValueError\u001b[39;00m(\n\u001b[0;32m    277\u001b[0m         \u001b[38;5;124mf\u001b[39m\u001b[38;5;124m\"\u001b[39m\u001b[38;5;124mIPython won\u001b[39m\u001b[38;5;124m'\u001b[39m\u001b[38;5;124mt let you open fd=\u001b[39m\u001b[38;5;132;01m{\u001b[39;00mfile\u001b[38;5;132;01m}\u001b[39;00m\u001b[38;5;124m by default \u001b[39m\u001b[38;5;124m\"\u001b[39m\n\u001b[0;32m    278\u001b[0m         \u001b[38;5;124m\"\u001b[39m\u001b[38;5;124mas it is likely to crash IPython. If you know what you are doing, \u001b[39m\u001b[38;5;124m\"\u001b[39m\n\u001b[0;32m    279\u001b[0m         \u001b[38;5;124m\"\u001b[39m\u001b[38;5;124myou can use builtins\u001b[39m\u001b[38;5;124m'\u001b[39m\u001b[38;5;124m open.\u001b[39m\u001b[38;5;124m\"\u001b[39m\n\u001b[0;32m    280\u001b[0m     )\n\u001b[1;32m--> 282\u001b[0m \u001b[38;5;28;01mreturn\u001b[39;00m io_open(file, \u001b[38;5;241m*\u001b[39margs, \u001b[38;5;241m*\u001b[39m\u001b[38;5;241m*\u001b[39mkwargs)\n",
      "\u001b[1;31mFileExistsError\u001b[0m: [Errno 17] File exists: 'Data/test.text'"
     ]
    }
   ],
   "source": [
    "with open(\"Data/test.text\",\"x\") as e:\n",
    "    e.write(\"Good Afternoon!!!!\")\n",
    "    e.write(\"All\")"
   ]
  },
  {
   "cell_type": "code",
   "execution_count": 8,
   "id": "a109c22b",
   "metadata": {},
   "outputs": [
    {
     "name": "stdout",
     "output_type": "stream",
     "text": [
      "Enter a range: 2\n",
      "Enter Roll number: PY45\n",
      "Enter Name: Kumar\n",
      "Enter Branch: CSE\n",
      "Enter Roll number: EM78\n",
      "Enter Name: Tarun\n",
      "Enter Branch: ECCE\n"
     ]
    }
   ],
   "source": [
    "with open('Data/input.csv','a') as d:\n",
    "    \n",
    "    d.write(\"RollNumber\"+\",\"+\"Name\"+\",\"+\"Branch\"+\"\\n\")\n",
    "    n = int(input(\"Enter a range: \"))\n",
    "    for i in range(n):\n",
    "        r = input(\"Enter Roll number: \")\n",
    "        n = input(\"Enter Name: \")\n",
    "        b = input(\"Enter Branch: \")\n",
    "        d.write(r+\",\"+n+\",\"+b+\"\\n\")"
   ]
  },
  {
   "cell_type": "code",
   "execution_count": 16,
   "id": "51f1862a",
   "metadata": {},
   "outputs": [
    {
     "name": "stdout",
     "output_type": "stream",
     "text": [
      "['RollNumber,Name,Branch\\n', 'PY45,Kumar,CSE\\n', 'EM78,Tarun,ECCE\\n', 'Sample record']\n"
     ]
    }
   ],
   "source": [
    "with open('Data/input.csv','a') as y:\n",
    "    with open('Data/input.csv','r') as p:\n",
    "        print(p.readlines())\n",
    "        y.write(\"First record\")"
   ]
  },
  {
   "cell_type": "code",
   "execution_count": 22,
   "id": "fa66dd50",
   "metadata": {},
   "outputs": [
    {
     "name": "stdout",
     "output_type": "stream",
     "text": [
      "21551A0546-N.GAYATHRI- GIER(A)\n",
      "['21551A0546', 'N.GAYATHRI', 'GIER(A)']\n"
     ]
    }
   ],
   "source": [
    "k = \"21551A0546-N.GAYATHRI- GIER(A)\"\n",
    "print(k.strip())\n",
    "z = k.split(\"-\")\n",
    "q = []\n",
    "for i in z:\n",
    "    q.append(i.strip())\n",
    "print(q)"
   ]
  },
  {
   "cell_type": "code",
   "execution_count": null,
   "id": "bd36ff26",
   "metadata": {},
   "outputs": [],
   "source": [
    "Output.csv\n",
    "Rollnumber,Name,CollegeCode,Time\n",
    "21551A0546,N.GAYATHRI,GIER(A),1\n",
    "\n",
    "Notfollowedformat.csv\n",
    "Name,Time\n",
    "Muvva Sowmya,10"
   ]
  },
  {
   "cell_type": "code",
   "execution_count": 53,
   "id": "db383d6a",
   "metadata": {},
   "outputs": [
    {
     "name": "stdout",
     "output_type": "stream",
     "text": [
      "{'20NM1A1246- REDDY VASAVI -VIEW': '107', '21551A0546-N.GAYATHRI- GIER(A)': '1', '21551A05D8-Javvaji.Priya-GIER(A)': '1', 'Shalini Kandregula': '2', '21NM1A0451 KASINA KEERTHANA 20999': '3'}\n"
     ]
    }
   ],
   "source": [
    "a = {}\n",
    "with open('Data/Attendance.csv','r') as k:\n",
    "    z = k.readlines()[4:10]\n",
    "#     print(z)\n",
    "    for i in z:\n",
    "        x = i.split(\",\")\n",
    "        u = x[1].split(\"\\n\")\n",
    "        a[x[0]] = u[0]\n",
    "    print(a)"
   ]
  },
  {
   "cell_type": "code",
   "execution_count": null,
   "id": "2efaf905",
   "metadata": {},
   "outputs": [],
   "source": []
  }
 ],
 "metadata": {
  "kernelspec": {
   "display_name": "Python 3 (ipykernel)",
   "language": "python",
   "name": "python3"
  },
  "language_info": {
   "codemirror_mode": {
    "name": "ipython",
    "version": 3
   },
   "file_extension": ".py",
   "mimetype": "text/x-python",
   "name": "python",
   "nbconvert_exporter": "python",
   "pygments_lexer": "ipython3",
   "version": "3.9.13"
  }
 },
 "nbformat": 4,
 "nbformat_minor": 5
}

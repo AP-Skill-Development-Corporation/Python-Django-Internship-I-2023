{
 "cells": [
  {
   "cell_type": "markdown",
   "id": "8178c2e9",
   "metadata": {},
   "source": [
    "## Variable Length Argument"
   ]
  },
  {
   "cell_type": "code",
   "execution_count": 2,
   "id": "e8ad6d79",
   "metadata": {},
   "outputs": [
    {
     "name": "stdout",
     "output_type": "stream",
     "text": [
      "5 <class 'int'>\n",
      "('prasad', 'HD34', 25000, 45) <class 'tuple'>\n"
     ]
    }
   ],
   "source": [
    "def employee(en,*y):\n",
    "    print(en,type(en))\n",
    "    print(y,type(y))\n",
    "    return\n",
    "\n",
    "employee(5,\"prasad\",\"HD34\",25000,45)"
   ]
  },
  {
   "cell_type": "code",
   "execution_count": 3,
   "id": "ba03cc20",
   "metadata": {},
   "outputs": [
    {
     "name": "stdout",
     "output_type": "stream",
     "text": [
      "Enter Employee Id: PY45\n",
      "Kumar 25000 36\n",
      "PY45 <class 'str'>\n",
      "['Kumar', '25000', '36'] <class 'list'>\n",
      "PY45 <class 'str'>\n",
      "(['Kumar', '25000', '36'],) <class 'tuple'>\n"
     ]
    }
   ],
   "source": [
    "def employee(p,*m):\n",
    "    print(p,type(p))\n",
    "    print(m,type(m))\n",
    "    return\n",
    "\n",
    "n = input(\"Enter Employee Id: \")\n",
    "v = input().split()\n",
    "print(n,type(n))\n",
    "print(v,type(v))\n",
    "employee(n,v)"
   ]
  },
  {
   "cell_type": "code",
   "execution_count": 4,
   "id": "9b96aabe",
   "metadata": {},
   "outputs": [
    {
     "name": "stdout",
     "output_type": "stream",
     "text": [
      "Enter Employee Id: LT78\n",
      "Taun\n",
      "LT78 <class 'str'>\n",
      "['Taun'] <class 'list'>\n",
      "LT78 <class 'str'>\n",
      "(('Taun',),) <class 'tuple'>\n"
     ]
    }
   ],
   "source": [
    "def employee(p,*m):\n",
    "    print(p,type(p))\n",
    "    print(m,type(m))\n",
    "    return\n",
    "\n",
    "n = input(\"Enter Employee Id: \")\n",
    "v = input().split()\n",
    "print(n,type(n))\n",
    "print(v,type(v))\n",
    "employee(n,tuple(v))"
   ]
  },
  {
   "cell_type": "code",
   "execution_count": 5,
   "id": "f5be94ba",
   "metadata": {},
   "outputs": [
    {
     "name": "stdout",
     "output_type": "stream",
     "text": [
      "Enter employee id: KY234\n",
      "Enter employee name: Manoj\n",
      "Enter employee salary: 26000\n",
      "Enter employee age: 30\n",
      "==========>Employee Details<===========\n",
      "Employee Name: Manoj\n",
      "Employee Id: KY234\n",
      "Employee Age: 30\n",
      "Employee Salary: 26000\n"
     ]
    }
   ],
   "source": [
    "def employee(q,*d):\n",
    "    print(\"==========>Employee Details<===========\")\n",
    "    print(f\"Employee Name: {d[0]}\")\n",
    "    print(f\"Employee Id: {q}\")\n",
    "    print(f\"Employee Age: {d[2]}\")\n",
    "    print(f\"Employee Salary: {d[1]}\")\n",
    "    return\n",
    "\n",
    "ed = input(\"Enter employee id: \")\n",
    "en = input(\"Enter employee name: \")\n",
    "es = input(\"Enter employee salary: \")\n",
    "ea = int(input(\"Enter employee age: \"))\n",
    "employee(ed,en,es,ea)"
   ]
  },
  {
   "cell_type": "code",
   "execution_count": 9,
   "id": "1c1aeef6",
   "metadata": {},
   "outputs": [
    {
     "name": "stdout",
     "output_type": "stream",
     "text": [
      "Enter Subject1 marks: 56\n",
      "Enter Subject2 marks: 78\n",
      "Enter Subject3 marks: 45\n",
      "Total: 179\n"
     ]
    }
   ],
   "source": [
    "def studentmarks(*mk):\n",
    "    print(f\"Total: {sum(mk)}\")\n",
    "    return\n",
    "\n",
    "s1 = int(input(\"Enter Subject1 marks: \"))\n",
    "s2 = int(input(\"Enter Subject2 marks: \"))\n",
    "s3 = int(input(\"Enter Subject3 marks: \"))\n",
    "studentmarks(s1,s2,s3)"
   ]
  },
  {
   "cell_type": "code",
   "execution_count": 8,
   "id": "0170cab3",
   "metadata": {},
   "outputs": [
    {
     "name": "stdout",
     "output_type": "stream",
     "text": [
      "(1, 8, 9) <class 'tuple'>\n",
      "18\n"
     ]
    }
   ],
   "source": [
    "c = (1,8,9)\n",
    "print(c,type(c))\n",
    "print(sum(c))"
   ]
  },
  {
   "cell_type": "code",
   "execution_count": 11,
   "id": "3553b291",
   "metadata": {},
   "outputs": [
    {
     "name": "stdout",
     "output_type": "stream",
     "text": [
      "{'sname': 'Kishore', 'sbranch': 'ECE'} <class 'dict'>\n"
     ]
    }
   ],
   "source": [
    "def student(**s):\n",
    "    print(s,type(s))\n",
    "    return\n",
    "\n",
    "student(sname=\"Kishore\",sbranch='ECE')"
   ]
  },
  {
   "cell_type": "code",
   "execution_count": 2,
   "id": "a45e8e15",
   "metadata": {},
   "outputs": [
    {
     "name": "stdout",
     "output_type": "stream",
     "text": [
      "Enter a name: Lokesh\n",
      "Enter Marks: 45 78 98 62 45\n",
      "Enter Your id: JY3344\n",
      "{'sid': 'JY3344', 'sname': 'Lokesh', 'smarks': [45, 78, 98, 62, 45]} <class 'dict'>\n",
      "==============================Student Details==============================\n",
      "Student id: JY3344\n",
      "Student Name: Lokesh\n",
      "Student Marks: [45, 78, 98, 62, 45]\n"
     ]
    }
   ],
   "source": [
    "def student(**s):\n",
    "    print(s,type(s))\n",
    "    print(\"=\"*30+\"Student Details\"+\"=\"*30)\n",
    "    print(f\"Student id: {s['sid']}\")\n",
    "    print(f\"Student Name: {s['sname']}\")\n",
    "    print(f\"Student Marks: {s['smarks']}\")\n",
    "    return\n",
    "\n",
    "n = input(\"Enter a name: \")\n",
    "m = input(\"Enter Marks: \").split()\n",
    "z = []\n",
    "for i in m:\n",
    "    z.append(int(i))\n",
    "d = input(\"Enter Your id: \")\n",
    "student(sid=d,sname=n,smarks=z)"
   ]
  },
  {
   "cell_type": "code",
   "execution_count": 14,
   "id": "6938691d",
   "metadata": {},
   "outputs": [
    {
     "name": "stdout",
     "output_type": "stream",
     "text": [
      "==============================\n"
     ]
    }
   ],
   "source": [
    "print(\"=\"*30)"
   ]
  },
  {
   "cell_type": "code",
   "execution_count": 3,
   "id": "211b7680",
   "metadata": {},
   "outputs": [
    {
     "name": "stdout",
     "output_type": "stream",
     "text": [
      "(45, 89, 45, 78) <class 'tuple'>\n",
      "{'sname': 'Kishore', 'sbranch': 'ECE'} <class 'dict'>\n"
     ]
    }
   ],
   "source": [
    "def student(*h,**s):\n",
    "    print(h,type(h))\n",
    "    print(s,type(s))\n",
    "    return\n",
    "\n",
    "student(45,89,45,78,sname=\"Kishore\",sbranch='ECE')"
   ]
  },
  {
   "cell_type": "code",
   "execution_count": 4,
   "id": "16d78482",
   "metadata": {},
   "outputs": [
    {
     "ename": "SyntaxError",
     "evalue": "positional argument follows keyword argument (3167752482.py, line 6)",
     "output_type": "error",
     "traceback": [
      "\u001b[1;36m  Cell \u001b[1;32mIn[4], line 6\u001b[1;36m\u001b[0m\n\u001b[1;33m    student(45,89,45,78,sname=\"Kishore\",sbranch='ECE',\"Guntur\")\u001b[0m\n\u001b[1;37m                                                              ^\u001b[0m\n\u001b[1;31mSyntaxError\u001b[0m\u001b[1;31m:\u001b[0m positional argument follows keyword argument\n"
     ]
    }
   ],
   "source": [
    "def student(*h,**s):\n",
    "    print(h,type(h))\n",
    "    print(s,type(s))\n",
    "    return\n",
    "\n",
    "student(45,89,45,78,sname=\"Kishore\",sbranch='ECE',\"Guntur\")"
   ]
  },
  {
   "cell_type": "code",
   "execution_count": 5,
   "id": "551a6677",
   "metadata": {},
   "outputs": [
    {
     "ename": "SyntaxError",
     "evalue": "invalid syntax (189808390.py, line 1)",
     "output_type": "error",
     "traceback": [
      "\u001b[1;36m  Cell \u001b[1;32mIn[5], line 1\u001b[1;36m\u001b[0m\n\u001b[1;33m    def student(*h,**s,ad=\"Krishna\"):\u001b[0m\n\u001b[1;37m                       ^\u001b[0m\n\u001b[1;31mSyntaxError\u001b[0m\u001b[1;31m:\u001b[0m invalid syntax\n"
     ]
    }
   ],
   "source": [
    "def student(*h,**s,ad=\"Krishna\"):\n",
    "    print(h,type(h))\n",
    "    print(s,type(s))\n",
    "    return\n",
    "\n",
    "student(45,89,45,78,sname=\"Kishore\",sbranch='ECE')"
   ]
  },
  {
   "cell_type": "code",
   "execution_count": 7,
   "id": "f36e9449",
   "metadata": {},
   "outputs": [
    {
     "name": "stdout",
     "output_type": "stream",
     "text": [
      "(45, 89, 45, 78) <class 'tuple'>\n",
      "{'sname': 'Kishore', 'sbranch': 'ECE'} <class 'dict'>\n",
      "Krishna <class 'str'>\n"
     ]
    }
   ],
   "source": [
    "def student(*h,ad=\"Krishna\",**s):\n",
    "    print(h,type(h))\n",
    "    print(s,type(s))\n",
    "    print(ad,type(ad))\n",
    "    return\n",
    "\n",
    "student(45,89,45,78,sname=\"Kishore\",sbranch='ECE')"
   ]
  },
  {
   "cell_type": "code",
   "execution_count": 8,
   "id": "89e3ffe7",
   "metadata": {},
   "outputs": [
    {
     "name": "stdout",
     "output_type": "stream",
     "text": [
      "(45, 89, 45, 78) <class 'tuple'>\n",
      "{'sname': 'Kishore', 'sbranch': 'ECE'} <class 'dict'>\n",
      "Nandyal <class 'str'>\n"
     ]
    }
   ],
   "source": [
    "def student(ad,*h,**s):\n",
    "    print(h,type(h))\n",
    "    print(s,type(s))\n",
    "    print(ad,type(ad))\n",
    "    return\n",
    "\n",
    "student(\"Nandyal\",45,89,45,78,sname=\"Kishore\",sbranch='ECE')"
   ]
  },
  {
   "cell_type": "code",
   "execution_count": 9,
   "id": "06b70a15",
   "metadata": {},
   "outputs": [
    {
     "ename": "SyntaxError",
     "evalue": "positional argument follows keyword argument (3136514539.py, line 7)",
     "output_type": "error",
     "traceback": [
      "\u001b[1;36m  Cell \u001b[1;32mIn[9], line 7\u001b[1;36m\u001b[0m\n\u001b[1;33m    student(ea=20,\"Nandyal\",45,89,45,78,sname=\"Kishore\",sbranch='ECE')\u001b[0m\n\u001b[1;37m                                                                     ^\u001b[0m\n\u001b[1;31mSyntaxError\u001b[0m\u001b[1;31m:\u001b[0m positional argument follows keyword argument\n"
     ]
    }
   ],
   "source": [
    "def student(ad,*h,**s):\n",
    "    print(h,type(h))\n",
    "    print(s,type(s))\n",
    "    print(ad,type(ad))\n",
    "    return\n",
    "\n",
    "student(ea=20,\"Nandyal\",45,89,45,78,sname=\"Kishore\",sbranch='ECE')"
   ]
  },
  {
   "cell_type": "markdown",
   "id": "9e97b597",
   "metadata": {},
   "source": [
    "# Task \n",
    "    - Try to use functions types\n",
    "```\n",
    "1.Create Contact\n",
    "    name:\n",
    "    mobilenumber:\n",
    "    email:\n",
    "    \n",
    "2.Display contact List\n",
    "    ============ Contact List =================\n",
    "    |Name        |Mobile      |Email          |\n",
    "    ===========================================\n",
    "    |Somu        |8978454556  |somu@gmail.com |\n",
    "    -------------------------------------------\n",
    "    |Tilak       |7845785466  |tilak@gmail.com|\n",
    "    ===========================================\n",
    "\n",
    "3. Update contact\n",
    "    Enter Mobile Number: 6859878854\n",
    "    6859878854 Contact doesnt Exists\n",
    "    \n",
    "    Enter Mobile Number: 8978454556\n",
    "        1.Name\n",
    "        2.Number\n",
    "        3.Email\n",
    "        4.Exit\n",
    "        Enter Your choice: 1\n",
    "        Enter New name: Lokesh\n",
    "        Lokesh is updated to your contact instead of Somu\n",
    "        Enter Your Choice: 4\n",
    "        Exit\n",
    "\n",
    "4. Delete Contact\n",
    "    Enter Mobile Number: 6859878854\n",
    "    6859878854 Contact doesnt Exists\n",
    "    \n",
    "    Enter Mobile Number: 8978454556\n",
    "    Your contact with name: Lokesh mobile number:8978454556 is deleted in your contact\n",
    "```"
   ]
  },
  {
   "cell_type": "code",
   "execution_count": null,
   "id": "e3d35d09",
   "metadata": {},
   "outputs": [],
   "source": []
  }
 ],
 "metadata": {
  "kernelspec": {
   "display_name": "Python 3 (ipykernel)",
   "language": "python",
   "name": "python3"
  },
  "language_info": {
   "codemirror_mode": {
    "name": "ipython",
    "version": 3
   },
   "file_extension": ".py",
   "mimetype": "text/x-python",
   "name": "python",
   "nbconvert_exporter": "python",
   "pygments_lexer": "ipython3",
   "version": "3.9.13"
  }
 },
 "nbformat": 4,
 "nbformat_minor": 5
}

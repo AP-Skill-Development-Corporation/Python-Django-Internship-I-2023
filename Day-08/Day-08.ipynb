{
 "cells": [
  {
   "cell_type": "markdown",
   "id": "6c8f0c86",
   "metadata": {},
   "source": [
    "## Dictionary:\n",
    "    - It can be represented as \"{}\" empty{} => dictionary\n",
    "    - It stores data in key and value pair format\n",
    "    - It stores all data type values\n",
    "    - It allows duplicate values but not for keys\n",
    "    - It can be typecasted as dict()\n",
    "    - It changes a value \n",
    "    - Slicing can be done for values but not for keys"
   ]
  },
  {
   "cell_type": "code",
   "execution_count": 1,
   "id": "4c4fadac",
   "metadata": {},
   "outputs": [
    {
     "name": "stdout",
     "output_type": "stream",
     "text": [
      "{'student name': ['Kiran', 'Pooja', 'Lalitha', 'Somu'], 'age': 45} <class 'dict'>\n"
     ]
    }
   ],
   "source": [
    "b = {'student name':['Kiran','Pooja','Lalitha','Somu'],'age':45}\n",
    "print(b,type(b))"
   ]
  },
  {
   "cell_type": "code",
   "execution_count": 3,
   "id": "030742b5",
   "metadata": {},
   "outputs": [
    {
     "ename": "KeyError",
     "evalue": "0",
     "output_type": "error",
     "traceback": [
      "\u001b[1;31m---------------------------------------------------------------------------\u001b[0m",
      "\u001b[1;31mKeyError\u001b[0m                                  Traceback (most recent call last)",
      "Cell \u001b[1;32mIn[3], line 2\u001b[0m\n\u001b[0;32m      1\u001b[0m \u001b[38;5;28;01mfor\u001b[39;00m i \u001b[38;5;129;01min\u001b[39;00m \u001b[38;5;28mrange\u001b[39m(\u001b[38;5;28mlen\u001b[39m(b)):\n\u001b[1;32m----> 2\u001b[0m     \u001b[38;5;28mprint\u001b[39m(\u001b[43mb\u001b[49m\u001b[43m[\u001b[49m\u001b[43mi\u001b[49m\u001b[43m]\u001b[49m,\u001b[38;5;28mtype\u001b[39m(b[i]))\n",
      "\u001b[1;31mKeyError\u001b[0m: 0"
     ]
    }
   ],
   "source": [
    "for i in range(len(b)):\n",
    "    print(b[i],type(b[i]))"
   ]
  },
  {
   "cell_type": "code",
   "execution_count": 4,
   "id": "c1b8f7d6",
   "metadata": {},
   "outputs": [
    {
     "name": "stdout",
     "output_type": "stream",
     "text": [
      "student name <class 'str'>\n",
      "age <class 'str'>\n"
     ]
    }
   ],
   "source": [
    "for i in b:\n",
    "    print(i,type(i))"
   ]
  },
  {
   "cell_type": "code",
   "execution_count": 5,
   "id": "c59c9062",
   "metadata": {},
   "outputs": [
    {
     "name": "stdout",
     "output_type": "stream",
     "text": [
      "['__class__', '__class_getitem__', '__contains__', '__delattr__', '__delitem__', '__dir__', '__doc__', '__eq__', '__format__', '__ge__', '__getattribute__', '__getitem__', '__gt__', '__hash__', '__init__', '__init_subclass__', '__ior__', '__iter__', '__le__', '__len__', '__lt__', '__ne__', '__new__', '__or__', '__reduce__', '__reduce_ex__', '__repr__', '__reversed__', '__ror__', '__setattr__', '__setitem__', '__sizeof__', '__str__', '__subclasshook__', 'clear', 'copy', 'fromkeys', 'get', 'items', 'keys', 'pop', 'popitem', 'setdefault', 'update', 'values']\n"
     ]
    }
   ],
   "source": [
    "print(dir(dict))"
   ]
  },
  {
   "cell_type": "code",
   "execution_count": 8,
   "id": "cd41b758",
   "metadata": {},
   "outputs": [
    {
     "name": "stdout",
     "output_type": "stream",
     "text": [
      "dict_items([('student name', ['Kiran', 'Pooja', 'Lalitha', 'Somu']), ('age', 45)])\n",
      "dict_keys(['student name', 'age'])\n",
      "dict_values([['Kiran', 'Pooja', 'Lalitha', 'Somu'], 45])\n"
     ]
    }
   ],
   "source": [
    "print(b.items())\n",
    "print(b.keys())\n",
    "print(b.values())"
   ]
  },
  {
   "cell_type": "code",
   "execution_count": 12,
   "id": "8d85982d",
   "metadata": {},
   "outputs": [
    {
     "name": "stdout",
     "output_type": "stream",
     "text": [
      "('student name', ['Kiran', 'Pooja', 'Lalitha', 'Somu']) <class 'tuple'>\n",
      "('age', 45) <class 'tuple'>\n"
     ]
    }
   ],
   "source": [
    "for i in b.items():\n",
    "    print(i,type(i))"
   ]
  },
  {
   "cell_type": "code",
   "execution_count": 14,
   "id": "9d32959f",
   "metadata": {},
   "outputs": [
    {
     "name": "stdout",
     "output_type": "stream",
     "text": [
      "{'student name': ['Kiran', 'Pooja', 'Lalitha', 'Somu'], 'age': 45}\n",
      "45\n",
      "['Kiran', 'Pooja', 'Lalitha', 'Somu']\n"
     ]
    }
   ],
   "source": [
    "print(b)\n",
    "print(b['age'])\n",
    "print(b['student name'])"
   ]
  },
  {
   "cell_type": "code",
   "execution_count": 15,
   "id": "dd143f22",
   "metadata": {},
   "outputs": [
    {
     "name": "stdout",
     "output_type": "stream",
     "text": [
      "{'student name': ['Kiran', 'Pooja', 'Lalitha', 'Somu'], 'age': 45}\n",
      "['Kiran', 'Pooja', 'Lalitha', 'Somu']\n",
      "45\n"
     ]
    }
   ],
   "source": [
    "print(b)\n",
    "print(b.get('student name'))\n",
    "print(b.get('age'))"
   ]
  },
  {
   "cell_type": "code",
   "execution_count": 16,
   "id": "cc534e0b",
   "metadata": {},
   "outputs": [
    {
     "name": "stdout",
     "output_type": "stream",
     "text": [
      "{'student name': ['Kiran', 'Pooja', 'Lalitha', 'Somu'], 'age': 45}\n",
      "{'student name': ['Kiran', 'Pooja', 'Lalitha', 'Somu'], 'age': 45, 'Branch': None}\n"
     ]
    }
   ],
   "source": [
    "print(b)\n",
    "b.setdefault('Branch')\n",
    "print(b)"
   ]
  },
  {
   "cell_type": "code",
   "execution_count": 20,
   "id": "d4990436",
   "metadata": {},
   "outputs": [
    {
     "name": "stdout",
     "output_type": "stream",
     "text": [
      "{'student name': ['Kiran', 'Pooja', 'Lalitha', 'Somu'], 'age': 45, 'Branch': None}\n",
      "{'student name': ['Kiran', 'Pooja', 'Lalitha', 'Somu'], 'age': 45, 'Branch': None, 'Address': 'VJD'}\n"
     ]
    }
   ],
   "source": [
    "print(b)\n",
    "b.setdefault('Address','VJD')\n",
    "print(b)"
   ]
  },
  {
   "cell_type": "code",
   "execution_count": 21,
   "id": "e5ac4f45",
   "metadata": {},
   "outputs": [
    {
     "name": "stdout",
     "output_type": "stream",
     "text": [
      "{'student name': ['Kiran', 'Pooja', 'Lalitha', 'Somu'], 'age': 45, 'Branch': None, 'Address': 'VJD'}\n",
      "{'student name': ['Kiran', 'Pooja', 'Lalitha', 'Somu'], 'age': 45, 'Branch': 'CSE', 'Address': 'VJD'}\n"
     ]
    }
   ],
   "source": [
    "print(b)\n",
    "b['Branch'] = 'CSE'\n",
    "print(b)"
   ]
  },
  {
   "cell_type": "code",
   "execution_count": 22,
   "id": "2f5f6f3b",
   "metadata": {},
   "outputs": [
    {
     "name": "stdout",
     "output_type": "stream",
     "text": [
      "{'student name': ['Kiran', 'Pooja', 'Lalitha', 'Somu'], 'age': 45, 'Branch': 'CSE', 'Address': 'VJD'}\n",
      "{'student name': ['Kiran', 'Pooja', 'Lalitha', 'Somu'], 'age': 45, 'Branch': 'CSE', 'Address': 'Gnt'}\n"
     ]
    }
   ],
   "source": [
    "print(b)\n",
    "b.update({'Address':'Gnt'})\n",
    "print(b)"
   ]
  },
  {
   "cell_type": "code",
   "execution_count": 23,
   "id": "24b796e6",
   "metadata": {},
   "outputs": [
    {
     "name": "stdout",
     "output_type": "stream",
     "text": [
      "{'student name': ['Kiran', 'Pooja', 'Lalitha', 'Somu'], 'age': 45, 'Branch': 'CSE', 'Address': 'Gnt'}\n"
     ]
    },
    {
     "ename": "TypeError",
     "evalue": "pop expected at least 1 argument, got 0",
     "output_type": "error",
     "traceback": [
      "\u001b[1;31m---------------------------------------------------------------------------\u001b[0m",
      "\u001b[1;31mTypeError\u001b[0m                                 Traceback (most recent call last)",
      "Cell \u001b[1;32mIn[23], line 2\u001b[0m\n\u001b[0;32m      1\u001b[0m \u001b[38;5;28mprint\u001b[39m(b)\n\u001b[1;32m----> 2\u001b[0m \u001b[43mb\u001b[49m\u001b[38;5;241;43m.\u001b[39;49m\u001b[43mpop\u001b[49m\u001b[43m(\u001b[49m\u001b[43m)\u001b[49m\n\u001b[0;32m      3\u001b[0m \u001b[38;5;28mprint\u001b[39m(b)\n",
      "\u001b[1;31mTypeError\u001b[0m: pop expected at least 1 argument, got 0"
     ]
    }
   ],
   "source": [
    "print(b)\n",
    "b.pop()\n",
    "print(b)"
   ]
  },
  {
   "cell_type": "code",
   "execution_count": 24,
   "id": "ca986e01",
   "metadata": {},
   "outputs": [
    {
     "name": "stdout",
     "output_type": "stream",
     "text": [
      "{'student name': ['Kiran', 'Pooja', 'Lalitha', 'Somu'], 'age': 45, 'Branch': 'CSE', 'Address': 'Gnt'}\n",
      "{'student name': ['Kiran', 'Pooja', 'Lalitha', 'Somu'], 'Branch': 'CSE', 'Address': 'Gnt'}\n"
     ]
    }
   ],
   "source": [
    "print(b)\n",
    "b.pop('age')\n",
    "print(b)"
   ]
  },
  {
   "cell_type": "code",
   "execution_count": 25,
   "id": "a4f5156b",
   "metadata": {},
   "outputs": [
    {
     "name": "stdout",
     "output_type": "stream",
     "text": [
      "{'student name': ['Kiran', 'Pooja', 'Lalitha', 'Somu'], 'Branch': 'CSE', 'Address': 'Gnt'}\n",
      "{'student name': ['Kiran', 'Pooja', 'Lalitha', 'Somu'], 'Branch': 'CSE'}\n"
     ]
    }
   ],
   "source": [
    "print(b)\n",
    "b.popitem()\n",
    "print(b)"
   ]
  },
  {
   "cell_type": "code",
   "execution_count": 26,
   "id": "62803621",
   "metadata": {},
   "outputs": [
    {
     "name": "stdout",
     "output_type": "stream",
     "text": [
      "{'student name': ['Kiran', 'Pooja', 'Lalitha', 'Somu'], 'Branch': 'CSE'}\n"
     ]
    },
    {
     "ename": "TypeError",
     "evalue": "dict.popitem() takes no arguments (1 given)",
     "output_type": "error",
     "traceback": [
      "\u001b[1;31m---------------------------------------------------------------------------\u001b[0m",
      "\u001b[1;31mTypeError\u001b[0m                                 Traceback (most recent call last)",
      "Cell \u001b[1;32mIn[26], line 2\u001b[0m\n\u001b[0;32m      1\u001b[0m \u001b[38;5;28mprint\u001b[39m(b)\n\u001b[1;32m----> 2\u001b[0m \u001b[43mb\u001b[49m\u001b[38;5;241;43m.\u001b[39;49m\u001b[43mpopitem\u001b[49m\u001b[43m(\u001b[49m\u001b[38;5;124;43m'\u001b[39;49m\u001b[38;5;124;43mstudent name\u001b[39;49m\u001b[38;5;124;43m'\u001b[39;49m\u001b[43m)\u001b[49m\n\u001b[0;32m      3\u001b[0m \u001b[38;5;28mprint\u001b[39m(b)\n",
      "\u001b[1;31mTypeError\u001b[0m: dict.popitem() takes no arguments (1 given)"
     ]
    }
   ],
   "source": [
    "print(b)\n",
    "b.popitem('student name')\n",
    "print(b)"
   ]
  },
  {
   "cell_type": "code",
   "execution_count": 27,
   "id": "892ceb81",
   "metadata": {},
   "outputs": [
    {
     "name": "stdout",
     "output_type": "stream",
     "text": [
      "{'Student Name': None, 'Roll Number': None}\n"
     ]
    }
   ],
   "source": [
    "x = ['Student Name','Roll Number']\n",
    "v = {}\n",
    "v = v.fromkeys(x)\n",
    "print(v)"
   ]
  },
  {
   "cell_type": "markdown",
   "id": "613667ef",
   "metadata": {},
   "source": [
    "## Set:\n",
    "    - It can be represented as \"{}\" with a single value in it\n",
    "    - It allows all data type values\n",
    "    - It doesnt allows duplicate values\n",
    "    - It can be typecasted as set()\n",
    "    - Slicing cant be done because of no index\n",
    "    - It stores data in unorder format\n",
    "    - It changes a value"
   ]
  },
  {
   "cell_type": "code",
   "execution_count": 28,
   "id": "4b243909",
   "metadata": {},
   "outputs": [
    {
     "name": "stdout",
     "output_type": "stream",
     "text": [
      "{} <class 'dict'>\n",
      "{'45'} <class 'set'>\n"
     ]
    }
   ],
   "source": [
    "w = {}\n",
    "v = {'45'}\n",
    "print(w,type(w))\n",
    "print(v,type(v))"
   ]
  },
  {
   "cell_type": "code",
   "execution_count": 29,
   "id": "6e7eb028",
   "metadata": {},
   "outputs": [
    {
     "name": "stdout",
     "output_type": "stream",
     "text": [
      "[] <class 'list'>\n",
      "[] <class 'list'>\n"
     ]
    }
   ],
   "source": [
    "x = []\n",
    "b = list()\n",
    "print(x,type(x))\n",
    "print(b,type(b))"
   ]
  },
  {
   "cell_type": "code",
   "execution_count": 32,
   "id": "e572ab89",
   "metadata": {},
   "outputs": [
    {
     "name": "stdout",
     "output_type": "stream",
     "text": [
      "{True, 12, 56.0121, '1.023', (90+6j), None, 'Ganesh'} <class 'set'>\n"
     ]
    }
   ],
   "source": [
    "h = {12,56.0121,'Ganesh',True,None,90+6j,12,12,12,'1.023'}\n",
    "print(h,type(h))"
   ]
  },
  {
   "cell_type": "code",
   "execution_count": 33,
   "id": "5ee5ef84",
   "metadata": {},
   "outputs": [
    {
     "data": {
      "text/plain": [
       "{(90+6j), '1.023', 12, 56.0121, 'Ganesh', None, True}"
      ]
     },
     "execution_count": 33,
     "metadata": {},
     "output_type": "execute_result"
    }
   ],
   "source": [
    "h"
   ]
  },
  {
   "cell_type": "code",
   "execution_count": 34,
   "id": "c3383afb",
   "metadata": {},
   "outputs": [
    {
     "name": "stdout",
     "output_type": "stream",
     "text": [
      "['__and__', '__class__', '__class_getitem__', '__contains__', '__delattr__', '__dir__', '__doc__', '__eq__', '__format__', '__ge__', '__getattribute__', '__gt__', '__hash__', '__iand__', '__init__', '__init_subclass__', '__ior__', '__isub__', '__iter__', '__ixor__', '__le__', '__len__', '__lt__', '__ne__', '__new__', '__or__', '__rand__', '__reduce__', '__reduce_ex__', '__repr__', '__ror__', '__rsub__', '__rxor__', '__setattr__', '__sizeof__', '__str__', '__sub__', '__subclasshook__', '__xor__', 'add', 'clear', 'copy', 'difference', 'difference_update', 'discard', 'intersection', 'intersection_update', 'isdisjoint', 'issubset', 'issuperset', 'pop', 'remove', 'symmetric_difference', 'symmetric_difference_update', 'union', 'update']\n"
     ]
    }
   ],
   "source": [
    "print(dir(set))"
   ]
  },
  {
   "cell_type": "code",
   "execution_count": 35,
   "id": "55357e57",
   "metadata": {},
   "outputs": [
    {
     "name": "stdout",
     "output_type": "stream",
     "text": [
      "{5, 102, 56, 89, 78}\n",
      "{560, 450, 5, 7895, 78}\n",
      "{450, 5, 102, 78, 560, 7895, 56, 89}\n",
      "{450, 5, 102, 78, 560, 7895, 56, 89}\n"
     ]
    }
   ],
   "source": [
    "a = {5,78,56,89,102}\n",
    "b = {5,78,450,7895,560}\n",
    "print(a)\n",
    "print(b)\n",
    "print(a.union(b))\n",
    "print(b.union(a))"
   ]
  },
  {
   "cell_type": "code",
   "execution_count": 36,
   "id": "56ba6924",
   "metadata": {},
   "outputs": [
    {
     "name": "stdout",
     "output_type": "stream",
     "text": [
      "{5, 102, 56, 89, 78}\n",
      "{560, 450, 5, 7895, 78}\n",
      "{5, 78}\n",
      "{5, 78}\n"
     ]
    }
   ],
   "source": [
    "print(a)\n",
    "print(b)\n",
    "print(a.intersection(b))\n",
    "print(b.intersection(a))"
   ]
  },
  {
   "cell_type": "code",
   "execution_count": 37,
   "id": "c5357052",
   "metadata": {},
   "outputs": [
    {
     "name": "stdout",
     "output_type": "stream",
     "text": [
      "{5, 102, 56, 89, 78}\n",
      "{560, 450, 5, 7895, 78}\n",
      "{56, 89, 102}\n",
      "{560, 450, 7895}\n"
     ]
    }
   ],
   "source": [
    "print(a)\n",
    "print(b)\n",
    "print(a.difference(b))\n",
    "print(b.difference(a))"
   ]
  },
  {
   "cell_type": "code",
   "execution_count": 38,
   "id": "f63cf808",
   "metadata": {},
   "outputs": [
    {
     "name": "stdout",
     "output_type": "stream",
     "text": [
      "{5, 102, 56, 89, 78}\n",
      "{560, 450, 5, 7895, 78}\n",
      "{560, 450, 102, 7895, 56, 89}\n",
      "{560, 450, 102, 7895, 56, 89}\n"
     ]
    }
   ],
   "source": [
    "print(a)\n",
    "print(b)\n",
    "print(a.symmetric_difference(b))\n",
    "print(b.symmetric_difference(a))"
   ]
  },
  {
   "cell_type": "code",
   "execution_count": 39,
   "id": "aebc1296",
   "metadata": {},
   "outputs": [
    {
     "name": "stdout",
     "output_type": "stream",
     "text": [
      "{5, 102, 56, 89, 78}\n",
      "{5, 102, 56, 89, 45, 78}\n"
     ]
    }
   ],
   "source": [
    "print(a)\n",
    "a.add(45)\n",
    "print(a)"
   ]
  },
  {
   "cell_type": "code",
   "execution_count": 40,
   "id": "464dd4ed",
   "metadata": {},
   "outputs": [
    {
     "name": "stdout",
     "output_type": "stream",
     "text": [
      "{5, 102, 56, 89, 45, 78}\n",
      "{102, 56, 89, 45, 78}\n"
     ]
    }
   ],
   "source": [
    "print(a)\n",
    "a.pop()\n",
    "print(a)"
   ]
  },
  {
   "cell_type": "code",
   "execution_count": 41,
   "id": "f69fa3ce",
   "metadata": {},
   "outputs": [
    {
     "name": "stdout",
     "output_type": "stream",
     "text": [
      "{102, 56, 89, 45, 78}\n"
     ]
    },
    {
     "ename": "TypeError",
     "evalue": "set.pop() takes no arguments (1 given)",
     "output_type": "error",
     "traceback": [
      "\u001b[1;31m---------------------------------------------------------------------------\u001b[0m",
      "\u001b[1;31mTypeError\u001b[0m                                 Traceback (most recent call last)",
      "Cell \u001b[1;32mIn[41], line 2\u001b[0m\n\u001b[0;32m      1\u001b[0m \u001b[38;5;28mprint\u001b[39m(a)\n\u001b[1;32m----> 2\u001b[0m \u001b[43ma\u001b[49m\u001b[38;5;241;43m.\u001b[39;49m\u001b[43mpop\u001b[49m\u001b[43m(\u001b[49m\u001b[38;5;241;43m78\u001b[39;49m\u001b[43m)\u001b[49m\n\u001b[0;32m      3\u001b[0m \u001b[38;5;28mprint\u001b[39m()\n",
      "\u001b[1;31mTypeError\u001b[0m: set.pop() takes no arguments (1 given)"
     ]
    }
   ],
   "source": [
    "print(a)\n",
    "a.pop(78)\n",
    "print()"
   ]
  },
  {
   "cell_type": "code",
   "execution_count": 42,
   "id": "a63268e0",
   "metadata": {},
   "outputs": [
    {
     "name": "stdout",
     "output_type": "stream",
     "text": [
      "{102, 56, 89, 45, 78}\n"
     ]
    },
    {
     "ename": "TypeError",
     "evalue": "set.pop() takes no arguments (1 given)",
     "output_type": "error",
     "traceback": [
      "\u001b[1;31m---------------------------------------------------------------------------\u001b[0m",
      "\u001b[1;31mTypeError\u001b[0m                                 Traceback (most recent call last)",
      "Cell \u001b[1;32mIn[42], line 2\u001b[0m\n\u001b[0;32m      1\u001b[0m \u001b[38;5;28mprint\u001b[39m(a)\n\u001b[1;32m----> 2\u001b[0m \u001b[43ma\u001b[49m\u001b[38;5;241;43m.\u001b[39;49m\u001b[43mpop\u001b[49m\u001b[43m(\u001b[49m\u001b[38;5;241;43m178\u001b[39;49m\u001b[43m)\u001b[49m\n\u001b[0;32m      3\u001b[0m \u001b[38;5;28mprint\u001b[39m()\n",
      "\u001b[1;31mTypeError\u001b[0m: set.pop() takes no arguments (1 given)"
     ]
    }
   ],
   "source": [
    "print(a)\n",
    "a.pop(178)\n",
    "print()"
   ]
  },
  {
   "cell_type": "code",
   "execution_count": 43,
   "id": "446ae9ee",
   "metadata": {},
   "outputs": [
    {
     "name": "stdout",
     "output_type": "stream",
     "text": [
      "{102, 56, 89, 45, 78}\n",
      "{102, 56, 45, 78}\n"
     ]
    }
   ],
   "source": [
    "print(a)\n",
    "a.remove(89)\n",
    "print(a)"
   ]
  },
  {
   "cell_type": "code",
   "execution_count": 44,
   "id": "e74b0868",
   "metadata": {},
   "outputs": [
    {
     "name": "stdout",
     "output_type": "stream",
     "text": [
      "{102, 56, 45, 78}\n"
     ]
    },
    {
     "ename": "KeyError",
     "evalue": "-500",
     "output_type": "error",
     "traceback": [
      "\u001b[1;31m---------------------------------------------------------------------------\u001b[0m",
      "\u001b[1;31mKeyError\u001b[0m                                  Traceback (most recent call last)",
      "Cell \u001b[1;32mIn[44], line 2\u001b[0m\n\u001b[0;32m      1\u001b[0m \u001b[38;5;28mprint\u001b[39m(a)\n\u001b[1;32m----> 2\u001b[0m \u001b[43ma\u001b[49m\u001b[38;5;241;43m.\u001b[39;49m\u001b[43mremove\u001b[49m\u001b[43m(\u001b[49m\u001b[38;5;241;43m-\u001b[39;49m\u001b[38;5;241;43m500\u001b[39;49m\u001b[43m)\u001b[49m\n\u001b[0;32m      3\u001b[0m \u001b[38;5;28mprint\u001b[39m(a)\n",
      "\u001b[1;31mKeyError\u001b[0m: -500"
     ]
    }
   ],
   "source": [
    "print(a)\n",
    "a.remove(-500)\n",
    "print(a)"
   ]
  },
  {
   "cell_type": "code",
   "execution_count": 45,
   "id": "e8e90c20",
   "metadata": {},
   "outputs": [
    {
     "name": "stdout",
     "output_type": "stream",
     "text": [
      "{102, 56, 45, 78}\n",
      "{560, 450, 5, 7895, 78}\n"
     ]
    }
   ],
   "source": [
    "print(a)\n",
    "print(b)"
   ]
  },
  {
   "cell_type": "code",
   "execution_count": 46,
   "id": "c4652244",
   "metadata": {},
   "outputs": [
    {
     "name": "stdout",
     "output_type": "stream",
     "text": [
      "{102, 56, 45, 78}\n",
      "{560, 450, 5, 7895, 78}\n",
      "{78}\n",
      "{560, 450, 5, 7895, 78}\n"
     ]
    }
   ],
   "source": [
    "print(a)\n",
    "print(b)\n",
    "a.intersection_update(b)\n",
    "print(a)\n",
    "print(b)"
   ]
  },
  {
   "cell_type": "code",
   "execution_count": 47,
   "id": "d6653675",
   "metadata": {},
   "outputs": [
    {
     "name": "stdout",
     "output_type": "stream",
     "text": [
      "{89, 2, 3, 45}\n",
      "{450, 3, 89, 12, 78}\n",
      "{89, 2, 3, 45}\n",
      "{450, 12, 78}\n"
     ]
    }
   ],
   "source": [
    "p = {45,89,45,3,2}\n",
    "q = {12,89,3,450,78}\n",
    "print(p)\n",
    "print(q)\n",
    "q.difference_update(p)\n",
    "print(p)\n",
    "print(q)"
   ]
  },
  {
   "cell_type": "code",
   "execution_count": 48,
   "id": "46736b65",
   "metadata": {},
   "outputs": [
    {
     "name": "stdout",
     "output_type": "stream",
     "text": [
      "{8, 5, 6, 7}\n",
      "{8, 89, 5, 63}\n",
      "{6, 7, 89, 63}\n",
      "{8, 89, 5, 63}\n"
     ]
    }
   ],
   "source": [
    "z = {5,8,6,5,7}\n",
    "y = {5,89,63,8}\n",
    "print(z)\n",
    "print(y)\n",
    "z.symmetric_difference_update(y)\n",
    "print(z)\n",
    "print(y)"
   ]
  },
  {
   "cell_type": "code",
   "execution_count": 49,
   "id": "82823f74",
   "metadata": {},
   "outputs": [
    {
     "name": "stdout",
     "output_type": "stream",
     "text": [
      "{8, 89, 5, 63}\n"
     ]
    },
    {
     "ename": "TypeError",
     "evalue": "'int' object is not iterable",
     "output_type": "error",
     "traceback": [
      "\u001b[1;31m---------------------------------------------------------------------------\u001b[0m",
      "\u001b[1;31mTypeError\u001b[0m                                 Traceback (most recent call last)",
      "Cell \u001b[1;32mIn[49], line 2\u001b[0m\n\u001b[0;32m      1\u001b[0m \u001b[38;5;28mprint\u001b[39m(y)\n\u001b[1;32m----> 2\u001b[0m \u001b[43my\u001b[49m\u001b[38;5;241;43m.\u001b[39;49m\u001b[43mupdate\u001b[49m\u001b[43m(\u001b[49m\u001b[38;5;241;43m48\u001b[39;49m\u001b[43m,\u001b[49m\u001b[38;5;241;43m56\u001b[39;49m\u001b[43m)\u001b[49m\n\u001b[0;32m      3\u001b[0m \u001b[38;5;28mprint\u001b[39m(y)\n",
      "\u001b[1;31mTypeError\u001b[0m: 'int' object is not iterable"
     ]
    }
   ],
   "source": [
    "print(y)\n",
    "y.update(48,56)\n",
    "print(y)"
   ]
  },
  {
   "cell_type": "code",
   "execution_count": 50,
   "id": "82312522",
   "metadata": {},
   "outputs": [
    {
     "name": "stdout",
     "output_type": "stream",
     "text": [
      "{8, 89, 5, 63}\n",
      "{5, 8, 48, 56, 89, 63}\n"
     ]
    }
   ],
   "source": [
    "print(y)\n",
    "y.update([48,56])\n",
    "print(y)"
   ]
  },
  {
   "cell_type": "code",
   "execution_count": 51,
   "id": "80b2c64b",
   "metadata": {},
   "outputs": [
    {
     "name": "stdout",
     "output_type": "stream",
     "text": [
      "{5, 8, 48, 56, 89, 63}\n",
      "{480, 5, 8, 48, 56, 89, 63}\n"
     ]
    }
   ],
   "source": [
    "print(y)\n",
    "y.update((480,5))\n",
    "print(y)"
   ]
  },
  {
   "cell_type": "code",
   "execution_count": 52,
   "id": "c76658b3",
   "metadata": {},
   "outputs": [
    {
     "name": "stdout",
     "output_type": "stream",
     "text": [
      "{480, 5, 8, 48, 56, 89, 63}\n",
      "{480, 8, 48, 56, 89, 63}\n"
     ]
    }
   ],
   "source": [
    "print(y)\n",
    "y.discard(5)\n",
    "print(y)"
   ]
  },
  {
   "cell_type": "code",
   "execution_count": 53,
   "id": "4ab13e28",
   "metadata": {},
   "outputs": [
    {
     "name": "stdout",
     "output_type": "stream",
     "text": [
      "{480, 8, 48, 56, 89, 63}\n",
      "{8, 48, 56, 89, 63}\n"
     ]
    }
   ],
   "source": [
    "print(y)\n",
    "y.discard(480)\n",
    "print(y)"
   ]
  },
  {
   "cell_type": "code",
   "execution_count": 54,
   "id": "82af5564",
   "metadata": {},
   "outputs": [
    {
     "name": "stdout",
     "output_type": "stream",
     "text": [
      "{8, 48, 56, 89, 63}\n"
     ]
    },
    {
     "ename": "TypeError",
     "evalue": "set.discard() takes exactly one argument (2 given)",
     "output_type": "error",
     "traceback": [
      "\u001b[1;31m---------------------------------------------------------------------------\u001b[0m",
      "\u001b[1;31mTypeError\u001b[0m                                 Traceback (most recent call last)",
      "Cell \u001b[1;32mIn[54], line 2\u001b[0m\n\u001b[0;32m      1\u001b[0m \u001b[38;5;28mprint\u001b[39m(y)\n\u001b[1;32m----> 2\u001b[0m \u001b[43my\u001b[49m\u001b[38;5;241;43m.\u001b[39;49m\u001b[43mdiscard\u001b[49m\u001b[43m(\u001b[49m\u001b[38;5;241;43m89\u001b[39;49m\u001b[43m,\u001b[49m\u001b[38;5;241;43m63\u001b[39;49m\u001b[43m)\u001b[49m\n\u001b[0;32m      3\u001b[0m \u001b[38;5;28mprint\u001b[39m(y)\n",
      "\u001b[1;31mTypeError\u001b[0m: set.discard() takes exactly one argument (2 given)"
     ]
    }
   ],
   "source": [
    "print(y)\n",
    "y.discard(89,63)\n",
    "print(y)"
   ]
  },
  {
   "cell_type": "markdown",
   "id": "f7c7f492",
   "metadata": {},
   "source": [
    "## Strings:\n",
    "    - It can be represented as ' or \"\n",
    "    - It changes a values\n",
    "    - It can be typecasted as str()\n",
    "    - Slicing can be done because of index\n",
    "    - It allows all data types\n",
    "    - It stores data in order format"
   ]
  },
  {
   "cell_type": "code",
   "execution_count": 55,
   "id": "5ffbe554",
   "metadata": {},
   "outputs": [
    {
     "name": "stdout",
     "output_type": "stream",
     "text": [
      "This is an example for a string <class 'str'>\n"
     ]
    }
   ],
   "source": [
    "e = \"This is an example for a string\"\n",
    "print(e,type(e))"
   ]
  },
  {
   "cell_type": "code",
   "execution_count": 58,
   "id": "06655ea0",
   "metadata": {},
   "outputs": [
    {
     "name": "stdout",
     "output_type": "stream",
     "text": [
      "s\n",
      "s is \n",
      " is an \n",
      "gnirts a rof elpmaxe na si sihT\n"
     ]
    }
   ],
   "source": [
    "print(e[6])\n",
    "print(e[3:8])\n",
    "print(e[4:11:1])\n",
    "print(e[::-1])"
   ]
  },
  {
   "cell_type": "code",
   "execution_count": 61,
   "id": "fe56f717",
   "metadata": {},
   "outputs": [
    {
     "name": "stdout",
     "output_type": "stream",
     "text": [
      "T h i s   i s   a n   e x a m p l e   f o r   a   s t r i n g "
     ]
    }
   ],
   "source": [
    "for i in range(len(e)):\n",
    "    print(e[i],end=\" \")"
   ]
  },
  {
   "cell_type": "code",
   "execution_count": 62,
   "id": "2685414f",
   "metadata": {},
   "outputs": [
    {
     "name": "stdout",
     "output_type": "stream",
     "text": [
      "T h i s   i s   a n   e x a m p l e   f o r   a   s t r i n g "
     ]
    }
   ],
   "source": [
    "for i in e:\n",
    "    print(i,end=\" \")"
   ]
  },
  {
   "cell_type": "code",
   "execution_count": 63,
   "id": "fe45841d",
   "metadata": {},
   "outputs": [
    {
     "name": "stdout",
     "output_type": "stream",
     "text": [
      "['__add__', '__class__', '__contains__', '__delattr__', '__dir__', '__doc__', '__eq__', '__format__', '__ge__', '__getattribute__', '__getitem__', '__getnewargs__', '__gt__', '__hash__', '__init__', '__init_subclass__', '__iter__', '__le__', '__len__', '__lt__', '__mod__', '__mul__', '__ne__', '__new__', '__reduce__', '__reduce_ex__', '__repr__', '__rmod__', '__rmul__', '__setattr__', '__sizeof__', '__str__', '__subclasshook__', 'capitalize', 'casefold', 'center', 'count', 'encode', 'endswith', 'expandtabs', 'find', 'format', 'format_map', 'index', 'isalnum', 'isalpha', 'isascii', 'isdecimal', 'isdigit', 'isidentifier', 'islower', 'isnumeric', 'isprintable', 'isspace', 'istitle', 'isupper', 'join', 'ljust', 'lower', 'lstrip', 'maketrans', 'partition', 'removeprefix', 'removesuffix', 'replace', 'rfind', 'rindex', 'rjust', 'rpartition', 'rsplit', 'rstrip', 'split', 'splitlines', 'startswith', 'strip', 'swapcase', 'title', 'translate', 'upper', 'zfill']\n"
     ]
    }
   ],
   "source": [
    "print(dir(str))"
   ]
  },
  {
   "cell_type": "code",
   "execution_count": 65,
   "id": "7f22860f",
   "metadata": {},
   "outputs": [
    {
     "name": "stdout",
     "output_type": "stream",
     "text": [
      "this is a string program\n",
      "This is a string program\n",
      "This Is A String Program\n",
      "tHiS iS A sTRING pRogRAm\n",
      "THIS IS A STRING PROGRAM\n",
      "this is a string program\n"
     ]
    }
   ],
   "source": [
    "p = \"ThIs Is a String PrOGraM\"\n",
    "print(p.casefold())\n",
    "print(p.capitalize())\n",
    "print(p.title())\n",
    "print(p.swapcase())\n",
    "print(p.upper())\n",
    "print(p.lower())"
   ]
  },
  {
   "cell_type": "code",
   "execution_count": 66,
   "id": "bd6424a1",
   "metadata": {},
   "outputs": [
    {
     "name": "stdout",
     "output_type": "stream",
     "text": [
      "   THis is an Example For String\n",
      "SamPle Program On Data Structures    \n"
     ]
    }
   ],
   "source": [
    "k = \"   THis is an Example For String\"\n",
    "w = \"SamPle Program On Data Structures    \"\n",
    "print(k)\n",
    "print(w)"
   ]
  },
  {
   "cell_type": "code",
   "execution_count": 67,
   "id": "18f7b07d",
   "metadata": {},
   "outputs": [
    {
     "name": "stdout",
     "output_type": "stream",
     "text": [
      "   THis is an Example For String\n",
      "SamPle Program On Data Structures    \n",
      "THis is an Example For String\n",
      "SamPle Program On Data Structures\n"
     ]
    }
   ],
   "source": [
    "print(k)\n",
    "print(w)\n",
    "print(k.strip())\n",
    "print(w.strip())"
   ]
  },
  {
   "cell_type": "code",
   "execution_count": 69,
   "id": "d40ede3f",
   "metadata": {},
   "outputs": [
    {
     "name": "stdout",
     "output_type": "stream",
     "text": [
      "   THis is an Example For String\n",
      "SamPle Program On Data Structures    \n",
      "THis is an Example For String\n",
      "SamPle Program On Data Structures\n"
     ]
    }
   ],
   "source": [
    "print(k)\n",
    "print(w)\n",
    "print(k.lstrip())\n",
    "print(w.rstrip())"
   ]
  },
  {
   "cell_type": "code",
   "execution_count": 87,
   "id": "d6d16b3f",
   "metadata": {},
   "outputs": [
    {
     "name": "stdout",
     "output_type": "stream",
     "text": [
      "   THis is an Example For String\n",
      "SamPle Program On Data Structures    \n",
      "   THis is an Example For String                  \n",
      "             SamPle Program On Data Structures    \n",
      "                     THis is an Example For String\n",
      "SamPle Program On Data Structures                 \n",
      "                           THis is an Example For String                        \n",
      "                     SamPle Program On Data Structures                          \n",
      "000000000000000000   THis is an Example For String\n",
      "0000000000000SamPle Program On Data Structures    \n"
     ]
    }
   ],
   "source": [
    "print(k)\n",
    "print(w)\n",
    "print(k.ljust(50))\n",
    "print(w.rjust(50))\n",
    "print(k.rjust(50))\n",
    "print(w.ljust(50))\n",
    "print(k.center(80))\n",
    "print(w.center(80))\n",
    "print(k.zfill(50))\n",
    "print(w.zfill(50))"
   ]
  },
  {
   "cell_type": "code",
   "execution_count": 83,
   "id": "58033b10",
   "metadata": {},
   "outputs": [
    {
     "name": "stdout",
     "output_type": "stream",
     "text": [
      "   THis is an Example For String\n",
      "5\n",
      "-1\n",
      "29\n"
     ]
    }
   ],
   "source": [
    "print(k)\n",
    "print(k.find('i'))\n",
    "print(k.find('z'))\n",
    "print(k.rfind('i'))"
   ]
  },
  {
   "cell_type": "code",
   "execution_count": 85,
   "id": "46b1023b",
   "metadata": {},
   "outputs": [
    {
     "name": "stdout",
     "output_type": "stream",
     "text": [
      "   THis is an Example For String\n",
      "11\n",
      "29\n"
     ]
    }
   ],
   "source": [
    "print(k)\n",
    "print(k.index('a'))\n",
    "# print(k.index('y'))\n",
    "print(k.rindex('i'))"
   ]
  },
  {
   "cell_type": "code",
   "execution_count": 91,
   "id": "1383de19",
   "metadata": {},
   "outputs": [
    {
     "name": "stdout",
     "output_type": "stream",
     "text": [
      "There is an Apple Near to you\n",
      "['There', 'is', 'an', 'Apple', 'Near', 'to', 'you']\n",
      "['Th', 'r', ' is an Appl', ' N', 'ar to you']\n",
      "T$h$e$r$e$ $i$s$ $a$n$ $A$p$p$l$e$ $N$e$a$r$ $t$o$ $y$o$u\n"
     ]
    }
   ],
   "source": [
    "z = \"There is an Apple Near to you\"\n",
    "print(z)\n",
    "print(z.split())\n",
    "print(z.split('e'))\n",
    "x = \"$\".join(z)\n",
    "print(x)"
   ]
  },
  {
   "cell_type": "code",
   "execution_count": 97,
   "id": "1f25f21b",
   "metadata": {},
   "outputs": [
    {
     "name": "stdout",
     "output_type": "stream",
     "text": [
      "T-h-e-r-e- -i-s- -a-n- -A-p-p-l-e- -N-e-a-r- -t-o- -y-o-u 2676358342224\n",
      "T=h=e=r=e= =i=s= =a=n= =A=p=p=l=e= =N=e=a=r= =t=o= =y=o=u 2676358343568\n"
     ]
    }
   ],
   "source": [
    "print(x,id(x))\n",
    "x = x.replace('-','=')\n",
    "print(x,id(x))"
   ]
  },
  {
   "cell_type": "code",
   "execution_count": 100,
   "id": "9b71279a",
   "metadata": {},
   "outputs": [
    {
     "name": "stdout",
     "output_type": "stream",
     "text": [
      "['Tarun', 'Teja']\n",
      "['Prasad', 'Sampled']\n"
     ]
    }
   ],
   "source": [
    "f = ['Tarun','Teja','Prasad','Sampled']\n",
    "w = []\n",
    "x = []\n",
    "for i in f:\n",
    "    if i.startswith('T'):\n",
    "        w.append(i)\n",
    "    elif i.endswith('d'):\n",
    "        x.append(i)\n",
    "    else:\n",
    "        pass\n",
    "\n",
    "print(w)\n",
    "print(x)"
   ]
  },
  {
   "cell_type": "code",
   "execution_count": null,
   "id": "e8a8927a",
   "metadata": {},
   "outputs": [],
   "source": []
  }
 ],
 "metadata": {
  "kernelspec": {
   "display_name": "Python 3 (ipykernel)",
   "language": "python",
   "name": "python3"
  },
  "language_info": {
   "codemirror_mode": {
    "name": "ipython",
    "version": 3
   },
   "file_extension": ".py",
   "mimetype": "text/x-python",
   "name": "python",
   "nbconvert_exporter": "python",
   "pygments_lexer": "ipython3",
   "version": "3.9.13"
  }
 },
 "nbformat": 4,
 "nbformat_minor": 5
}

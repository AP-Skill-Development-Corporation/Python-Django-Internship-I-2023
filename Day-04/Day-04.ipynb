{
 "cells": [
  {
   "cell_type": "markdown",
   "id": "5ee9e32d",
   "metadata": {},
   "source": [
    "# APSSDC Internship"
   ]
  },
  {
   "cell_type": "markdown",
   "id": "c53f3de5",
   "metadata": {},
   "source": [
    "# Python Basics"
   ]
  },
  {
   "cell_type": "markdown",
   "id": "2966d1de",
   "metadata": {},
   "source": [
    "# Variable\n",
    "    - To store a value\n",
    "    - To change a value\n",
    "    Syntax:\n",
    "        variablename = value"
   ]
  },
  {
   "cell_type": "code",
   "execution_count": 1,
   "id": "680a5a97",
   "metadata": {},
   "outputs": [
    {
     "data": {
      "text/plain": [
       "78"
      ]
     },
     "execution_count": 1,
     "metadata": {},
     "output_type": "execute_result"
    }
   ],
   "source": [
    "w = 78\n",
    "w"
   ]
  },
  {
   "cell_type": "code",
   "execution_count": 2,
   "id": "3347dbd1",
   "metadata": {},
   "outputs": [
    {
     "data": {
      "text/plain": [
       "45.015"
      ]
     },
     "execution_count": 2,
     "metadata": {},
     "output_type": "execute_result"
    }
   ],
   "source": [
    "h = 45.015\n",
    "h"
   ]
  },
  {
   "cell_type": "code",
   "execution_count": 3,
   "id": "37e1915b",
   "metadata": {},
   "outputs": [
    {
     "data": {
      "text/plain": [
       "78"
      ]
     },
     "execution_count": 3,
     "metadata": {},
     "output_type": "execute_result"
    }
   ],
   "source": [
    "h\n",
    "w"
   ]
  },
  {
   "cell_type": "code",
   "execution_count": 4,
   "id": "021415fa",
   "metadata": {},
   "outputs": [
    {
     "data": {
      "text/plain": [
       "45.015"
      ]
     },
     "execution_count": 4,
     "metadata": {},
     "output_type": "execute_result"
    }
   ],
   "source": [
    "w\n",
    "h"
   ]
  },
  {
   "cell_type": "code",
   "execution_count": 7,
   "id": "5198babb",
   "metadata": {},
   "outputs": [
    {
     "data": {
      "text/plain": [
       "(45.015, 78)"
      ]
     },
     "execution_count": 7,
     "metadata": {},
     "output_type": "execute_result"
    }
   ],
   "source": [
    "h,w"
   ]
  },
  {
   "cell_type": "code",
   "execution_count": 8,
   "id": "71b14059",
   "metadata": {},
   "outputs": [
    {
     "data": {
      "text/plain": [
       "(78, 45.015)"
      ]
     },
     "execution_count": 8,
     "metadata": {},
     "output_type": "execute_result"
    }
   ],
   "source": [
    "w,h"
   ]
  },
  {
   "cell_type": "code",
   "execution_count": 9,
   "id": "4d3e504c",
   "metadata": {},
   "outputs": [
    {
     "data": {
      "text/plain": [
       "(78, 45.015)"
      ]
     },
     "execution_count": 9,
     "metadata": {},
     "output_type": "execute_result"
    }
   ],
   "source": [
    "h,w\n",
    "w,h"
   ]
  },
  {
   "cell_type": "markdown",
   "id": "cc2188f4",
   "metadata": {},
   "source": [
    "## Data Types:\n",
    "    - integer => Only numeric values\n",
    "    - float => numeric and decimal values\n",
    "    - string => enclosed with ' or \"\n",
    "    - boolean => True or False\n",
    "    - complex => real and imaginary\n",
    "    - none => None\n",
    "    - Data Structures Like [List,Tuple,Set and Dictionary]"
   ]
  },
  {
   "cell_type": "markdown",
   "id": "f615e4eb",
   "metadata": {},
   "source": [
    "## Variable Assignments:\n",
    "    - single variable to single value\n",
    "    - n number of variables to n number of values\n",
    "    - n number of variables to single values"
   ]
  },
  {
   "cell_type": "code",
   "execution_count": 10,
   "id": "9277e4d9",
   "metadata": {},
   "outputs": [
    {
     "data": {
      "text/plain": [
       "('45', 'Prasad')"
      ]
     },
     "execution_count": 10,
     "metadata": {},
     "output_type": "execute_result"
    }
   ],
   "source": [
    "a = '45'\n",
    "b = 'Prasad'\n",
    "a,b"
   ]
  },
  {
   "cell_type": "code",
   "execution_count": 11,
   "id": "be336554",
   "metadata": {},
   "outputs": [
    {
     "data": {
      "text/plain": [
       "(12.015, 86, '89.012', True)"
      ]
     },
     "execution_count": 11,
     "metadata": {},
     "output_type": "execute_result"
    }
   ],
   "source": [
    "z,v,b,n = 12.015,86,'89.012',True\n",
    "z,v,b,n"
   ]
  },
  {
   "cell_type": "code",
   "execution_count": 12,
   "id": "2f89677e",
   "metadata": {},
   "outputs": [
    {
     "ename": "ValueError",
     "evalue": "too many values to unpack (expected 3)",
     "output_type": "error",
     "traceback": [
      "\u001b[1;31m------------------------------------------------------------\u001b[0m",
      "\u001b[1;31mValueError\u001b[0m                 Traceback (most recent call last)",
      "Cell \u001b[1;32mIn[12], line 1\u001b[0m\n\u001b[1;32m----> 1\u001b[0m z,v,b \u001b[38;5;241m=\u001b[39m \u001b[38;5;241m12.015\u001b[39m,\u001b[38;5;241m86\u001b[39m,\u001b[38;5;124m'\u001b[39m\u001b[38;5;124m89.012\u001b[39m\u001b[38;5;124m'\u001b[39m,\u001b[38;5;28;01mTrue\u001b[39;00m\n\u001b[0;32m      2\u001b[0m z,v,b\n",
      "\u001b[1;31mValueError\u001b[0m: too many values to unpack (expected 3)"
     ]
    }
   ],
   "source": [
    "z,v,b = 12.015,86,'89.012',True\n",
    "z,v,b"
   ]
  },
  {
   "cell_type": "code",
   "execution_count": 13,
   "id": "38eba1d8",
   "metadata": {},
   "outputs": [
    {
     "ename": "ValueError",
     "evalue": "not enough values to unpack (expected 5, got 4)",
     "output_type": "error",
     "traceback": [
      "\u001b[1;31m------------------------------------------------------------\u001b[0m",
      "\u001b[1;31mValueError\u001b[0m                 Traceback (most recent call last)",
      "Cell \u001b[1;32mIn[13], line 1\u001b[0m\n\u001b[1;32m----> 1\u001b[0m z,v,b,n,w \u001b[38;5;241m=\u001b[39m \u001b[38;5;241m12.015\u001b[39m,\u001b[38;5;241m86\u001b[39m,\u001b[38;5;124m'\u001b[39m\u001b[38;5;124m89.012\u001b[39m\u001b[38;5;124m'\u001b[39m,\u001b[38;5;28;01mTrue\u001b[39;00m\n\u001b[0;32m      2\u001b[0m z,v,b,n,w\n",
      "\u001b[1;31mValueError\u001b[0m: not enough values to unpack (expected 5, got 4)"
     ]
    }
   ],
   "source": [
    "z,v,b,n,w = 12.015,86,'89.012',True\n",
    "z,v,b,n,w"
   ]
  },
  {
   "cell_type": "code",
   "execution_count": 14,
   "id": "e561e2e4",
   "metadata": {},
   "outputs": [
    {
     "data": {
      "text/plain": [
       "(500, 500, 500, 500)"
      ]
     },
     "execution_count": 14,
     "metadata": {},
     "output_type": "execute_result"
    }
   ],
   "source": [
    "t = y = p = d = 500\n",
    "t,y,p,d"
   ]
  },
  {
   "cell_type": "markdown",
   "id": "2b42f9e4",
   "metadata": {},
   "source": [
    "## Type:\n",
    "    - To know the data type of a value\n",
    "    Syntax:\n",
    "        type(variablename)"
   ]
  },
  {
   "cell_type": "code",
   "execution_count": 16,
   "id": "115a755e",
   "metadata": {},
   "outputs": [
    {
     "data": {
      "text/plain": [
       "('78', str)"
      ]
     },
     "execution_count": 16,
     "metadata": {},
     "output_type": "execute_result"
    }
   ],
   "source": [
    "x = '78'\n",
    "x,type(x)"
   ]
  },
  {
   "cell_type": "code",
   "execution_count": 17,
   "id": "73cbb1fe",
   "metadata": {},
   "outputs": [
    {
     "data": {
      "text/plain": [
       "str"
      ]
     },
     "execution_count": 17,
     "metadata": {},
     "output_type": "execute_result"
    }
   ],
   "source": [
    "type(x)"
   ]
  },
  {
   "cell_type": "code",
   "execution_count": 18,
   "id": "7680929a",
   "metadata": {},
   "outputs": [
    {
     "data": {
      "text/plain": [
       "'8563'"
      ]
     },
     "execution_count": 18,
     "metadata": {},
     "output_type": "execute_result"
    }
   ],
   "source": [
    "g = '8563'\n",
    "g"
   ]
  },
  {
   "cell_type": "code",
   "execution_count": 20,
   "id": "87de96f6",
   "metadata": {},
   "outputs": [
    {
     "name": "stdout",
     "output_type": "stream",
     "text": [
      "8563 <class 'str'>\n"
     ]
    }
   ],
   "source": [
    "print(g,type(g))"
   ]
  },
  {
   "cell_type": "code",
   "execution_count": 22,
   "id": "2f61c80b",
   "metadata": {},
   "outputs": [
    {
     "name": "stdout",
     "output_type": "stream",
     "text": [
      "45 <class 'int'>\n",
      "865.0 <class 'float'>\n",
      "Likitha <class 'str'>\n",
      "(4+5j) <class 'complex'>\n",
      "None <class 'NoneType'>\n",
      "False <class 'bool'>\n"
     ]
    }
   ],
   "source": [
    "a,b,c,d,e,f = 45,865.00,'Likitha',4+5j,None,False\n",
    "print(a,type(a))\n",
    "print(b,type(b))\n",
    "print(c,type(c))\n",
    "print(d,type(d))\n",
    "print(e,type(e))\n",
    "print(f,type(f))"
   ]
  },
  {
   "cell_type": "markdown",
   "id": "d081abf4",
   "metadata": {},
   "source": [
    "## Input Formatting:\n",
    "    - It displays an info to a user\n",
    "    - It reads an input from a user\n",
    "    - By default it stores a string data type value\n",
    "    Syntax:\n",
    "        variablename = input(\"info to a user\")"
   ]
  },
  {
   "cell_type": "code",
   "execution_count": 7,
   "id": "27b6d2ab",
   "metadata": {},
   "outputs": [
    {
     "name": "stdout",
     "output_type": "stream",
     "text": [
      "Enter a value: 4+34j\n",
      "4+34j <class 'str'>\n"
     ]
    }
   ],
   "source": [
    "n = input(\"Enter a value: \")\n",
    "print(n,type(n))"
   ]
  },
  {
   "cell_type": "code",
   "execution_count": 2,
   "id": "7b98087e",
   "metadata": {},
   "outputs": [
    {
     "data": {
      "text/plain": [
       "10"
      ]
     },
     "execution_count": 2,
     "metadata": {},
     "output_type": "execute_result"
    }
   ],
   "source": [
    "x = 10\n",
    "x"
   ]
  },
  {
   "cell_type": "code",
   "execution_count": 3,
   "id": "a13e5563",
   "metadata": {},
   "outputs": [
    {
     "data": {
      "text/plain": [
       "10"
      ]
     },
     "execution_count": 3,
     "metadata": {},
     "output_type": "execute_result"
    }
   ],
   "source": [
    "x"
   ]
  },
  {
   "cell_type": "code",
   "execution_count": 8,
   "id": "b8839309",
   "metadata": {},
   "outputs": [
    {
     "name": "stdout",
     "output_type": "stream",
     "text": [
      "Enter a value: 78\n",
      "Enter b value: 56\n",
      "78 <class 'str'> 56 <class 'str'>\n"
     ]
    }
   ],
   "source": [
    "n,m = input(\"Enter a value: \"),input(\"Enter b value: \")\n",
    "print(n,type(n),m,type(m))"
   ]
  },
  {
   "cell_type": "markdown",
   "id": "bf4f13bc",
   "metadata": {},
   "source": [
    "```\n",
    "Input:\n",
    "    Enter a value: 2\n",
    "    Enter b value: 6\n",
    "\n",
    "Output:\n",
    "    Entered values are 2 and 6\n",
    "```"
   ]
  },
  {
   "cell_type": "code",
   "execution_count": 10,
   "id": "01a7a297",
   "metadata": {},
   "outputs": [
    {
     "name": "stdout",
     "output_type": "stream",
     "text": [
      "Enter a value: 2\n",
      "Enter b value: 6\n",
      "Entered values are 2 and 6\n",
      "Entered values are 2 and 6\n"
     ]
    }
   ],
   "source": [
    "n,m = input(\"Enter a value: \"),input(\"Enter b value: \")\n",
    "print(\"Entered values are\",n,\"and\",m)\n",
    "print(\"Entered values are \"+n+\" and \"+m)"
   ]
  },
  {
   "cell_type": "markdown",
   "id": "afaefaf6",
   "metadata": {},
   "source": [
    "## Output Formatting:\n",
    "    - , +\n",
    "    - % format specifier\n",
    "    - .format\n",
    "    - f\n",
    "    https://pyformat.info/ for reference"
   ]
  },
  {
   "cell_type": "code",
   "execution_count": 11,
   "id": "be6223d7",
   "metadata": {},
   "outputs": [
    {
     "name": "stdout",
     "output_type": "stream",
     "text": [
      "Enter a value: 5\n",
      "Enter b value: 8\n",
      "Entered values are 5 and 8\n",
      "Entered values are 5 and 8\n",
      "Entered values are 5 and 8\n",
      "Entered values are 8 and 5\n",
      "Entered values are 5 and 8\n"
     ]
    }
   ],
   "source": [
    "n,m = input(\"Enter a value: \"),input(\"Enter b value: \")\n",
    "print(\"Entered values are\",n,\"and\",m)\n",
    "print(\"Entered values are %s and %s\"%(n,m))\n",
    "print(\"Entered values are {} and {}\".format(n,m))\n",
    "print(\"Entered values are {1} and {0}\".format(n,m))\n",
    "print(f\"Entered values are {n} and {m}\")"
   ]
  },
  {
   "cell_type": "code",
   "execution_count": null,
   "id": "f508f12a",
   "metadata": {},
   "outputs": [],
   "source": []
  }
 ],
 "metadata": {
  "kernelspec": {
   "display_name": "Python 3 (ipykernel)",
   "language": "python",
   "name": "python3"
  },
  "language_info": {
   "codemirror_mode": {
    "name": "ipython",
    "version": 3
   },
   "file_extension": ".py",
   "mimetype": "text/x-python",
   "name": "python",
   "nbconvert_exporter": "python",
   "pygments_lexer": "ipython3",
   "version": "3.9.13"
  }
 },
 "nbformat": 4,
 "nbformat_minor": 5
}

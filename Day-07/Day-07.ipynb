{
 "cells": [
  {
   "cell_type": "code",
   "execution_count": 1,
   "id": "64895308",
   "metadata": {},
   "outputs": [
    {
     "name": "stdout",
     "output_type": "stream",
     "text": [
      "['__add__', '__class__', '__class_getitem__', '__contains__', '__delattr__', '__delitem__', '__dir__', '__doc__', '__eq__', '__format__', '__ge__', '__getattribute__', '__getitem__', '__gt__', '__hash__', '__iadd__', '__imul__', '__init__', '__init_subclass__', '__iter__', '__le__', '__len__', '__lt__', '__mul__', '__ne__', '__new__', '__reduce__', '__reduce_ex__', '__repr__', '__reversed__', '__rmul__', '__setattr__', '__setitem__', '__sizeof__', '__str__', '__subclasshook__', 'append', 'clear', 'copy', 'count', 'extend', 'index', 'insert', 'pop', 'remove', 'reverse', 'sort']\n"
     ]
    }
   ],
   "source": [
    "print(dir(list))"
   ]
  },
  {
   "cell_type": "code",
   "execution_count": 2,
   "id": "a45c4f97",
   "metadata": {},
   "outputs": [
    {
     "name": "stdout",
     "output_type": "stream",
     "text": [
      "Built-in mutable sequence.\n",
      "\n",
      "If no argument is given, the constructor creates a new empty list.\n",
      "The argument must be an iterable if specified.\n"
     ]
    }
   ],
   "source": [
    "print(list.__doc__)"
   ]
  },
  {
   "cell_type": "code",
   "execution_count": 3,
   "id": "7057bda0",
   "metadata": {},
   "outputs": [
    {
     "name": "stdout",
     "output_type": "stream",
     "text": [
      "Insert object before index.\n"
     ]
    }
   ],
   "source": [
    "print(list.insert.__doc__)"
   ]
  },
  {
   "cell_type": "code",
   "execution_count": 4,
   "id": "05e9944b",
   "metadata": {},
   "outputs": [
    {
     "name": "stdout",
     "output_type": "stream",
     "text": [
      "Help on method_descriptor:\n",
      "\n",
      "insert(self, index, object, /)\n",
      "    Insert object before index.\n",
      "\n"
     ]
    }
   ],
   "source": [
    "help(list.insert)"
   ]
  },
  {
   "cell_type": "code",
   "execution_count": 6,
   "id": "8805b09b",
   "metadata": {
    "collapsed": true
   },
   "outputs": [
    {
     "name": "stdout",
     "output_type": "stream",
     "text": [
      "Help on class list in module builtins:\n",
      "\n",
      "class list(object)\n",
      " |  list(iterable=(), /)\n",
      " |  \n",
      " |  Built-in mutable sequence.\n",
      " |  \n",
      " |  If no argument is given, the constructor creates a new empty list.\n",
      " |  The argument must be an iterable if specified.\n",
      " |  \n",
      " |  Methods defined here:\n",
      " |  \n",
      " |  __add__(self, value, /)\n",
      " |      Return self+value.\n",
      " |  \n",
      " |  __contains__(self, key, /)\n",
      " |      Return key in self.\n",
      " |  \n",
      " |  __delitem__(self, key, /)\n",
      " |      Delete self[key].\n",
      " |  \n",
      " |  __eq__(self, value, /)\n",
      " |      Return self==value.\n",
      " |  \n",
      " |  __ge__(self, value, /)\n",
      " |      Return self>=value.\n",
      " |  \n",
      " |  __getattribute__(self, name, /)\n",
      " |      Return getattr(self, name).\n",
      " |  \n",
      " |  __getitem__(...)\n",
      " |      x.__getitem__(y) <==> x[y]\n",
      " |  \n",
      " |  __gt__(self, value, /)\n",
      " |      Return self>value.\n",
      " |  \n",
      " |  __iadd__(self, value, /)\n",
      " |      Implement self+=value.\n",
      " |  \n",
      " |  __imul__(self, value, /)\n",
      " |      Implement self*=value.\n",
      " |  \n",
      " |  __init__(self, /, *args, **kwargs)\n",
      " |      Initialize self.  See help(type(self)) for accurate signature.\n",
      " |  \n",
      " |  __iter__(self, /)\n",
      " |      Implement iter(self).\n",
      " |  \n",
      " |  __le__(self, value, /)\n",
      " |      Return self<=value.\n",
      " |  \n",
      " |  __len__(self, /)\n",
      " |      Return len(self).\n",
      " |  \n",
      " |  __lt__(self, value, /)\n",
      " |      Return self<value.\n",
      " |  \n",
      " |  __mul__(self, value, /)\n",
      " |      Return self*value.\n",
      " |  \n",
      " |  __ne__(self, value, /)\n",
      " |      Return self!=value.\n",
      " |  \n",
      " |  __repr__(self, /)\n",
      " |      Return repr(self).\n",
      " |  \n",
      " |  __reversed__(self, /)\n",
      " |      Return a reverse iterator over the list.\n",
      " |  \n",
      " |  __rmul__(self, value, /)\n",
      " |      Return value*self.\n",
      " |  \n",
      " |  __setitem__(self, key, value, /)\n",
      " |      Set self[key] to value.\n",
      " |  \n",
      " |  __sizeof__(self, /)\n",
      " |      Return the size of the list in memory, in bytes.\n",
      " |  \n",
      " |  append(self, object, /)\n",
      " |      Append object to the end of the list.\n",
      " |  \n",
      " |  clear(self, /)\n",
      " |      Remove all items from list.\n",
      " |  \n",
      " |  copy(self, /)\n",
      " |      Return a shallow copy of the list.\n",
      " |  \n",
      " |  count(self, value, /)\n",
      " |      Return number of occurrences of value.\n",
      " |  \n",
      " |  extend(self, iterable, /)\n",
      " |      Extend list by appending elements from the iterable.\n",
      " |  \n",
      " |  index(self, value, start=0, stop=9223372036854775807, /)\n",
      " |      Return first index of value.\n",
      " |      \n",
      " |      Raises ValueError if the value is not present.\n",
      " |  \n",
      " |  insert(self, index, object, /)\n",
      " |      Insert object before index.\n",
      " |  \n",
      " |  pop(self, index=-1, /)\n",
      " |      Remove and return item at index (default last).\n",
      " |      \n",
      " |      Raises IndexError if list is empty or index is out of range.\n",
      " |  \n",
      " |  remove(self, value, /)\n",
      " |      Remove first occurrence of value.\n",
      " |      \n",
      " |      Raises ValueError if the value is not present.\n",
      " |  \n",
      " |  reverse(self, /)\n",
      " |      Reverse *IN PLACE*.\n",
      " |  \n",
      " |  sort(self, /, *, key=None, reverse=False)\n",
      " |      Sort the list in ascending order and return None.\n",
      " |      \n",
      " |      The sort is in-place (i.e. the list itself is modified) and stable (i.e. the\n",
      " |      order of two equal elements is maintained).\n",
      " |      \n",
      " |      If a key function is given, apply it once to each list item and sort them,\n",
      " |      ascending or descending, according to their function values.\n",
      " |      \n",
      " |      The reverse flag can be set to sort in descending order.\n",
      " |  \n",
      " |  ----------------------------------------------------------------------\n",
      " |  Class methods defined here:\n",
      " |  \n",
      " |  __class_getitem__(...) from builtins.type\n",
      " |      See PEP 585\n",
      " |  \n",
      " |  ----------------------------------------------------------------------\n",
      " |  Static methods defined here:\n",
      " |  \n",
      " |  __new__(*args, **kwargs) from builtins.type\n",
      " |      Create and return a new object.  See help(type) for accurate signature.\n",
      " |  \n",
      " |  ----------------------------------------------------------------------\n",
      " |  Data and other attributes defined here:\n",
      " |  \n",
      " |  __hash__ = None\n",
      "\n"
     ]
    }
   ],
   "source": [
    "help(list)"
   ]
  },
  {
   "cell_type": "code",
   "execution_count": 7,
   "id": "84d967fc",
   "metadata": {},
   "outputs": [
    {
     "name": "stdout",
     "output_type": "stream",
     "text": [
      "[12, 89, 45, 7, 89, 6, 5, 83, 6, 5, 4, 8, 12, 12]\n"
     ]
    }
   ],
   "source": [
    "p = [12,89,45,7,89,6,5,83,6,5,4,8,12,12]\n",
    "print(p)"
   ]
  },
  {
   "cell_type": "code",
   "execution_count": 9,
   "id": "96409871",
   "metadata": {},
   "outputs": [
    {
     "name": "stdout",
     "output_type": "stream",
     "text": [
      "89\n",
      "8\n"
     ]
    }
   ],
   "source": [
    "print(p[4])\n",
    "print(p[-3])"
   ]
  },
  {
   "cell_type": "code",
   "execution_count": 22,
   "id": "5eb7a1d8",
   "metadata": {},
   "outputs": [
    {
     "name": "stdout",
     "output_type": "stream",
     "text": [
      "[12, 89, 45, 7, 89, 6, 5, 83, 6, 5, 4, 8, 12, 12]\n",
      "[12, 89, 45, 7, 89, 6, 5, 83, 6, 5, 4, 8, 12, 12]\n",
      "[7, 89, 6, 5, 83, 6, 5, 4, 8, 12, 12]\n",
      "[4, 8, 12, 12]\n",
      "[12, 89, 45, 7, 89, 6]\n",
      "[12, 89, 45, 7, 89, 6, 5, 83, 6, 5]\n",
      "[89, 6, 5, 83]\n",
      "[5, 83, 6, 5]\n",
      "[89, 6, 5, 83, 6, 5, 4, 8]\n"
     ]
    }
   ],
   "source": [
    "print(p)\n",
    "print(p[:])\n",
    "print(p[3:])\n",
    "print(p[-4:])\n",
    "print(p[:6])\n",
    "print(p[:-4])\n",
    "print(p[4:8])\n",
    "print(p[-8:10])\n",
    "print(p[-10:-2])"
   ]
  },
  {
   "cell_type": "code",
   "execution_count": 42,
   "id": "d94861f9",
   "metadata": {},
   "outputs": [
    {
     "name": "stdout",
     "output_type": "stream",
     "text": [
      "[12, 89, 45, 7, 89, 6, 5, 83, 6, 5, 4, 8, 12, 12]\n",
      "[12, 89, 45, 7, 89, 6, 5, 83, 6, 5, 4, 8, 12, 12]\n",
      "[5, 83, 6, 5, 4, 8, 12, 12]\n",
      "[12, 89, 45, 7, 89, 6, 5]\n",
      "[12, 89, 6, 12]\n",
      "[8, 12, 12]\n",
      "[12, 89, 45, 7, 89, 6, 5, 83]\n",
      "[12, 4, 83, 89, 89]\n",
      "[89, 6, 5, 83]\n",
      "[83, 6, 5]\n",
      "[6, 5]\n",
      "[83, 6, 5, 4]\n",
      "[7, 6, 83, 5]\n",
      "[45, 6]\n",
      "[12, 12, 8, 4, 5, 6, 83, 5, 6, 89, 7, 45, 89, 12]\n"
     ]
    }
   ],
   "source": [
    "print(p)\n",
    "print(p[::])\n",
    "print(p[6::])\n",
    "print(p[:7:])\n",
    "print(p[::4])\n",
    "print(p[-3::])\n",
    "print(p[:-6:])\n",
    "print(p[::-3])\n",
    "print(p[4:8:])\n",
    "print(p[7:-4:])\n",
    "print(p[-6:10:])\n",
    "print(p[-7:-3:])\n",
    "print(p[-11:-3:2])\n",
    "print(p[2:6:3])\n",
    "print(p[::-1])"
   ]
  },
  {
   "cell_type": "code",
   "execution_count": 43,
   "id": "0d033426",
   "metadata": {},
   "outputs": [
    {
     "name": "stdout",
     "output_type": "stream",
     "text": [
      "['__add__', '__class__', '__class_getitem__', '__contains__', '__delattr__', '__delitem__', '__dir__', '__doc__', '__eq__', '__format__', '__ge__', '__getattribute__', '__getitem__', '__gt__', '__hash__', '__iadd__', '__imul__', '__init__', '__init_subclass__', '__iter__', '__le__', '__len__', '__lt__', '__mul__', '__ne__', '__new__', '__reduce__', '__reduce_ex__', '__repr__', '__reversed__', '__rmul__', '__setattr__', '__setitem__', '__sizeof__', '__str__', '__subclasshook__', 'append', 'clear', 'copy', 'count', 'extend', 'index', 'insert', 'pop', 'remove', 'reverse', 'sort']\n"
     ]
    }
   ],
   "source": [
    "print(dir(list))"
   ]
  },
  {
   "cell_type": "code",
   "execution_count": 44,
   "id": "fa0819ea",
   "metadata": {},
   "outputs": [
    {
     "name": "stdout",
     "output_type": "stream",
     "text": [
      "[45]\n"
     ]
    }
   ],
   "source": [
    "m = [45]\n",
    "print(m)"
   ]
  },
  {
   "cell_type": "code",
   "execution_count": 45,
   "id": "bed99663",
   "metadata": {},
   "outputs": [
    {
     "name": "stdout",
     "output_type": "stream",
     "text": [
      "[45]\n",
      "[45, 89]\n"
     ]
    }
   ],
   "source": [
    "print(m)\n",
    "m.append(89)\n",
    "print(m)"
   ]
  },
  {
   "cell_type": "code",
   "execution_count": 47,
   "id": "35ec7af6",
   "metadata": {},
   "outputs": [
    {
     "name": "stdout",
     "output_type": "stream",
     "text": [
      "[45, 89]\n"
     ]
    },
    {
     "ename": "TypeError",
     "evalue": "list.append() takes exactly one argument (2 given)",
     "output_type": "error",
     "traceback": [
      "\u001b[1;31m---------------------------------------------------------------------------\u001b[0m",
      "\u001b[1;31mTypeError\u001b[0m                                 Traceback (most recent call last)",
      "Cell \u001b[1;32mIn[47], line 2\u001b[0m\n\u001b[0;32m      1\u001b[0m \u001b[38;5;28mprint\u001b[39m(m)\n\u001b[1;32m----> 2\u001b[0m \u001b[43mm\u001b[49m\u001b[38;5;241;43m.\u001b[39;49m\u001b[43mappend\u001b[49m\u001b[43m(\u001b[49m\u001b[38;5;241;43m45\u001b[39;49m\u001b[43m,\u001b[49m\u001b[38;5;241;43m56\u001b[39;49m\u001b[43m)\u001b[49m\n\u001b[0;32m      3\u001b[0m \u001b[38;5;28mprint\u001b[39m(m)\n",
      "\u001b[1;31mTypeError\u001b[0m: list.append() takes exactly one argument (2 given)"
     ]
    }
   ],
   "source": [
    "print(m)\n",
    "m.append(45,56)\n",
    "print(m)"
   ]
  },
  {
   "cell_type": "code",
   "execution_count": 48,
   "id": "75f1b891",
   "metadata": {},
   "outputs": [
    {
     "name": "stdout",
     "output_type": "stream",
     "text": [
      "[45, 89]\n",
      "[45, 89, [45, 8, 9, 'Kiran']]\n"
     ]
    }
   ],
   "source": [
    "print(m)\n",
    "m.append([45,8,9,'Kiran'])\n",
    "print(m)"
   ]
  },
  {
   "cell_type": "code",
   "execution_count": 50,
   "id": "e84ac13f",
   "metadata": {},
   "outputs": [
    {
     "name": "stdout",
     "output_type": "stream",
     "text": [
      "[45, 89, [45, 8, 9, 'Kiran'], 'Kamal']\n",
      "[45, 89, [45, 8, 9, 'Kiran'], 'Kamal', 'Kamal is good at teaching']\n"
     ]
    }
   ],
   "source": [
    "print(m)\n",
    "m.append('Kamal is good at teaching')\n",
    "print(m)"
   ]
  },
  {
   "cell_type": "code",
   "execution_count": 51,
   "id": "a3ac8ab2",
   "metadata": {},
   "outputs": [
    {
     "name": "stdout",
     "output_type": "stream",
     "text": [
      "[45, 89, [45, 8, 9, 'Kiran'], 'Kamal', 'Kamal is good at teaching']\n",
      "[45, 89, [45, 8, 9, 'Kiran'], 'Kamal', 'Kamal is good at teaching', (45, '78.021')]\n"
     ]
    }
   ],
   "source": [
    "print(m)\n",
    "m.append((45,'78.021'))\n",
    "print(m)"
   ]
  },
  {
   "cell_type": "code",
   "execution_count": 52,
   "id": "603462d9",
   "metadata": {},
   "outputs": [
    {
     "name": "stdout",
     "output_type": "stream",
     "text": [
      "[45, 89, [45, 8, 9, 'Kiran'], 'Kamal', 'Kamal is good at teaching', (45, '78.021')]\n"
     ]
    },
    {
     "ename": "TypeError",
     "evalue": "'int' object is not iterable",
     "output_type": "error",
     "traceback": [
      "\u001b[1;31m---------------------------------------------------------------------------\u001b[0m",
      "\u001b[1;31mTypeError\u001b[0m                                 Traceback (most recent call last)",
      "Cell \u001b[1;32mIn[52], line 2\u001b[0m\n\u001b[0;32m      1\u001b[0m \u001b[38;5;28mprint\u001b[39m(m)\n\u001b[1;32m----> 2\u001b[0m \u001b[43mm\u001b[49m\u001b[38;5;241;43m.\u001b[39;49m\u001b[43mextend\u001b[49m\u001b[43m(\u001b[49m\u001b[38;5;241;43m89\u001b[39;49m\u001b[43m)\u001b[49m\n\u001b[0;32m      3\u001b[0m \u001b[38;5;28mprint\u001b[39m(m)\n",
      "\u001b[1;31mTypeError\u001b[0m: 'int' object is not iterable"
     ]
    }
   ],
   "source": [
    "print(m)\n",
    "m.extend(89)\n",
    "print(m)"
   ]
  },
  {
   "cell_type": "code",
   "execution_count": 53,
   "id": "39671942",
   "metadata": {},
   "outputs": [
    {
     "name": "stdout",
     "output_type": "stream",
     "text": [
      "[45, 89, [45, 8, 9, 'Kiran'], 'Kamal', 'Kamal is good at teaching', (45, '78.021')]\n",
      "[45, 89, [45, 8, 9, 'Kiran'], 'Kamal', 'Kamal is good at teaching', (45, '78.021'), 12, 78, 89, 78, 1]\n"
     ]
    }
   ],
   "source": [
    "print(m)\n",
    "m.extend([12,78,89,78,1])\n",
    "print(m)"
   ]
  },
  {
   "cell_type": "code",
   "execution_count": 54,
   "id": "c5b4d8a1",
   "metadata": {},
   "outputs": [
    {
     "name": "stdout",
     "output_type": "stream",
     "text": [
      "[45, 89, [45, 8, 9, 'Kiran'], 'Kamal', 'Kamal is good at teaching', (45, '78.021'), 12, 78, 89, 78, 1]\n",
      "[100, 45, 89, [45, 8, 9, 'Kiran'], 'Kamal', 'Kamal is good at teaching', (45, '78.021'), 12, 78, 89, 78, 1]\n"
     ]
    }
   ],
   "source": [
    "print(m)\n",
    "m.insert(0,100)\n",
    "print(m)"
   ]
  },
  {
   "cell_type": "code",
   "execution_count": 56,
   "id": "9e995e74",
   "metadata": {},
   "outputs": [
    {
     "name": "stdout",
     "output_type": "stream",
     "text": [
      "[100, 45, 89, [45, 8, 9, 'Kiran'], 'Kamal', 'Kamal is good at teaching', (45, '78.021'), 12, 78, 89, 78, 1]\n",
      "[[45, 78], 100, 45, 89, [45, 8, 9, 'Kiran'], 'Kamal', 'Kamal is good at teaching', (45, '78.021'), 12, 78, 89, 78, 1]\n"
     ]
    }
   ],
   "source": [
    "print(m)\n",
    "m.insert(0,[45,78])\n",
    "print(m)"
   ]
  },
  {
   "cell_type": "code",
   "execution_count": 57,
   "id": "c269cdd4",
   "metadata": {},
   "outputs": [
    {
     "name": "stdout",
     "output_type": "stream",
     "text": [
      "[[45, 78], 100, 45, 89, [45, 8, 9, 'Kiran'], 'Kamal', 'Kamal is good at teaching', (45, '78.021'), 12, 78, 89, 78, 1]\n"
     ]
    }
   ],
   "source": [
    "print(m)"
   ]
  },
  {
   "cell_type": "code",
   "execution_count": 58,
   "id": "8a20dbb3",
   "metadata": {},
   "outputs": [
    {
     "name": "stdout",
     "output_type": "stream",
     "text": [
      "[[45, 78], 100, 45, 89, [45, 8, 9, 'Kiran'], 'Kamal', 'Kamal is good at teaching', (45, '78.021'), 12, 78, 89, 78, 1]\n",
      "[[45, 78], 100, 45, 89, [45, 8, 9, 'Kiran'], 'Kamal', 'Kamal is good at teaching', (45, '78.021'), 12, 78, 89, 78]\n"
     ]
    }
   ],
   "source": [
    "print(m)\n",
    "m.pop()\n",
    "print(m)"
   ]
  },
  {
   "cell_type": "code",
   "execution_count": 59,
   "id": "8e46575b",
   "metadata": {},
   "outputs": [
    {
     "name": "stdout",
     "output_type": "stream",
     "text": [
      "[[45, 78], 100, 45, 89, [45, 8, 9, 'Kiran'], 'Kamal', 'Kamal is good at teaching', (45, '78.021'), 12, 78, 89, 78]\n",
      "[100, 45, 89, [45, 8, 9, 'Kiran'], 'Kamal', 'Kamal is good at teaching', (45, '78.021'), 12, 78, 89, 78]\n"
     ]
    }
   ],
   "source": [
    "print(m)\n",
    "m.pop(0)\n",
    "print(m)"
   ]
  },
  {
   "cell_type": "code",
   "execution_count": 60,
   "id": "31b7aa60",
   "metadata": {},
   "outputs": [
    {
     "name": "stdout",
     "output_type": "stream",
     "text": [
      "[100, 45, 89, [45, 8, 9, 'Kiran'], 'Kamal', 'Kamal is good at teaching', (45, '78.021'), 12, 78, 89, 78]\n"
     ]
    },
    {
     "ename": "IndexError",
     "evalue": "pop index out of range",
     "output_type": "error",
     "traceback": [
      "\u001b[1;31m---------------------------------------------------------------------------\u001b[0m",
      "\u001b[1;31mIndexError\u001b[0m                                Traceback (most recent call last)",
      "Cell \u001b[1;32mIn[60], line 2\u001b[0m\n\u001b[0;32m      1\u001b[0m \u001b[38;5;28mprint\u001b[39m(m)\n\u001b[1;32m----> 2\u001b[0m \u001b[43mm\u001b[49m\u001b[38;5;241;43m.\u001b[39;49m\u001b[43mpop\u001b[49m\u001b[43m(\u001b[49m\u001b[38;5;241;43m25\u001b[39;49m\u001b[43m)\u001b[49m\n\u001b[0;32m      3\u001b[0m \u001b[38;5;28mprint\u001b[39m(m)\n",
      "\u001b[1;31mIndexError\u001b[0m: pop index out of range"
     ]
    }
   ],
   "source": [
    "print(m)\n",
    "m.pop(25)\n",
    "print(m)"
   ]
  },
  {
   "cell_type": "code",
   "execution_count": 61,
   "id": "b7188a05",
   "metadata": {},
   "outputs": [
    {
     "name": "stdout",
     "output_type": "stream",
     "text": [
      "[100, 45, 89, [45, 8, 9, 'Kiran'], 'Kamal', 'Kamal is good at teaching', (45, '78.021'), 12, 78, 89, 78]\n"
     ]
    },
    {
     "ename": "TypeError",
     "evalue": "list.remove() takes exactly one argument (0 given)",
     "output_type": "error",
     "traceback": [
      "\u001b[1;31m---------------------------------------------------------------------------\u001b[0m",
      "\u001b[1;31mTypeError\u001b[0m                                 Traceback (most recent call last)",
      "Cell \u001b[1;32mIn[61], line 2\u001b[0m\n\u001b[0;32m      1\u001b[0m \u001b[38;5;28mprint\u001b[39m(m)\n\u001b[1;32m----> 2\u001b[0m \u001b[43mm\u001b[49m\u001b[38;5;241;43m.\u001b[39;49m\u001b[43mremove\u001b[49m\u001b[43m(\u001b[49m\u001b[43m)\u001b[49m\n\u001b[0;32m      3\u001b[0m \u001b[38;5;28mprint\u001b[39m(m)\n",
      "\u001b[1;31mTypeError\u001b[0m: list.remove() takes exactly one argument (0 given)"
     ]
    }
   ],
   "source": [
    "print(m)\n",
    "m.remove()\n",
    "print(m)"
   ]
  },
  {
   "cell_type": "code",
   "execution_count": 62,
   "id": "d7e9d9e8",
   "metadata": {},
   "outputs": [
    {
     "name": "stdout",
     "output_type": "stream",
     "text": [
      "[100, 45, 89, [45, 8, 9, 'Kiran'], 'Kamal', 'Kamal is good at teaching', (45, '78.021'), 12, 78, 89, 78]\n",
      "[100, 45, 89, [45, 8, 9, 'Kiran'], 'Kamal', 'Kamal is good at teaching', (45, '78.021'), 12, 89, 78]\n"
     ]
    }
   ],
   "source": [
    "print(m)\n",
    "m.remove(78)\n",
    "print(m)"
   ]
  },
  {
   "cell_type": "code",
   "execution_count": 63,
   "id": "9cbe1d91",
   "metadata": {},
   "outputs": [
    {
     "name": "stdout",
     "output_type": "stream",
     "text": [
      "[100, 45, 89, [45, 8, 9, 'Kiran'], 'Kamal', 'Kamal is good at teaching', (45, '78.021'), 12, 89, 78]\n"
     ]
    },
    {
     "ename": "ValueError",
     "evalue": "list.remove(x): x not in list",
     "output_type": "error",
     "traceback": [
      "\u001b[1;31m---------------------------------------------------------------------------\u001b[0m",
      "\u001b[1;31mValueError\u001b[0m                                Traceback (most recent call last)",
      "Cell \u001b[1;32mIn[63], line 2\u001b[0m\n\u001b[0;32m      1\u001b[0m \u001b[38;5;28mprint\u001b[39m(m)\n\u001b[1;32m----> 2\u001b[0m \u001b[43mm\u001b[49m\u001b[38;5;241;43m.\u001b[39;49m\u001b[43mremove\u001b[49m\u001b[43m(\u001b[49m\u001b[38;5;241;43m500\u001b[39;49m\u001b[43m)\u001b[49m\n\u001b[0;32m      3\u001b[0m \u001b[38;5;28mprint\u001b[39m(m)\n",
      "\u001b[1;31mValueError\u001b[0m: list.remove(x): x not in list"
     ]
    }
   ],
   "source": [
    "print(m)\n",
    "m.remove(500)\n",
    "print(m)"
   ]
  },
  {
   "cell_type": "code",
   "execution_count": 64,
   "id": "1bcd308d",
   "metadata": {},
   "outputs": [
    {
     "name": "stdout",
     "output_type": "stream",
     "text": [
      "['__add__', '__class__', '__class_getitem__', '__contains__', '__delattr__', '__delitem__', '__dir__', '__doc__', '__eq__', '__format__', '__ge__', '__getattribute__', '__getitem__', '__gt__', '__hash__', '__iadd__', '__imul__', '__init__', '__init_subclass__', '__iter__', '__le__', '__len__', '__lt__', '__mul__', '__ne__', '__new__', '__reduce__', '__reduce_ex__', '__repr__', '__reversed__', '__rmul__', '__setattr__', '__setitem__', '__sizeof__', '__str__', '__subclasshook__', 'append', 'clear', 'copy', 'count', 'extend', 'index', 'insert', 'pop', 'remove', 'reverse', 'sort']\n"
     ]
    }
   ],
   "source": [
    "print(dir(list))"
   ]
  },
  {
   "cell_type": "code",
   "execution_count": 65,
   "id": "5d2c2928",
   "metadata": {},
   "outputs": [
    {
     "name": "stdout",
     "output_type": "stream",
     "text": [
      "[45, 89, 56, 89, 45, 78, 5, 2]\n",
      "[45, 89, 56, 89, 45, 78, 5, 2]\n",
      "[45, 89, 56, 89, 45, 78, 5, 2]\n"
     ]
    }
   ],
   "source": [
    "h = [45,89,56,89,45,78,5,2]\n",
    "print(h)\n",
    "x = h.copy()\n",
    "print(h)\n",
    "print(x)"
   ]
  },
  {
   "cell_type": "code",
   "execution_count": 66,
   "id": "5bf260cf",
   "metadata": {},
   "outputs": [
    {
     "name": "stdout",
     "output_type": "stream",
     "text": [
      "[45, 89, 56, 89, 45, 78, 5, 2]\n",
      "[45, 89, 56, 89, 45, 78, 5]\n",
      "[45, 89, 56, 89, 45, 78, 5, 2]\n"
     ]
    }
   ],
   "source": [
    "print(h)\n",
    "h.pop()\n",
    "print(h)\n",
    "print(x)"
   ]
  },
  {
   "cell_type": "code",
   "execution_count": 68,
   "id": "b6e380c3",
   "metadata": {},
   "outputs": [
    {
     "name": "stdout",
     "output_type": "stream",
     "text": [
      "[45, 89, 56, 89, 45, 78, 5]\n",
      "[45, 89, 56, 89, 45, 78, 5, 2]\n",
      "[45, 89, 56, 89, 45, 78, 5]\n",
      "[45, 56, 89, 45, 78, 5, 2]\n"
     ]
    }
   ],
   "source": [
    "print(h)\n",
    "print(x)\n",
    "x.remove(89)\n",
    "print(h)\n",
    "print(x)"
   ]
  },
  {
   "cell_type": "code",
   "execution_count": 70,
   "id": "549d3d0a",
   "metadata": {},
   "outputs": [
    {
     "name": "stdout",
     "output_type": "stream",
     "text": [
      "[45, 89, 56, 89, 45, 78, 5]\n",
      "2\n",
      "0\n"
     ]
    }
   ],
   "source": [
    "print(h)\n",
    "print(h.count(89))\n",
    "print(h.count(-56))"
   ]
  },
  {
   "cell_type": "code",
   "execution_count": 72,
   "id": "b773a1b0",
   "metadata": {},
   "outputs": [
    {
     "name": "stdout",
     "output_type": "stream",
     "text": [
      "[45, 89, 56, 89, 45, 78, 5]\n",
      "2\n"
     ]
    }
   ],
   "source": [
    "print(h)\n",
    "print(h.index(56))\n",
    "# print(h.index(-500))"
   ]
  },
  {
   "cell_type": "code",
   "execution_count": 73,
   "id": "554c8383",
   "metadata": {},
   "outputs": [
    {
     "name": "stdout",
     "output_type": "stream",
     "text": [
      "[45, 89, 56, 89, 45, 78, 5]\n",
      "[5, 78, 45, 89, 56, 89, 45]\n"
     ]
    }
   ],
   "source": [
    "print(h)\n",
    "h.reverse()\n",
    "print(h)"
   ]
  },
  {
   "cell_type": "code",
   "execution_count": 74,
   "id": "46be272d",
   "metadata": {},
   "outputs": [
    {
     "name": "stdout",
     "output_type": "stream",
     "text": [
      "[5, 78, 45, 89, 56, 89, 45]\n",
      "[5, 45, 45, 56, 78, 89, 89]\n"
     ]
    }
   ],
   "source": [
    "print(h)\n",
    "h.sort()\n",
    "print(h)"
   ]
  },
  {
   "cell_type": "code",
   "execution_count": 75,
   "id": "c1571ace",
   "metadata": {},
   "outputs": [
    {
     "name": "stdout",
     "output_type": "stream",
     "text": [
      "[5, 45, 45, 56, 78, 89, 89]\n",
      "[89, 89, 78, 56, 45, 45, 5]\n"
     ]
    }
   ],
   "source": [
    "print(h)\n",
    "h.sort(reverse=True)\n",
    "print(h)"
   ]
  },
  {
   "cell_type": "code",
   "execution_count": 76,
   "id": "43ecb5cf",
   "metadata": {},
   "outputs": [
    {
     "name": "stdout",
     "output_type": "stream",
     "text": [
      "[89, 89, 78, 56, 45, 45, 5]\n",
      "[]\n"
     ]
    }
   ],
   "source": [
    "print(h)\n",
    "h.clear()\n",
    "print(h)"
   ]
  },
  {
   "cell_type": "code",
   "execution_count": 77,
   "id": "2eb1a506",
   "metadata": {},
   "outputs": [
    {
     "name": "stdout",
     "output_type": "stream",
     "text": [
      "[45, 78, 45, 98]\n"
     ]
    },
    {
     "ename": "NameError",
     "evalue": "name 'y' is not defined",
     "output_type": "error",
     "traceback": [
      "\u001b[1;31m---------------------------------------------------------------------------\u001b[0m",
      "\u001b[1;31mNameError\u001b[0m                                 Traceback (most recent call last)",
      "Cell \u001b[1;32mIn[77], line 4\u001b[0m\n\u001b[0;32m      2\u001b[0m \u001b[38;5;28mprint\u001b[39m(y)\n\u001b[0;32m      3\u001b[0m \u001b[38;5;28;01mdel\u001b[39;00m y\n\u001b[1;32m----> 4\u001b[0m \u001b[38;5;28mprint\u001b[39m(\u001b[43my\u001b[49m)\n",
      "\u001b[1;31mNameError\u001b[0m: name 'y' is not defined"
     ]
    }
   ],
   "source": [
    "y = [45,78,45,98]\n",
    "print(y)\n",
    "del y\n",
    "print(y)"
   ]
  },
  {
   "cell_type": "markdown",
   "id": "829a9597",
   "metadata": {},
   "source": [
    "## Tuple:\n",
    "    - It can be represented as \"()\" and seperated with \",\"\n",
    "    - It can stores all data type values\n",
    "    - It stores the data in order format\n",
    "    - It allows duplicate values\n",
    "    - It can't changes \n",
    "    - It can be typecasted as tuple()\n",
    "    - Slicing can be done because of index"
   ]
  },
  {
   "cell_type": "code",
   "execution_count": 78,
   "id": "e67793fa",
   "metadata": {},
   "outputs": [
    {
     "name": "stdout",
     "output_type": "stream",
     "text": [
      "(1, 78.012, 'Lalitha', (4+6j), None, False, 1, 1, 1) <class 'tuple'>\n"
     ]
    }
   ],
   "source": [
    "g = (1,78.012,'Lalitha',4+6j,None,False,1,1,1)\n",
    "print(g,type(g))"
   ]
  },
  {
   "cell_type": "code",
   "execution_count": 79,
   "id": "dcc0c9ac",
   "metadata": {},
   "outputs": [
    {
     "name": "stdout",
     "output_type": "stream",
     "text": [
      "1 <class 'int'>\n",
      "78.012 <class 'float'>\n",
      "Lalitha <class 'str'>\n",
      "(4+6j) <class 'complex'>\n",
      "None <class 'NoneType'>\n",
      "False <class 'bool'>\n",
      "1 <class 'int'>\n",
      "1 <class 'int'>\n",
      "1 <class 'int'>\n"
     ]
    }
   ],
   "source": [
    "for i in range(len(g)):\n",
    "    print(g[i],type(g[i]))"
   ]
  },
  {
   "cell_type": "code",
   "execution_count": 80,
   "id": "f5320fbe",
   "metadata": {},
   "outputs": [
    {
     "name": "stdout",
     "output_type": "stream",
     "text": [
      "1 <class 'int'>\n",
      "78.012 <class 'float'>\n",
      "Lalitha <class 'str'>\n",
      "(4+6j) <class 'complex'>\n",
      "None <class 'NoneType'>\n",
      "False <class 'bool'>\n",
      "1 <class 'int'>\n",
      "1 <class 'int'>\n",
      "1 <class 'int'>\n"
     ]
    }
   ],
   "source": [
    "for i in g:\n",
    "    print(i,type(i))"
   ]
  },
  {
   "cell_type": "code",
   "execution_count": 81,
   "id": "01ef17bb",
   "metadata": {},
   "outputs": [
    {
     "name": "stdout",
     "output_type": "stream",
     "text": [
      "(1, 78.012, 'Lalitha', (4+6j), None, False, 1, 1, 1)\n",
      "1\n",
      "('Lalitha', (4+6j), None, False, 1, 1)\n",
      "((4+6j), False, 1)\n"
     ]
    }
   ],
   "source": [
    "print(g)\n",
    "print(g[6])\n",
    "print(g[2:8])\n",
    "print(g[3:9:2])"
   ]
  },
  {
   "cell_type": "code",
   "execution_count": 82,
   "id": "91302dbd",
   "metadata": {},
   "outputs": [
    {
     "name": "stdout",
     "output_type": "stream",
     "text": [
      "['__add__', '__class__', '__class_getitem__', '__contains__', '__delattr__', '__dir__', '__doc__', '__eq__', '__format__', '__ge__', '__getattribute__', '__getitem__', '__getnewargs__', '__gt__', '__hash__', '__init__', '__init_subclass__', '__iter__', '__le__', '__len__', '__lt__', '__mul__', '__ne__', '__new__', '__reduce__', '__reduce_ex__', '__repr__', '__rmul__', '__setattr__', '__sizeof__', '__str__', '__subclasshook__', 'count', 'index']\n"
     ]
    }
   ],
   "source": [
    "print(dir(g))"
   ]
  },
  {
   "cell_type": "code",
   "execution_count": 83,
   "id": "b6da9c0e",
   "metadata": {},
   "outputs": [
    {
     "name": "stdout",
     "output_type": "stream",
     "text": [
      "(1, 8, 5, 9, 7, 4, 1)\n"
     ]
    }
   ],
   "source": [
    "v = (1,8,5,9,7,4,1)\n",
    "print(v)"
   ]
  },
  {
   "cell_type": "code",
   "execution_count": 84,
   "id": "6475405a",
   "metadata": {},
   "outputs": [
    {
     "name": "stdout",
     "output_type": "stream",
     "text": [
      "(1, 8, 5, 9, 7, 4, 1)\n",
      "2\n"
     ]
    }
   ],
   "source": [
    "print(v)\n",
    "print(v.count(1))"
   ]
  },
  {
   "cell_type": "code",
   "execution_count": 86,
   "id": "fbefddb9",
   "metadata": {},
   "outputs": [
    {
     "name": "stdout",
     "output_type": "stream",
     "text": [
      "(1, 8, 5, 9, 7, 4, 1)\n",
      "2\n"
     ]
    }
   ],
   "source": [
    "print(v)\n",
    "print(v.index(5))\n",
    "# print(v.index(-8))"
   ]
  },
  {
   "cell_type": "code",
   "execution_count": null,
   "id": "4cb9f38d",
   "metadata": {},
   "outputs": [],
   "source": []
  }
 ],
 "metadata": {
  "kernelspec": {
   "display_name": "Python 3 (ipykernel)",
   "language": "python",
   "name": "python3"
  },
  "language_info": {
   "codemirror_mode": {
    "name": "ipython",
    "version": 3
   },
   "file_extension": ".py",
   "mimetype": "text/x-python",
   "name": "python",
   "nbconvert_exporter": "python",
   "pygments_lexer": "ipython3",
   "version": "3.9.13"
  }
 },
 "nbformat": 4,
 "nbformat_minor": 5
}

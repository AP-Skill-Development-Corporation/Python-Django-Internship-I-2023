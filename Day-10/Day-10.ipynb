{
 "cells": [
  {
   "cell_type": "markdown",
   "id": "e5dd18de",
   "metadata": {},
   "source": [
    "## With returntype and without arguments:\n",
    "    - reading => function\n",
    "    - printing => main\n",
    "    - logic => function"
   ]
  },
  {
   "cell_type": "code",
   "execution_count": 4,
   "id": "264ea90b",
   "metadata": {},
   "outputs": [
    {
     "name": "stdout",
     "output_type": "stream",
     "text": [
      "Enter a number: 45789\n",
      "Given number 45789 and its digit count is:  5\n"
     ]
    }
   ],
   "source": [
    "def numberdigit():\n",
    "    n,digitcount = int(input(\"Enter a number: \")),0\n",
    "    print(f\"Given number {n} and its digit count is: \",end=\" \")\n",
    "    while n!=0:\n",
    "        digitcount += 1\n",
    "        n //= 10\n",
    "    return digitcount\n",
    "\n",
    "print(f\"{numberdigit()}\")"
   ]
  },
  {
   "cell_type": "code",
   "execution_count": 9,
   "id": "f544556c",
   "metadata": {},
   "outputs": [
    {
     "name": "stdout",
     "output_type": "stream",
     "text": [
      "20250\n",
      "1 20250\n",
      "2 2025\n",
      "3 202\n",
      "4 20\n",
      "5 2\n"
     ]
    }
   ],
   "source": [
    "m,d = int(input()),0\n",
    "while m!=0:\n",
    "    d += 1\n",
    "    print(d,m)\n",
    "    m //= 10"
   ]
  },
  {
   "cell_type": "code",
   "execution_count": 12,
   "id": "fc72b37d",
   "metadata": {},
   "outputs": [
    {
     "name": "stdout",
     "output_type": "stream",
     "text": [
      "00580\n",
      "00580\n"
     ]
    }
   ],
   "source": [
    "k = input()\n",
    "h = str(k)\n"
   ]
  },
  {
   "cell_type": "code",
   "execution_count": 18,
   "id": "118cbe96",
   "metadata": {},
   "outputs": [
    {
     "name": "stdout",
     "output_type": "stream",
     "text": [
      "[0, 0, 5, 8, 0] 5\n"
     ]
    }
   ],
   "source": [
    "h = \"00580\"\n",
    "k = []\n",
    "for i in h:\n",
    "    k.append(int(i))\n",
    "print(k,len(k))"
   ]
  },
  {
   "cell_type": "markdown",
   "id": "70628ab1",
   "metadata": {},
   "source": [
    "## Without returntype and with arguments:\n",
    "    - reading => Main\n",
    "    - printing => function\n",
    "    - logic => function"
   ]
  },
  {
   "cell_type": "code",
   "execution_count": 25,
   "id": "0dc490f7",
   "metadata": {},
   "outputs": [
    {
     "name": "stdout",
     "output_type": "stream",
     "text": [
      "Enter a number: 10\n",
      "Given 10 natural numbers sum is: 55\n"
     ]
    }
   ],
   "source": [
    "def sumofn(k):\n",
    "    d = 0\n",
    "    for i in range(k+1):\n",
    "        d+=i\n",
    "    print(f\"Given {k} natural numbers sum is: {d}\")\n",
    "    return\n",
    "\n",
    "s = int(input(\"Enter a number: \"))\n",
    "sumofn(s)"
   ]
  },
  {
   "cell_type": "markdown",
   "id": "cf91237f",
   "metadata": {},
   "source": [
    "## without returntype and without arguments:\n",
    "    - reading => function\n",
    "    - printing => function\n",
    "    - logic => function"
   ]
  },
  {
   "cell_type": "code",
   "execution_count": 31,
   "id": "173830d4",
   "metadata": {},
   "outputs": [
    {
     "name": "stdout",
     "output_type": "stream",
     "text": [
      "7 8 9 4 5 8 6 9 5 4 56  2 5 3 1 4 5 0 0 0 \n",
      "Even numbers are:  8 4 8 6 4 56 2 4 0 0 0 "
     ]
    }
   ],
   "source": [
    "def nevenprint():\n",
    "    k = input().split()\n",
    "    print(\"Even numbers are: \",end=\" \")\n",
    "    for i in k:\n",
    "        if int(i)%2==0:\n",
    "            print(i,end=\" \")\n",
    "        else:\n",
    "            continue\n",
    "    return\n",
    "\n",
    "nevenprint()"
   ]
  },
  {
   "cell_type": "markdown",
   "id": "931bd817",
   "metadata": {},
   "source": [
    "## Function Argument Types:\n",
    "    - default\n",
    "    - keyword\n",
    "    - required or positional\n",
    "    - variable-length\n",
    "        - orbitary keyword \n",
    "        - orbitary positional"
   ]
  },
  {
   "cell_type": "markdown",
   "id": "de200c90",
   "metadata": {},
   "source": [
    "## Default argument:"
   ]
  },
  {
   "cell_type": "code",
   "execution_count": 35,
   "id": "ecef0bfc",
   "metadata": {},
   "outputs": [
    {
     "name": "stdout",
     "output_type": "stream",
     "text": [
      "Enter your rollnumber: 22AK1A530\n",
      "Enter your name: Likitha\n",
      "Enter your branch: CSE\n",
      "your roll number is: 22AK1A530\n",
      "your name is: Likitha\n",
      "your branch is: CSE\n",
      "your college is: VIEW\n"
     ]
    }
   ],
   "source": [
    "def student(r,n,b,college=\"VIEW\"):\n",
    "    print(f\"your roll number is: {r}\")\n",
    "    print(f\"your name is: {n}\")\n",
    "    print(f\"your branch is: {b}\")\n",
    "    print(f\"your college is: {college}\")\n",
    "    return\n",
    "\n",
    "rollnumber = input(\"Enter your rollnumber: \")\n",
    "sname = input(\"Enter your name: \")\n",
    "branch = input(\"Enter your branch: \")\n",
    "student(rollnumber,sname,branch)"
   ]
  },
  {
   "cell_type": "code",
   "execution_count": 36,
   "id": "6f002370",
   "metadata": {},
   "outputs": [
    {
     "name": "stdout",
     "output_type": "stream",
     "text": [
      "Enter your rollnumber: 21AK1A589\n",
      "Enter your name: Manoj\n",
      "your roll number is: 21AK1A589\n",
      "your name is: Manoj\n",
      "your branch is: CSE\n",
      "your college is: VIEW\n"
     ]
    }
   ],
   "source": [
    "def student(r,n,b=\"CSE\",college=\"VIEW\"):\n",
    "    print(f\"your roll number is: {r}\")\n",
    "    print(f\"your name is: {n}\")\n",
    "    print(f\"your branch is: {b}\")\n",
    "    print(f\"your college is: {college}\")\n",
    "    return\n",
    "\n",
    "rollnumber = input(\"Enter your rollnumber: \")\n",
    "sname = input(\"Enter your name: \")\n",
    "student(rollnumber,sname)"
   ]
  },
  {
   "cell_type": "code",
   "execution_count": 37,
   "id": "ac69ac2a",
   "metadata": {},
   "outputs": [
    {
     "ename": "SyntaxError",
     "evalue": "non-default argument follows default argument (3523878751.py, line 1)",
     "output_type": "error",
     "traceback": [
      "\u001b[1;36m  Cell \u001b[1;32mIn[37], line 1\u001b[1;36m\u001b[0m\n\u001b[1;33m    def student(r=\"21AK1A566\",n,b=\"CSE\",college=\"VIEW\"):\u001b[0m\n\u001b[1;37m                                ^\u001b[0m\n\u001b[1;31mSyntaxError\u001b[0m\u001b[1;31m:\u001b[0m non-default argument follows default argument\n"
     ]
    }
   ],
   "source": [
    "def student(r=\"21AK1A566\",n,b=\"CSE\",college=\"VIEW\"):\n",
    "    print(f\"your roll number is: {r}\")\n",
    "    print(f\"your name is: {n}\")\n",
    "    print(f\"your branch is: {b}\")\n",
    "    print(f\"your college is: {college}\")\n",
    "    return\n",
    "\n",
    "rollnumber = input(\"Enter your rollnumber: \")\n",
    "sname = input(\"Enter your name: \")\n",
    "student(rollnumber,sname)"
   ]
  },
  {
   "cell_type": "code",
   "execution_count": 38,
   "id": "1325a3ee",
   "metadata": {},
   "outputs": [
    {
     "name": "stdout",
     "output_type": "stream",
     "text": [
      "Enter your rollnumber: 22AK1A456\n",
      "Enter your name: Ganesh\n",
      "Enter your branch: ECE\n",
      "your roll number is: 22AK1A456\n",
      "your name is: Ganesh\n",
      "your branch is: ECE\n",
      "your college is: VIEW\n"
     ]
    }
   ],
   "source": [
    "def student(r,n,b=\"CSE\",college=\"VIEW\"):\n",
    "    print(f\"your roll number is: {r}\")\n",
    "    print(f\"your name is: {n}\")\n",
    "    print(f\"your branch is: {b}\")\n",
    "    print(f\"your college is: {college}\")\n",
    "    return\n",
    "\n",
    "rollnumber = input(\"Enter your rollnumber: \")\n",
    "sname = input(\"Enter your name: \")\n",
    "branch = input(\"Enter your branch: \")\n",
    "student(rollnumber,sname,branch)"
   ]
  },
  {
   "cell_type": "markdown",
   "id": "76cd8657",
   "metadata": {},
   "source": [
    "## Required or Positional Argument"
   ]
  },
  {
   "cell_type": "code",
   "execution_count": 39,
   "id": "92c1b521",
   "metadata": {},
   "outputs": [
    {
     "name": "stdout",
     "output_type": "stream",
     "text": [
      "Enter Yourid: A45\n",
      "Enter your name: Rajesh\n",
      "Employee id is: A45\n",
      "Employee name is: Rajesh\n"
     ]
    }
   ],
   "source": [
    "def employee(eid,en):\n",
    "    print(f\"Employee id is: {eid}\")\n",
    "    print(f\"Employee name is: {en}\")\n",
    "    return\n",
    "\n",
    "empid = input(\"Enter Yourid: \")\n",
    "ename = input(\"Enter your name: \")\n",
    "employee(empid,ename)"
   ]
  },
  {
   "cell_type": "code",
   "execution_count": 40,
   "id": "b0bcd32b",
   "metadata": {},
   "outputs": [
    {
     "name": "stdout",
     "output_type": "stream",
     "text": [
      "Enter Yourid: ER78\n",
      "Enter your name: Arun\n"
     ]
    },
    {
     "ename": "TypeError",
     "evalue": "employee() missing 1 required positional argument: 'esal'",
     "output_type": "error",
     "traceback": [
      "\u001b[1;31m---------------------------------------------------------------------------\u001b[0m",
      "\u001b[1;31mTypeError\u001b[0m                                 Traceback (most recent call last)",
      "Cell \u001b[1;32mIn[40], line 9\u001b[0m\n\u001b[0;32m      7\u001b[0m empid \u001b[38;5;241m=\u001b[39m \u001b[38;5;28minput\u001b[39m(\u001b[38;5;124m\"\u001b[39m\u001b[38;5;124mEnter Yourid: \u001b[39m\u001b[38;5;124m\"\u001b[39m)\n\u001b[0;32m      8\u001b[0m ename \u001b[38;5;241m=\u001b[39m \u001b[38;5;28minput\u001b[39m(\u001b[38;5;124m\"\u001b[39m\u001b[38;5;124mEnter your name: \u001b[39m\u001b[38;5;124m\"\u001b[39m)\n\u001b[1;32m----> 9\u001b[0m \u001b[43memployee\u001b[49m\u001b[43m(\u001b[49m\u001b[43mempid\u001b[49m\u001b[43m,\u001b[49m\u001b[43mename\u001b[49m\u001b[43m)\u001b[49m\n",
      "\u001b[1;31mTypeError\u001b[0m: employee() missing 1 required positional argument: 'esal'"
     ]
    }
   ],
   "source": [
    "def employee(eid,en,esal):\n",
    "    print(f\"Employee id is: {eid}\")\n",
    "    print(f\"Employee name is: {en}\")\n",
    "    print(f\"Employee Salary is: {esal}\")\n",
    "    return\n",
    "\n",
    "empid = input(\"Enter Yourid: \")\n",
    "ename = input(\"Enter your name: \")\n",
    "employee(empid,ename)"
   ]
  },
  {
   "cell_type": "code",
   "execution_count": 41,
   "id": "471c9904",
   "metadata": {},
   "outputs": [
    {
     "name": "stdout",
     "output_type": "stream",
     "text": [
      "Enter Yourid: TY45\n",
      "Enter your name: Manjusha\n"
     ]
    },
    {
     "ename": "TypeError",
     "evalue": "employee() takes 1 positional argument but 2 were given",
     "output_type": "error",
     "traceback": [
      "\u001b[1;31m---------------------------------------------------------------------------\u001b[0m",
      "\u001b[1;31mTypeError\u001b[0m                                 Traceback (most recent call last)",
      "Cell \u001b[1;32mIn[41], line 7\u001b[0m\n\u001b[0;32m      5\u001b[0m empid \u001b[38;5;241m=\u001b[39m \u001b[38;5;28minput\u001b[39m(\u001b[38;5;124m\"\u001b[39m\u001b[38;5;124mEnter Yourid: \u001b[39m\u001b[38;5;124m\"\u001b[39m)\n\u001b[0;32m      6\u001b[0m ename \u001b[38;5;241m=\u001b[39m \u001b[38;5;28minput\u001b[39m(\u001b[38;5;124m\"\u001b[39m\u001b[38;5;124mEnter your name: \u001b[39m\u001b[38;5;124m\"\u001b[39m)\n\u001b[1;32m----> 7\u001b[0m \u001b[43memployee\u001b[49m\u001b[43m(\u001b[49m\u001b[43mempid\u001b[49m\u001b[43m,\u001b[49m\u001b[43mename\u001b[49m\u001b[43m)\u001b[49m\n",
      "\u001b[1;31mTypeError\u001b[0m: employee() takes 1 positional argument but 2 were given"
     ]
    }
   ],
   "source": [
    "def employee(eid):\n",
    "    print(f\"Employee id is: {eid}\")\n",
    "    return\n",
    "\n",
    "empid = input(\"Enter Yourid: \")\n",
    "ename = input(\"Enter your name: \")\n",
    "employee(empid,ename)"
   ]
  },
  {
   "cell_type": "code",
   "execution_count": 42,
   "id": "6b6c4782",
   "metadata": {},
   "outputs": [
    {
     "name": "stdout",
     "output_type": "stream",
     "text": [
      "Enter Yourid: PT56\n",
      "Enter your name: Tarun\n",
      "Employee id is: PT56\n",
      "Employee name is: Tarun\n",
      "Employee Salary is: 4500\n"
     ]
    }
   ],
   "source": [
    "def employee(eid,en,esal=4500):\n",
    "    print(f\"Employee id is: {eid}\")\n",
    "    print(f\"Employee name is: {en}\")\n",
    "    print(f\"Employee Salary is: {esal}\")\n",
    "    return\n",
    "\n",
    "empid = input(\"Enter Yourid: \")\n",
    "ename = input(\"Enter your name: \")\n",
    "employee(empid,ename)"
   ]
  },
  {
   "cell_type": "code",
   "execution_count": 43,
   "id": "1d08b199",
   "metadata": {},
   "outputs": [
    {
     "name": "stdout",
     "output_type": "stream",
     "text": [
      "Enter Yourid: KY89\n",
      "Enter your name: Suresh\n",
      "Employee id is: KY89\n",
      "Employee Name is: Suresh\n"
     ]
    }
   ],
   "source": [
    "def employee(eid,en=\"Kiran\"):\n",
    "    print(f\"Employee id is: {eid}\")\n",
    "    print(f\"Employee Name is: {en}\")\n",
    "    return\n",
    "\n",
    "empid = input(\"Enter Yourid: \")\n",
    "ename = input(\"Enter your name: \")\n",
    "employee(empid,ename)"
   ]
  },
  {
   "cell_type": "markdown",
   "id": "8d28c937",
   "metadata": {},
   "source": [
    "## Keyword Argument"
   ]
  },
  {
   "cell_type": "code",
   "execution_count": 45,
   "id": "68440e81",
   "metadata": {},
   "outputs": [
    {
     "name": "stdout",
     "output_type": "stream",
     "text": [
      "Enter Id: K458\n",
      "Enter Name: Sathish\n",
      "Enter Age: 23\n",
      "Student Name: Sathish\n",
      "Student Id: K458\n",
      "Student Age: 23\n"
     ]
    }
   ],
   "source": [
    "def studentdetails(a,b,c):\n",
    "    print(f\"Student Name: {a}\")\n",
    "    print(f\"Student Id: {b}\")\n",
    "    print(f\"Student Age: {c}\")\n",
    "    return\n",
    "\n",
    "stid = input(\"Enter Id: \")\n",
    "stname = input(\"Enter Name: \")\n",
    "sage = int(input(\"Enter Age: \"))\n",
    "studentdetails(b=stid,c=sage,a=stname)"
   ]
  },
  {
   "cell_type": "code",
   "execution_count": 46,
   "id": "6075c12d",
   "metadata": {},
   "outputs": [
    {
     "name": "stdout",
     "output_type": "stream",
     "text": [
      "Enter Id: E45\n",
      "Enter Name: Harish\n",
      "Enter Age: 26\n"
     ]
    },
    {
     "ename": "TypeError",
     "evalue": "studentdetails() missing 1 required positional argument: 'k'",
     "output_type": "error",
     "traceback": [
      "\u001b[1;31m---------------------------------------------------------------------------\u001b[0m",
      "\u001b[1;31mTypeError\u001b[0m                                 Traceback (most recent call last)",
      "Cell \u001b[1;32mIn[46], line 10\u001b[0m\n\u001b[0;32m      8\u001b[0m stname \u001b[38;5;241m=\u001b[39m \u001b[38;5;28minput\u001b[39m(\u001b[38;5;124m\"\u001b[39m\u001b[38;5;124mEnter Name: \u001b[39m\u001b[38;5;124m\"\u001b[39m)\n\u001b[0;32m      9\u001b[0m sage \u001b[38;5;241m=\u001b[39m \u001b[38;5;28mint\u001b[39m(\u001b[38;5;28minput\u001b[39m(\u001b[38;5;124m\"\u001b[39m\u001b[38;5;124mEnter Age: \u001b[39m\u001b[38;5;124m\"\u001b[39m))\n\u001b[1;32m---> 10\u001b[0m \u001b[43mstudentdetails\u001b[49m\u001b[43m(\u001b[49m\u001b[43mb\u001b[49m\u001b[38;5;241;43m=\u001b[39;49m\u001b[43mstid\u001b[49m\u001b[43m,\u001b[49m\u001b[43mc\u001b[49m\u001b[38;5;241;43m=\u001b[39;49m\u001b[43msage\u001b[49m\u001b[43m,\u001b[49m\u001b[43ma\u001b[49m\u001b[38;5;241;43m=\u001b[39;49m\u001b[43mstname\u001b[49m\u001b[43m)\u001b[49m\n",
      "\u001b[1;31mTypeError\u001b[0m: studentdetails() missing 1 required positional argument: 'k'"
     ]
    }
   ],
   "source": [
    "def studentdetails(a,b,c,k):\n",
    "    print(f\"Student Name: {a}\")\n",
    "    print(f\"Student Id: {b}\")\n",
    "    print(f\"Student Age: {c}\")\n",
    "    return\n",
    "\n",
    "stid = input(\"Enter Id: \")\n",
    "stname = input(\"Enter Name: \")\n",
    "sage = int(input(\"Enter Age: \"))\n",
    "studentdetails(b=stid,c=sage,a=stname)"
   ]
  },
  {
   "cell_type": "code",
   "execution_count": 48,
   "id": "301f7934",
   "metadata": {},
   "outputs": [
    {
     "name": "stdout",
     "output_type": "stream",
     "text": [
      "Enter Id: PU90\n",
      "Enter Name: Eswar\n",
      "Enter Age: 21\n",
      "Enter AddresssVizag\n"
     ]
    },
    {
     "ename": "TypeError",
     "evalue": "studentdetails() got an unexpected keyword argument 'm'",
     "output_type": "error",
     "traceback": [
      "\u001b[1;31m---------------------------------------------------------------------------\u001b[0m",
      "\u001b[1;31mTypeError\u001b[0m                                 Traceback (most recent call last)",
      "Cell \u001b[1;32mIn[48], line 11\u001b[0m\n\u001b[0;32m      9\u001b[0m sage \u001b[38;5;241m=\u001b[39m \u001b[38;5;28mint\u001b[39m(\u001b[38;5;28minput\u001b[39m(\u001b[38;5;124m\"\u001b[39m\u001b[38;5;124mEnter Age: \u001b[39m\u001b[38;5;124m\"\u001b[39m))\n\u001b[0;32m     10\u001b[0m adr \u001b[38;5;241m=\u001b[39m \u001b[38;5;28minput\u001b[39m(\u001b[38;5;124m\"\u001b[39m\u001b[38;5;124mEnter Addresss\u001b[39m\u001b[38;5;124m\"\u001b[39m)\n\u001b[1;32m---> 11\u001b[0m \u001b[43mstudentdetails\u001b[49m\u001b[43m(\u001b[49m\u001b[43mb\u001b[49m\u001b[38;5;241;43m=\u001b[39;49m\u001b[43mstid\u001b[49m\u001b[43m,\u001b[49m\u001b[43mc\u001b[49m\u001b[38;5;241;43m=\u001b[39;49m\u001b[43msage\u001b[49m\u001b[43m,\u001b[49m\u001b[43ma\u001b[49m\u001b[38;5;241;43m=\u001b[39;49m\u001b[43mstname\u001b[49m\u001b[43m,\u001b[49m\u001b[43mm\u001b[49m\u001b[38;5;241;43m=\u001b[39;49m\u001b[43madr\u001b[49m\u001b[43m)\u001b[49m\n",
      "\u001b[1;31mTypeError\u001b[0m: studentdetails() got an unexpected keyword argument 'm'"
     ]
    }
   ],
   "source": [
    "def studentdetails(a,b,c,k):\n",
    "    print(f\"Student Name: {a}\")\n",
    "    print(f\"Student Id: {b}\")\n",
    "    print(f\"Student Age: {c}\")\n",
    "    return\n",
    "\n",
    "stid = input(\"Enter Id: \")\n",
    "stname = input(\"Enter Name: \")\n",
    "sage = int(input(\"Enter Age: \"))\n",
    "adr = input(\"Enter Addresss: \")\n",
    "studentdetails(b=stid,c=sage,a=stname,m=adr)"
   ]
  },
  {
   "cell_type": "code",
   "execution_count": 49,
   "id": "a9dbf321",
   "metadata": {},
   "outputs": [
    {
     "name": "stdout",
     "output_type": "stream",
     "text": [
      "Enter Id: KY56\n",
      "Enter Name: Bharath\n",
      "Enter Age: 16\n",
      "Student Name: Bharath\n",
      "Student Id: KY56\n",
      "Student Age: 16\n",
      "Student Address: Guntur\n"
     ]
    }
   ],
   "source": [
    "def studentdetails(a,b,c,k=\"Guntur\"):\n",
    "    print(f\"Student Name: {a}\")\n",
    "    print(f\"Student Id: {b}\")\n",
    "    print(f\"Student Age: {c}\")\n",
    "    print(f\"Student Address: {k}\")\n",
    "    return\n",
    "\n",
    "stid = input(\"Enter Id: \")\n",
    "stname = input(\"Enter Name: \")\n",
    "sage = int(input(\"Enter Age: \"))\n",
    "studentdetails(b=stid,c=sage,a=stname)"
   ]
  },
  {
   "cell_type": "code",
   "execution_count": null,
   "id": "e89d4824",
   "metadata": {},
   "outputs": [],
   "source": []
  }
 ],
 "metadata": {
  "kernelspec": {
   "display_name": "Python 3 (ipykernel)",
   "language": "python",
   "name": "python3"
  },
  "language_info": {
   "codemirror_mode": {
    "name": "ipython",
    "version": 3
   },
   "file_extension": ".py",
   "mimetype": "text/x-python",
   "name": "python",
   "nbconvert_exporter": "python",
   "pygments_lexer": "ipython3",
   "version": "3.9.13"
  }
 },
 "nbformat": 4,
 "nbformat_minor": 5
}

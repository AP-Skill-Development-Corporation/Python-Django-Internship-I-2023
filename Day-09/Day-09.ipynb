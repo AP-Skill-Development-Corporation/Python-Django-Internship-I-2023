{
 "cells": [
  {
   "cell_type": "code",
   "execution_count": 4,
   "id": "635cf81c",
   "metadata": {},
   "outputs": [
    {
     "name": "stdout",
     "output_type": "stream",
     "text": [
      "4\n",
      "Not Weird\n"
     ]
    }
   ],
   "source": [
    "n = int(input())\n",
    "if (n%2==0) and (n>=2 and n<=5):\n",
    "    print(\"Not Weird\")\n",
    "elif (n%2==0) and (n>=6 and n<=20):\n",
    "    print(\"Weird\")\n",
    "elif n%2==0 and n>20:\n",
    "    print(\"Not Weird\")\n",
    "else:\n",
    "    print(\"Weird\")"
   ]
  },
  {
   "cell_type": "markdown",
   "id": "2979304f",
   "metadata": {},
   "source": [
    "## Functions:\n",
    "    - To perform a specific task\n",
    "    - To reduce the code and reuseability to access it\n",
    "    - 2 Types\n",
    "        - User Defined\n",
    "            => Implement logic by a user\n",
    "            => printAll(),sumNumbers(),\n",
    "        - Pre defined\n",
    "            => Already existing mechanism\n",
    "            => int(),input(),range(),type(),print()\n",
    "    Syntax:\n",
    "        def fuunctionname():\n",
    "            //statements\n",
    "            return return_value\n",
    "    "
   ]
  },
  {
   "cell_type": "markdown",
   "id": "8732a998",
   "metadata": {},
   "source": [
    "## User Defined Types:\n",
    "    - with returntype and with arguments\n",
    "    - with returntype and without arguments\n",
    "    - without returntype and with arguments\n",
    "    - without returntype and without arguments"
   ]
  },
  {
   "cell_type": "markdown",
   "id": "21c54ee2",
   "metadata": {},
   "source": [
    "# With returntype and with arguments:\n",
    "    - reading => Main\n",
    "    - printing => Main\n",
    "    - logic => Functions"
   ]
  },
  {
   "cell_type": "code",
   "execution_count": 14,
   "id": "be534340",
   "metadata": {},
   "outputs": [
    {
     "name": "stdout",
     "output_type": "stream",
     "text": [
      "Enter a number: 7845896\n",
      "[6, 8, 4, 8]\n"
     ]
    }
   ],
   "source": [
    "def revs(s):\n",
    "    'It prints only Evne numbers in a number when it is reversed'\n",
    "    k = list()\n",
    "    while s!=0:\n",
    "        if (s%10)%2==0:\n",
    "            k.append(s%10)\n",
    "        s //= 10\n",
    "    return k\n",
    "\n",
    "n = int(input(\"Enter a number: \"))\n",
    "print(revs(n))"
   ]
  },
  {
   "cell_type": "code",
   "execution_count": 8,
   "id": "90fe3c9b",
   "metadata": {},
   "outputs": [
    {
     "name": "stdout",
     "output_type": "stream",
     "text": [
      "['__annotations__', '__call__', '__class__', '__closure__', '__code__', '__defaults__', '__delattr__', '__dict__', '__dir__', '__doc__', '__eq__', '__format__', '__ge__', '__get__', '__getattribute__', '__globals__', '__gt__', '__hash__', '__init__', '__init_subclass__', '__kwdefaults__', '__le__', '__lt__', '__module__', '__name__', '__ne__', '__new__', '__qualname__', '__reduce__', '__reduce_ex__', '__repr__', '__setattr__', '__sizeof__', '__str__', '__subclasshook__']\n"
     ]
    }
   ],
   "source": [
    "print(dir(revs))"
   ]
  },
  {
   "cell_type": "code",
   "execution_count": 11,
   "id": "fc53d7b0",
   "metadata": {},
   "outputs": [
    {
     "name": "stdout",
     "output_type": "stream",
     "text": [
      "It prints only Evne numbers in a number when it is reversed\n"
     ]
    }
   ],
   "source": [
    "print(revs.__doc__)"
   ]
  },
  {
   "cell_type": "code",
   "execution_count": 13,
   "id": "2919f612",
   "metadata": {},
   "outputs": [
    {
     "name": "stdout",
     "output_type": "stream",
     "text": [
      "[] <class 'list'>\n",
      "[] <class 'list'>\n"
     ]
    }
   ],
   "source": [
    "w = []\n",
    "p = list()\n",
    "print(w,type(w))\n",
    "print(p,type(p))"
   ]
  },
  {
   "cell_type": "code",
   "execution_count": null,
   "id": "b415880c",
   "metadata": {},
   "outputs": [],
   "source": []
  }
 ],
 "metadata": {
  "kernelspec": {
   "display_name": "Python 3 (ipykernel)",
   "language": "python",
   "name": "python3"
  },
  "language_info": {
   "codemirror_mode": {
    "name": "ipython",
    "version": 3
   },
   "file_extension": ".py",
   "mimetype": "text/x-python",
   "name": "python",
   "nbconvert_exporter": "python",
   "pygments_lexer": "ipython3",
   "version": "3.9.13"
  }
 },
 "nbformat": 4,
 "nbformat_minor": 5
}

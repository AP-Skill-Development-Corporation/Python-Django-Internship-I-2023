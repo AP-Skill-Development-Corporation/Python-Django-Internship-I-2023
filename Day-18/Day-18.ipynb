{
 "cells": [
  {
   "cell_type": "markdown",
   "id": "a311879a",
   "metadata": {},
   "source": [
    "## Inheritance:\n",
    "    - Single\n",
    "    - Multi level\n",
    "    - Mulitple\n",
    "    - Hybrid\n",
    "    - Hierarchical"
   ]
  },
  {
   "cell_type": "markdown",
   "id": "f5be3452",
   "metadata": {},
   "source": [
    "### Single Inheritance\n",
    "    - parent\n",
    "    - child"
   ]
  },
  {
   "cell_type": "code",
   "execution_count": 14,
   "id": "41562584",
   "metadata": {},
   "outputs": [
    {
     "name": "stdout",
     "output_type": "stream",
     "text": [
      "{'__module__': '__main__', 'address': 'Vjwd', '__init__': <function Person1.__init__ at 0x000002970A09D820>, 'personinfo': <function Person1.personinfo at 0x000002970A09D700>, '__dict__': <attribute '__dict__' of 'Person1' objects>, '__weakref__': <attribute '__weakref__' of 'Person1' objects>, '__doc__': None}\n",
      "==================== Person-1 Details ====================\n",
      "Person Name: Naresh\n",
      "Person Age: 35\n",
      "Address: Vjwd\n",
      "{'__module__': '__main__', 'sal': 45000, '__init__': <function Person2.__init__ at 0x000002970A09D940>, 'info': <function Person2.info at 0x000002970A09D790>, '__doc__': None}\n",
      "==================== Person-2 Details ====================\n",
      "Person Gender: Female\n"
     ]
    }
   ],
   "source": [
    "class Person1:\n",
    "    address = \"Vjwd\"\n",
    "    def __init__(self,name,age):\n",
    "        self.n = name\n",
    "        self.a = age\n",
    "    \n",
    "    def personinfo(self):\n",
    "        print(\"==\"*10+\" Person-1 Details \"+\"==\"*10)\n",
    "        print(f\"Person Name: {self.n}\")\n",
    "        print(f\"Person Age: {self.a}\")\n",
    "        print(f\"Address: {self.address}\")\n",
    "\n",
    "class Person2(Person1):\n",
    "    sal = 45000\n",
    "    \n",
    "    def __init__(self,g):\n",
    "        self.g = g\n",
    "        \n",
    "    def info(self):\n",
    "        print(\"==\"*10+\" Person-2 Details \"+\"==\"*10)\n",
    "        print(f\"Person Gender: {self.g}\")\n",
    "\n",
    "a = Person1(\"Naresh\",35)\n",
    "print(Person1.__dict__)\n",
    "a.personinfo()\n",
    "\n",
    "b = Person2(\"Female\")\n",
    "print(Person2.__dict__)\n",
    "b.info()"
   ]
  },
  {
   "cell_type": "code",
   "execution_count": 15,
   "id": "336a5b7f",
   "metadata": {},
   "outputs": [
    {
     "ename": "TypeError",
     "evalue": "__init__() missing 1 required positional argument: 'age'",
     "output_type": "error",
     "traceback": [
      "\u001b[1;31m---------------------------------------------------------------------------\u001b[0m",
      "\u001b[1;31mTypeError\u001b[0m                                 Traceback (most recent call last)",
      "Cell \u001b[1;32mIn[15], line 1\u001b[0m\n\u001b[1;32m----> 1\u001b[0m d \u001b[38;5;241m=\u001b[39m \u001b[43mPerson1\u001b[49m\u001b[43m(\u001b[49m\u001b[38;5;124;43m\"\u001b[39;49m\u001b[38;5;124;43mMale\u001b[39;49m\u001b[38;5;124;43m\"\u001b[39;49m\u001b[43m)\u001b[49m\n\u001b[0;32m      2\u001b[0m d\u001b[38;5;241m.\u001b[39minfo()\n",
      "\u001b[1;31mTypeError\u001b[0m: __init__() missing 1 required positional argument: 'age'"
     ]
    }
   ],
   "source": [
    "d = Person1(\"Male\")\n",
    "d.info()"
   ]
  },
  {
   "cell_type": "code",
   "execution_count": 19,
   "id": "e7e9bce3",
   "metadata": {},
   "outputs": [
    {
     "name": "stdout",
     "output_type": "stream",
     "text": [
      "==================== Person-2 Details ====================\n",
      "Person Gender: Male\n",
      "==================== Person-1 Details ====================\n"
     ]
    },
    {
     "ename": "AttributeError",
     "evalue": "'Person2' object has no attribute 'n'",
     "output_type": "error",
     "traceback": [
      "\u001b[1;31m---------------------------------------------------------------------------\u001b[0m",
      "\u001b[1;31mAttributeError\u001b[0m                            Traceback (most recent call last)",
      "Cell \u001b[1;32mIn[19], line 6\u001b[0m\n\u001b[0;32m      4\u001b[0m h\u001b[38;5;241m.\u001b[39minfo()\n\u001b[0;32m      5\u001b[0m e \u001b[38;5;241m=\u001b[39m Person2(\u001b[38;5;124m\"\u001b[39m\u001b[38;5;124mFemale\u001b[39m\u001b[38;5;124m\"\u001b[39m)\n\u001b[1;32m----> 6\u001b[0m \u001b[43me\u001b[49m\u001b[38;5;241;43m.\u001b[39;49m\u001b[43mpersoninfo\u001b[49m\u001b[43m(\u001b[49m\u001b[43m)\u001b[49m\n",
      "Cell \u001b[1;32mIn[14], line 9\u001b[0m, in \u001b[0;36mPerson1.personinfo\u001b[1;34m(self)\u001b[0m\n\u001b[0;32m      7\u001b[0m \u001b[38;5;28;01mdef\u001b[39;00m \u001b[38;5;21mpersoninfo\u001b[39m(\u001b[38;5;28mself\u001b[39m):\n\u001b[0;32m      8\u001b[0m     \u001b[38;5;28mprint\u001b[39m(\u001b[38;5;124m\"\u001b[39m\u001b[38;5;124m==\u001b[39m\u001b[38;5;124m\"\u001b[39m\u001b[38;5;241m*\u001b[39m\u001b[38;5;241m10\u001b[39m\u001b[38;5;241m+\u001b[39m\u001b[38;5;124m\"\u001b[39m\u001b[38;5;124m Person-1 Details \u001b[39m\u001b[38;5;124m\"\u001b[39m\u001b[38;5;241m+\u001b[39m\u001b[38;5;124m\"\u001b[39m\u001b[38;5;124m==\u001b[39m\u001b[38;5;124m\"\u001b[39m\u001b[38;5;241m*\u001b[39m\u001b[38;5;241m10\u001b[39m)\n\u001b[1;32m----> 9\u001b[0m     \u001b[38;5;28mprint\u001b[39m(\u001b[38;5;124mf\u001b[39m\u001b[38;5;124m\"\u001b[39m\u001b[38;5;124mPerson Name: \u001b[39m\u001b[38;5;132;01m{\u001b[39;00m\u001b[38;5;28;43mself\u001b[39;49m\u001b[38;5;241;43m.\u001b[39;49m\u001b[43mn\u001b[49m\u001b[38;5;132;01m}\u001b[39;00m\u001b[38;5;124m\"\u001b[39m)\n\u001b[0;32m     10\u001b[0m     \u001b[38;5;28mprint\u001b[39m(\u001b[38;5;124mf\u001b[39m\u001b[38;5;124m\"\u001b[39m\u001b[38;5;124mPerson Age: \u001b[39m\u001b[38;5;132;01m{\u001b[39;00m\u001b[38;5;28mself\u001b[39m\u001b[38;5;241m.\u001b[39ma\u001b[38;5;132;01m}\u001b[39;00m\u001b[38;5;124m\"\u001b[39m)\n\u001b[0;32m     11\u001b[0m     \u001b[38;5;28mprint\u001b[39m(\u001b[38;5;124mf\u001b[39m\u001b[38;5;124m\"\u001b[39m\u001b[38;5;124mAddress: \u001b[39m\u001b[38;5;132;01m{\u001b[39;00m\u001b[38;5;28mself\u001b[39m\u001b[38;5;241m.\u001b[39maddress\u001b[38;5;132;01m}\u001b[39;00m\u001b[38;5;124m\"\u001b[39m)\n",
      "\u001b[1;31mAttributeError\u001b[0m: 'Person2' object has no attribute 'n'"
     ]
    }
   ],
   "source": [
    "# e = Person2(\"Kiran\",78)\n",
    "# e.personinfo()\n",
    "h = Person2(\"Male\")\n",
    "h.info()\n",
    "e = Person2(\"Female\")\n",
    "e.personinfo()"
   ]
  },
  {
   "cell_type": "code",
   "execution_count": 20,
   "id": "10fa6b82",
   "metadata": {},
   "outputs": [],
   "source": [
    "from Data import studentfile"
   ]
  },
  {
   "cell_type": "code",
   "execution_count": 21,
   "id": "b6bec5c4",
   "metadata": {},
   "outputs": [
    {
     "name": "stdout",
     "output_type": "stream",
     "text": [
      "['Student', '__builtins__', '__cached__', '__doc__', '__file__', '__loader__', '__name__', '__package__', '__spec__', 'r']\n"
     ]
    }
   ],
   "source": [
    "print(dir(studentfile))"
   ]
  },
  {
   "cell_type": "code",
   "execution_count": 22,
   "id": "c12dcbf1",
   "metadata": {},
   "outputs": [
    {
     "name": "stdout",
     "output_type": "stream",
     "text": [
      "['__class__', '__delattr__', '__dict__', '__dir__', '__doc__', '__eq__', '__format__', '__ge__', '__getattribute__', '__gt__', '__hash__', '__init__', '__init_subclass__', '__le__', '__lt__', '__module__', '__ne__', '__new__', '__reduce__', '__reduce_ex__', '__repr__', '__setattr__', '__sizeof__', '__str__', '__subclasshook__', '__weakref__', 'stdinfo', 'stid']\n"
     ]
    }
   ],
   "source": [
    "print(dir(studentfile.Student))"
   ]
  },
  {
   "cell_type": "code",
   "execution_count": 26,
   "id": "525ef0cc",
   "metadata": {},
   "outputs": [
    {
     "name": "stdout",
     "output_type": "stream",
     "text": [
      "25\n",
      "RT56\n",
      "Studnet Id: RT56\n"
     ]
    }
   ],
   "source": [
    "print(studentfile.r)\n",
    "print(studentfile.Student.stid)\n",
    "studentfile.Student().stdinfo()"
   ]
  },
  {
   "cell_type": "code",
   "execution_count": 1,
   "id": "334ea0c9",
   "metadata": {},
   "outputs": [],
   "source": [
    "from Data.studentfile import (Student,Employee,Person)"
   ]
  },
  {
   "cell_type": "code",
   "execution_count": 2,
   "id": "76ba5305",
   "metadata": {},
   "outputs": [
    {
     "name": "stdout",
     "output_type": "stream",
     "text": [
      "['__class__', '__delattr__', '__dict__', '__dir__', '__doc__', '__eq__', '__format__', '__ge__', '__getattribute__', '__gt__', '__hash__', '__init__', '__init_subclass__', '__le__', '__lt__', '__module__', '__ne__', '__new__', '__reduce__', '__reduce_ex__', '__repr__', '__setattr__', '__sizeof__', '__str__', '__subclasshook__', '__weakref__', 'stdinfo', 'stid']\n"
     ]
    }
   ],
   "source": [
    "print(dir(Student))"
   ]
  },
  {
   "cell_type": "code",
   "execution_count": 3,
   "id": "5d670fa5",
   "metadata": {},
   "outputs": [
    {
     "name": "stdout",
     "output_type": "stream",
     "text": [
      "['__class__', '__delattr__', '__dict__', '__dir__', '__doc__', '__eq__', '__format__', '__ge__', '__getattribute__', '__gt__', '__hash__', '__init__', '__init_subclass__', '__le__', '__lt__', '__module__', '__ne__', '__new__', '__reduce__', '__reduce_ex__', '__repr__', '__setattr__', '__sizeof__', '__str__', '__subclasshook__', '__weakref__', 'empid', 'empinfo', 'stdinfo', 'stid']\n"
     ]
    }
   ],
   "source": [
    "print(dir(Employee))"
   ]
  },
  {
   "cell_type": "code",
   "execution_count": 4,
   "id": "41a84e0c",
   "metadata": {},
   "outputs": [
    {
     "name": "stdout",
     "output_type": "stream",
     "text": [
      "['__class__', '__delattr__', '__dict__', '__dir__', '__doc__', '__eq__', '__format__', '__ge__', '__getattribute__', '__gt__', '__hash__', '__init__', '__init_subclass__', '__le__', '__lt__', '__module__', '__ne__', '__new__', '__reduce__', '__reduce_ex__', '__repr__', '__setattr__', '__sizeof__', '__str__', '__subclasshook__', '__weakref__', 'address', 'empid', 'empinfo', 'person', 'stdinfo', 'stid']\n"
     ]
    }
   ],
   "source": [
    "print(dir(Person))"
   ]
  },
  {
   "cell_type": "code",
   "execution_count": 5,
   "id": "b169c357",
   "metadata": {},
   "outputs": [
    {
     "name": "stdout",
     "output_type": "stream",
     "text": [
      "{'__module__': 'Data.studentfile', 'empid': 'EM23', 'empinfo': <function Employee.empinfo at 0x0000023F2C8AC4C0>, '__doc__': None}\n"
     ]
    }
   ],
   "source": [
    "print(Employee.__dict__)"
   ]
  },
  {
   "cell_type": "code",
   "execution_count": 10,
   "id": "4b18ae74",
   "metadata": {},
   "outputs": [
    {
     "name": "stdout",
     "output_type": "stream",
     "text": [
      "Student Id: RT56\n",
      "Employee id is: EM23\n"
     ]
    }
   ],
   "source": [
    "t = Employee().stdinfo()\n",
    "t\n",
    "p = Employee().empinfo()\n",
    "p\n",
    "# u = Employee().person()\n",
    "# u"
   ]
  },
  {
   "cell_type": "code",
   "execution_count": 8,
   "id": "41d49789",
   "metadata": {},
   "outputs": [
    {
     "name": "stdout",
     "output_type": "stream",
     "text": [
      "Student Id: RT56\n",
      "Employee id is: EM23\n",
      "Person address is: Gntr\n"
     ]
    }
   ],
   "source": [
    "z = Person().stdinfo()\n",
    "z\n",
    "v = Person().empinfo()\n",
    "v\n",
    "k = Person().person()\n",
    "k"
   ]
  },
  {
   "cell_type": "code",
   "execution_count": null,
   "id": "b55c42ec",
   "metadata": {},
   "outputs": [],
   "source": []
  }
 ],
 "metadata": {
  "kernelspec": {
   "display_name": "Python 3 (ipykernel)",
   "language": "python",
   "name": "python3"
  },
  "language_info": {
   "codemirror_mode": {
    "name": "ipython",
    "version": 3
   },
   "file_extension": ".py",
   "mimetype": "text/x-python",
   "name": "python",
   "nbconvert_exporter": "python",
   "pygments_lexer": "ipython3",
   "version": "3.9.13"
  }
 },
 "nbformat": 4,
 "nbformat_minor": 5
}

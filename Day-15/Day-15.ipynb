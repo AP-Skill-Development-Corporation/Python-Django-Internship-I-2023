{
 "cells": [
  {
   "cell_type": "markdown",
   "id": "fd7f0675",
   "metadata": {},
   "source": [
    "## Comprehensions:\n",
    "    - list => []\n",
    "    - generator => ()\n",
    "    - set => {}\n",
    "    - dictionary => {}"
   ]
  },
  {
   "cell_type": "code",
   "execution_count": 3,
   "id": "19727cc7",
   "metadata": {},
   "outputs": [
    {
     "name": "stdout",
     "output_type": "stream",
     "text": [
      "4 6 5 3 9\n",
      "[4, 6]\n"
     ]
    }
   ],
   "source": [
    "v = []\n",
    "for i in input().split():\n",
    "    if int(i)%2==0:\n",
    "        v.append(int(i))\n",
    "print(v)"
   ]
  },
  {
   "cell_type": "code",
   "execution_count": 4,
   "id": "7600730e",
   "metadata": {},
   "outputs": [
    {
     "name": "stdout",
     "output_type": "stream",
     "text": [
      "5 8 3 6\n",
      "[8, 6]\n"
     ]
    }
   ],
   "source": [
    "b = [int(j) for j in input().split() if int(j)%2==0]\n",
    "print(b)"
   ]
  },
  {
   "cell_type": "code",
   "execution_count": 7,
   "id": "109c2cc9",
   "metadata": {},
   "outputs": [
    {
     "name": "stdout",
     "output_type": "stream",
     "text": [
      "4 5 8 6 5 2 1\n",
      "[6, 8, 10, 8, 8, 4, 4]\n"
     ]
    }
   ],
   "source": [
    "u = [int(i)+2 if int(i)%2==0 else int(i)+3 for i in input().split()]\n",
    "print(u)"
   ]
  },
  {
   "cell_type": "code",
   "execution_count": 8,
   "id": "424e99ee",
   "metadata": {},
   "outputs": [
    {
     "name": "stdout",
     "output_type": "stream",
     "text": [
      "4 6 5 2 9\n",
      "<generator object <genexpr> at 0x000001CBE14B0120>\n"
     ]
    }
   ],
   "source": [
    "v = (int(i) for i in input().split() if int(i)%2==0)\n",
    "print(v)"
   ]
  },
  {
   "cell_type": "code",
   "execution_count": 9,
   "id": "3732c426",
   "metadata": {},
   "outputs": [
    {
     "name": "stdout",
     "output_type": "stream",
     "text": [
      "4 5 2\n",
      "(4, 2)\n"
     ]
    }
   ],
   "source": [
    "v = tuple(int(i) for i in input().split() if int(i)%2==0)\n",
    "print(v)"
   ]
  },
  {
   "cell_type": "code",
   "execution_count": 10,
   "id": "d24e5620",
   "metadata": {},
   "outputs": [
    {
     "name": "stdout",
     "output_type": "stream",
     "text": [
      "5 5 6 6 6 \n",
      "{5, 6}\n"
     ]
    }
   ],
   "source": [
    "c = {int(i) for i in input().split()}\n",
    "print(c)"
   ]
  },
  {
   "cell_type": "code",
   "execution_count": 17,
   "id": "0b467fa9",
   "metadata": {},
   "outputs": [
    {
     "name": "stdout",
     "output_type": "stream",
     "text": [
      "4 4 5 5 2 \n",
      "{('5', 2), ('2', 1), ('4', 2)}\n"
     ]
    }
   ],
   "source": [
    "a = input().split()\n",
    "z = {(i,a.count(i)) for i in a}\n",
    "print(z)"
   ]
  },
  {
   "cell_type": "code",
   "execution_count": 16,
   "id": "6efd2e87",
   "metadata": {},
   "outputs": [
    {
     "name": "stdout",
     "output_type": "stream",
     "text": [
      "2\n"
     ]
    }
   ],
   "source": [
    "h = ['8','8','0']\n",
    "print(h.count('8'))"
   ]
  },
  {
   "cell_type": "markdown",
   "id": "faf3845d",
   "metadata": {},
   "source": [
    "## Functional Programming:\n",
    "    - lambda => without using def we can create a function\n",
    "    - map => For checking,typecasting\n",
    "    - filter => Checking purposes onlt True statements\n",
    "    - reduce => single output value"
   ]
  },
  {
   "cell_type": "code",
   "execution_count": 24,
   "id": "e57be684",
   "metadata": {},
   "outputs": [
    {
     "name": "stdout",
     "output_type": "stream",
     "text": [
      "4\n"
     ]
    }
   ],
   "source": [
    "x = lambda a:a+3\n",
    "print(x(1))"
   ]
  },
  {
   "cell_type": "code",
   "execution_count": 26,
   "id": "0b484a01",
   "metadata": {},
   "outputs": [
    {
     "name": "stdout",
     "output_type": "stream",
     "text": [
      "2 4 1\n",
      "[5, 7]\n"
     ]
    }
   ],
   "source": [
    "t = [x(int(i)) for i in input().split() if int(i)%2==0]\n",
    "print(t)"
   ]
  },
  {
   "cell_type": "code",
   "execution_count": 32,
   "id": "82ab994c",
   "metadata": {},
   "outputs": [
    {
     "name": "stdout",
     "output_type": "stream",
     "text": [
      "4 5\n",
      "[7]\n"
     ]
    }
   ],
   "source": [
    "p = lambda j:j+3\n",
    "t = [p(int(i)) for i in input().split() if int(i)%2==0]\n",
    "print(list(t))"
   ]
  },
  {
   "cell_type": "code",
   "execution_count": 33,
   "id": "3f1be9fd",
   "metadata": {},
   "outputs": [
    {
     "name": "stdout",
     "output_type": "stream",
     "text": [
      "5 6 8 9 \n",
      "[5, 6, 8, 9]\n"
     ]
    }
   ],
   "source": [
    "q = input().split()\n",
    "v = []\n",
    "for i in q:\n",
    "    v.append(int(i))\n",
    "print(v)"
   ]
  },
  {
   "cell_type": "code",
   "execution_count": 34,
   "id": "a3df4a0b",
   "metadata": {},
   "outputs": [
    {
     "name": "stdout",
     "output_type": "stream",
     "text": [
      "4 5 7 8 9\n",
      "[4, 5, 7, 8, 9]\n"
     ]
    }
   ],
   "source": [
    "nm = [i for i in map(int,input().split())]\n",
    "print(nm)"
   ]
  },
  {
   "cell_type": "code",
   "execution_count": 39,
   "id": "af8c332a",
   "metadata": {},
   "outputs": [
    {
     "name": "stdout",
     "output_type": "stream",
     "text": [
      "1 5 9 4 8\n",
      "[1, 5, 9, -1, -1]\n"
     ]
    }
   ],
   "source": [
    "def od(y):\n",
    "    if y%2!=0:\n",
    "        return y\n",
    "    return -1\n",
    "gh = [i for i in map(od,map(int,input().split()))]\n",
    "print(gh)"
   ]
  },
  {
   "cell_type": "code",
   "execution_count": 35,
   "id": "d73fb160",
   "metadata": {},
   "outputs": [],
   "source": [
    "def od(y):\n",
    "    if y%2!=0:\n",
    "        return y\n",
    "    return"
   ]
  },
  {
   "cell_type": "code",
   "execution_count": 37,
   "id": "b90f9f7f",
   "metadata": {},
   "outputs": [],
   "source": [
    "od(4)"
   ]
  },
  {
   "cell_type": "code",
   "execution_count": 46,
   "id": "f2a9238e",
   "metadata": {},
   "outputs": [
    {
     "name": "stdout",
     "output_type": "stream",
     "text": [
      "450 120 63 865 86\n",
      "[450, 120, 865]\n"
     ]
    }
   ],
   "source": [
    "cv = [i for i in filter(lambda i:i>89,map(int,input().split()))]\n",
    "print(cv)"
   ]
  },
  {
   "cell_type": "code",
   "execution_count": null,
   "id": "24a6725e",
   "metadata": {},
   "outputs": [],
   "source": [
    "map(int,iterator)\n",
    "map(function,iterator) => True value,false => None\n",
    "filter(function,iterator) => True value,false skip\n",
    "reduce(function,iterator) => single value"
   ]
  },
  {
   "cell_type": "code",
   "execution_count": 48,
   "id": "46b17794",
   "metadata": {},
   "outputs": [
    {
     "name": "stdout",
     "output_type": "stream",
     "text": [
      "450 8 569 785 250 150\n",
      "[450, 569, 785, 250, 150]\n"
     ]
    }
   ],
   "source": [
    "cv = [i for i in filter(lambda i:i>89,map(int,input().split()))]\n",
    "print(cv)"
   ]
  },
  {
   "cell_type": "code",
   "execution_count": 49,
   "id": "73988a8c",
   "metadata": {},
   "outputs": [
    {
     "name": "stdout",
     "output_type": "stream",
     "text": [
      "450 8 569 758 250 150\n",
      "[True, False, True, True, True, True]\n"
     ]
    }
   ],
   "source": [
    "cv = [i for i in map(lambda i:i>89,map(int,input().split()))]\n",
    "print(cv)"
   ]
  },
  {
   "cell_type": "code",
   "execution_count": null,
   "id": "ae669f99",
   "metadata": {},
   "outputs": [],
   "source": []
  }
 ],
 "metadata": {
  "kernelspec": {
   "display_name": "Python 3 (ipykernel)",
   "language": "python",
   "name": "python3"
  },
  "language_info": {
   "codemirror_mode": {
    "name": "ipython",
    "version": 3
   },
   "file_extension": ".py",
   "mimetype": "text/x-python",
   "name": "python",
   "nbconvert_exporter": "python",
   "pygments_lexer": "ipython3",
   "version": "3.9.13"
  }
 },
 "nbformat": 4,
 "nbformat_minor": 5
}

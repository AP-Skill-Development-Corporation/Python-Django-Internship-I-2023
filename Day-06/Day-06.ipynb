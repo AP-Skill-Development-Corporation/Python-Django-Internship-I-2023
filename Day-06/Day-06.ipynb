{
 "cells": [
  {
   "cell_type": "code",
   "execution_count": 1,
   "id": "ff9590fb",
   "metadata": {},
   "outputs": [
    {
     "name": "stdout",
     "output_type": "stream",
     "text": [
      "Enter a range: 5\n",
      "0 1 2 3 4 "
     ]
    }
   ],
   "source": [
    "n = int(input(\"Enter a range: \"))\n",
    "for i in range(n):\n",
    "    print(i,end=\" \")"
   ]
  },
  {
   "cell_type": "code",
   "execution_count": 2,
   "id": "e659ff7d",
   "metadata": {},
   "outputs": [
    {
     "name": "stdout",
     "output_type": "stream",
     "text": [
      "Enter a range: 5\n",
      "4 3 2 1 0 "
     ]
    }
   ],
   "source": [
    "n = int(input(\"Enter a range: \"))\n",
    "for i in range(n):\n",
    "    print(n-i-1,end=\" \")"
   ]
  },
  {
   "cell_type": "code",
   "execution_count": 5,
   "id": "7830b290",
   "metadata": {},
   "outputs": [
    {
     "name": "stdout",
     "output_type": "stream",
     "text": [
      "Enter start range: 25\n",
      "Enter ending range: 35\n",
      "25 26 27 28 29 30 31 32 33 34 "
     ]
    }
   ],
   "source": [
    "s = int(input(\"Enter start range: \"))\n",
    "e = int(input(\"Enter ending range: \"))\n",
    "for i in range(s,e):\n",
    "    print(i,end=\" \")"
   ]
  },
  {
   "cell_type": "code",
   "execution_count": 11,
   "id": "8a1e0d24",
   "metadata": {},
   "outputs": [
    {
     "name": "stdout",
     "output_type": "stream",
     "text": [
      "Enter start range: -30\n",
      "Enter ending range: -10\n",
      "Enter step value: -5\n"
     ]
    }
   ],
   "source": [
    "st = int(input(\"Enter start range: \"))\n",
    "en = int(input(\"Enter ending range: \"))\n",
    "y = int(input(\"Enter step value: \"))\n",
    "for i in range(st,en,y):\n",
    "    print(i,end=\" \")"
   ]
  },
  {
   "cell_type": "markdown",
   "id": "a51a2989",
   "metadata": {},
   "source": [
    "```\n",
    "Input:\n",
    "    10\n",
    "    15\n",
    "\n",
    "Output:\n",
    "    50\n",
    "    11\n",
    "    12\n",
    "    13\n",
    "    14\n",
    "```"
   ]
  },
  {
   "cell_type": "code",
   "execution_count": 14,
   "id": "17834705",
   "metadata": {},
   "outputs": [
    {
     "name": "stdout",
     "output_type": "stream",
     "text": [
      "10\n",
      "15\n",
      "50\n",
      "11\n",
      "12\n",
      "13\n",
      "14\n"
     ]
    }
   ],
   "source": [
    "s,e = int(input()),int(input())\n",
    "for i in range(s,e):\n",
    "    if i%5==0:\n",
    "        print(i*5)\n",
    "    else:\n",
    "        print(i)"
   ]
  },
  {
   "cell_type": "markdown",
   "id": "2405af0f",
   "metadata": {},
   "source": [
    "## while:\n",
    "    Syntax:\n",
    "        initialization\n",
    "        while condition:\n",
    "            //statements\n",
    "            incre/decr"
   ]
  },
  {
   "cell_type": "code",
   "execution_count": 1,
   "id": "2b515877",
   "metadata": {},
   "outputs": [
    {
     "name": "stdout",
     "output_type": "stream",
     "text": [
      "Enter start range: 10\n",
      "0 1 2 3 4 5 6 7 8 9 "
     ]
    }
   ],
   "source": [
    "n = int(input(\"Enter start range: \"))\n",
    "k = 0\n",
    "while k!=n:\n",
    "    print(k,end=\" \")\n",
    "    k += 1"
   ]
  },
  {
   "cell_type": "code",
   "execution_count": 3,
   "id": "886a07e8",
   "metadata": {},
   "outputs": [
    {
     "name": "stdout",
     "output_type": "stream",
     "text": [
      "Enter start range: 10\n",
      "9 8 7 6 5 4 3 2 1 0 "
     ]
    }
   ],
   "source": [
    "n = int(input(\"Enter start range: \"))\n",
    "while n!=0:\n",
    "    n -= 1\n",
    "    print(n,end=\" \")"
   ]
  },
  {
   "cell_type": "markdown",
   "id": "1109540f",
   "metadata": {},
   "source": [
    "## Jumping Statements:\n",
    "    - continue => It skips a value \n",
    "    - break => It exits from a loop\n",
    "    - pass => It skips but for further enhancements we can develop the logic\n",
    "    - return => It returns a single or n number of values"
   ]
  },
  {
   "cell_type": "code",
   "execution_count": 12,
   "id": "ea52b937",
   "metadata": {},
   "outputs": [
    {
     "name": "stdout",
     "output_type": "stream",
     "text": [
      "Enter a range: 20\n",
      "1 2 3 4 6 8 9 11 12 13 14 15 16 17 18 19 "
     ]
    }
   ],
   "source": [
    "n = int(input(\"Enter a range: \"))\n",
    "for i in range(1,n):\n",
    "    if i == 5 or i == 7 or i == 10:\n",
    "        continue\n",
    "    else:\n",
    "        print(i,end=\" \")"
   ]
  },
  {
   "cell_type": "code",
   "execution_count": 14,
   "id": "f43df69a",
   "metadata": {},
   "outputs": [
    {
     "name": "stdout",
     "output_type": "stream",
     "text": [
      "Enter a range: 100\n",
      "1 "
     ]
    }
   ],
   "source": [
    "n = int(input(\"Enter a range: \"))\n",
    "for i in range(1,n):\n",
    "    if i==2:\n",
    "        break\n",
    "    else:\n",
    "        print(i,end=\" \")"
   ]
  },
  {
   "cell_type": "code",
   "execution_count": 16,
   "id": "03b81ea8",
   "metadata": {},
   "outputs": [
    {
     "name": "stdout",
     "output_type": "stream",
     "text": [
      "Enter a range: 20\n",
      "1 2 3 4 6 7 8 9 10 11 12 13 14 15 16 17 18 19 "
     ]
    }
   ],
   "source": [
    "n = int(input(\"Enter a range: \"))\n",
    "for i in range(1,n):\n",
    "    if i == 5:\n",
    "        pass\n",
    "    else:\n",
    "        print(i,end=\" \")"
   ]
  },
  {
   "cell_type": "markdown",
   "id": "2834b65a",
   "metadata": {},
   "source": [
    "## Inner Loop or Neseted Loop\n",
    "    - Loop with a Loop\n",
    "    "
   ]
  },
  {
   "cell_type": "code",
   "execution_count": 21,
   "id": "3126518c",
   "metadata": {},
   "outputs": [
    {
     "name": "stdout",
     "output_type": "stream",
     "text": [
      "Enter a row value: 3\n",
      "Enter a column value: 5\n",
      "11 12 13 14 15 \n",
      "21 22 23 24 25 \n",
      "31 32 33 34 35 \n"
     ]
    }
   ],
   "source": [
    "n = int(input(\"Enter a row value: \"))\n",
    "m = int(input(\"Enter a column value: \"))\n",
    "for i in range(n):\n",
    "    for j in range(m):\n",
    "        print(f\"{i+1}{j+1}\",end=\" \")\n",
    "    print()"
   ]
  },
  {
   "cell_type": "code",
   "execution_count": 23,
   "id": "2971d115",
   "metadata": {},
   "outputs": [
    {
     "name": "stdout",
     "output_type": "stream",
     "text": [
      "Enter a range: 7\n",
      "* * * * * * * \n",
      "* * * * * * * \n",
      "* * * * * * * \n",
      "* * * * * * * \n",
      "* * * * * * * \n",
      "* * * * * * * \n",
      "* * * * * * * \n"
     ]
    }
   ],
   "source": [
    "n = int(input(\"Enter a range: \"))\n",
    "for i in range(n):\n",
    "    for j in range(n):\n",
    "        print(\"*\",end=\" \")\n",
    "    print()"
   ]
  },
  {
   "cell_type": "code",
   "execution_count": 31,
   "id": "1ed38ef9",
   "metadata": {},
   "outputs": [
    {
     "name": "stdout",
     "output_type": "stream",
     "text": [
      "Enter a range: 10\n",
      "00 01 02 03 04 05 06 07 08 09 "
     ]
    }
   ],
   "source": [
    "n = int(input(\"Enter a range: \"))\n",
    "for i in range(n):\n",
    "    print(f\"{i:02}\",end=\" \")"
   ]
  },
  {
   "cell_type": "code",
   "execution_count": 42,
   "id": "0c286cb1",
   "metadata": {},
   "outputs": [
    {
     "name": "stdout",
     "output_type": "stream",
     "text": [
      "{} ** || ** {} [] {} \n",
      "&& && || && && && && \n",
      "() ** || ** () ** () \n",
      "** () || () ** () ** \n",
      "() ** || \n"
     ]
    }
   ],
   "source": [
    "v = 1\n",
    "for i in range(5):\n",
    "    for j in range(7):\n",
    "        if v>=32:\n",
    "            break\n",
    "        else:\n",
    "            if j == 2:\n",
    "                print(\"||\",end=\" \")\n",
    "            elif i == 1:\n",
    "                print(\"&&\",end=\" \")\n",
    "            elif v%3==0 and v<15:\n",
    "                print(\"[]\",end=\" \")\n",
    "            elif v%2==0:\n",
    "                print(\"**\",end=\" \")\n",
    "            elif v>=15:\n",
    "                print(\"()\",end=\" \")\n",
    "            else:\n",
    "                print(\"{}\",end=\" \")\n",
    "        v+=1\n",
    "    print()"
   ]
  },
  {
   "cell_type": "markdown",
   "id": "62ac520f",
   "metadata": {},
   "source": [
    "## Data Structures:\n",
    "    - To oraganise the dat in order or unorder format\n",
    "    - List\n",
    "    - Tuple\n",
    "    - Set\n",
    "    - String\n",
    "    - Dictionary"
   ]
  },
  {
   "cell_type": "markdown",
   "id": "232880ed",
   "metadata": {},
   "source": [
    "## List:\n",
    "    - It can be represented as \"[]\" and values can be splitted with ,\n",
    "    - It stores all data type values\n",
    "    - It stores data in order format\n",
    "    - It can changes the values\n",
    "    - It can be typecasted as list()\n",
    "    - Slicing can be done because of index values\n",
    "    - It allows duplicate values"
   ]
  },
  {
   "cell_type": "code",
   "execution_count": 44,
   "id": "6112782a",
   "metadata": {},
   "outputs": [
    {
     "name": "stdout",
     "output_type": "stream",
     "text": [
      "[12, 56.012, 'Kavitha', False, (7+9j), None, 12, 12, 12] <class 'list'>\n"
     ]
    }
   ],
   "source": [
    "k = [12,56.012,'Kavitha',False,7+9j,None,12,12,12]\n",
    "print(k,type(k))"
   ]
  },
  {
   "cell_type": "code",
   "execution_count": 45,
   "id": "dd207c7b",
   "metadata": {},
   "outputs": [
    {
     "name": "stdout",
     "output_type": "stream",
     "text": [
      "10 <class 'int'>\n"
     ]
    }
   ],
   "source": [
    "a = 10\n",
    "print(a,type(a))"
   ]
  },
  {
   "cell_type": "code",
   "execution_count": 48,
   "id": "3fde5caa",
   "metadata": {},
   "outputs": [
    {
     "name": "stdout",
     "output_type": "stream",
     "text": [
      "12 <class 'int'>\n",
      "56.012 <class 'float'>\n",
      "Kavitha <class 'str'>\n",
      "False <class 'bool'>\n",
      "(7+9j) <class 'complex'>\n",
      "None <class 'NoneType'>\n",
      "12 <class 'int'>\n",
      "12 <class 'int'>\n",
      "12 <class 'int'>\n"
     ]
    }
   ],
   "source": [
    "for i in range(len(k)):\n",
    "    print(k[i],type(k[i]))"
   ]
  },
  {
   "cell_type": "code",
   "execution_count": 49,
   "id": "99ece10b",
   "metadata": {},
   "outputs": [
    {
     "name": "stdout",
     "output_type": "stream",
     "text": [
      "12 <class 'int'>\n",
      "56.012 <class 'float'>\n",
      "Kavitha <class 'str'>\n",
      "False <class 'bool'>\n",
      "(7+9j) <class 'complex'>\n",
      "None <class 'NoneType'>\n",
      "12 <class 'int'>\n",
      "12 <class 'int'>\n",
      "12 <class 'int'>\n"
     ]
    }
   ],
   "source": [
    "for i in k:\n",
    "    print(i,type(i))"
   ]
  },
  {
   "cell_type": "code",
   "execution_count": null,
   "id": "9b70e659",
   "metadata": {},
   "outputs": [],
   "source": []
  }
 ],
 "metadata": {
  "kernelspec": {
   "display_name": "Python 3 (ipykernel)",
   "language": "python",
   "name": "python3"
  },
  "language_info": {
   "codemirror_mode": {
    "name": "ipython",
    "version": 3
   },
   "file_extension": ".py",
   "mimetype": "text/x-python",
   "name": "python",
   "nbconvert_exporter": "python",
   "pygments_lexer": "ipython3",
   "version": "3.9.13"
  }
 },
 "nbformat": 4,
 "nbformat_minor": 5
}

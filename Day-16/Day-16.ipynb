{
 "cells": [
  {
   "cell_type": "code",
   "execution_count": 1,
   "id": "09b82ace",
   "metadata": {},
   "outputs": [
    {
     "name": "stdout",
     "output_type": "stream",
     "text": [
      "Sum of list numbers are: 72\n"
     ]
    }
   ],
   "source": [
    "k = [45,8,9,6,4]\n",
    "t = 0\n",
    "for i in k:\n",
    "    t+=i\n",
    "print(f\"Sum of list numbers are: {t}\")"
   ]
  },
  {
   "cell_type": "code",
   "execution_count": 2,
   "id": "49ded473",
   "metadata": {},
   "outputs": [],
   "source": [
    "from functools import reduce"
   ]
  },
  {
   "cell_type": "code",
   "execution_count": 3,
   "id": "6ca0cc6e",
   "metadata": {},
   "outputs": [
    {
     "name": "stdout",
     "output_type": "stream",
     "text": [
      "['__call__', '__class__', '__delattr__', '__dir__', '__doc__', '__eq__', '__format__', '__ge__', '__getattribute__', '__gt__', '__hash__', '__init__', '__init_subclass__', '__le__', '__lt__', '__module__', '__name__', '__ne__', '__new__', '__qualname__', '__reduce__', '__reduce_ex__', '__repr__', '__self__', '__setattr__', '__sizeof__', '__str__', '__subclasshook__', '__text_signature__']\n"
     ]
    }
   ],
   "source": [
    "print(dir(reduce))"
   ]
  },
  {
   "cell_type": "code",
   "execution_count": 4,
   "id": "2b4e5d94",
   "metadata": {},
   "outputs": [
    {
     "name": "stdout",
     "output_type": "stream",
     "text": [
      "reduce(function, sequence[, initial]) -> value\n",
      "\n",
      "Apply a function of two arguments cumulatively to the items of a sequence,\n",
      "from left to right, so as to reduce the sequence to a single value.\n",
      "For example, reduce(lambda x, y: x+y, [1, 2, 3, 4, 5]) calculates\n",
      "((((1+2)+3)+4)+5).  If initial is present, it is placed before the items\n",
      "of the sequence in the calculation, and serves as a default when the\n",
      "sequence is empty.\n"
     ]
    }
   ],
   "source": [
    "print(reduce.__doc__)"
   ]
  },
  {
   "cell_type": "code",
   "execution_count": 5,
   "id": "cab29684",
   "metadata": {},
   "outputs": [
    {
     "data": {
      "text/plain": [
       "100"
      ]
     },
     "execution_count": 5,
     "metadata": {},
     "output_type": "execute_result"
    }
   ],
   "source": [
    "n = [78,9,8,5]\n",
    "reduce(lambda x,y:x+y,n)"
   ]
  },
  {
   "cell_type": "code",
   "execution_count": 11,
   "id": "b8dfc7b9",
   "metadata": {},
   "outputs": [
    {
     "name": "stdout",
     "output_type": "stream",
     "text": [
      "4 5 8 9\n",
      "[26] <class 'list'>\n"
     ]
    }
   ],
   "source": [
    "b = list(map(int,input().split()))\n",
    "x = [reduce(lambda c,v:c+v,b)]\n",
    "print(x,type(x))"
   ]
  },
  {
   "cell_type": "code",
   "execution_count": 12,
   "id": "a7ec24ca",
   "metadata": {},
   "outputs": [
    {
     "name": "stdout",
     "output_type": "stream",
     "text": [
      "4 5 8\n",
      "[17] <class 'list'>\n"
     ]
    }
   ],
   "source": [
    "k = [reduce(lambda s,p:s+p,map(int,input().split()))]\n",
    "print(k,type(k))"
   ]
  },
  {
   "cell_type": "code",
   "execution_count": 14,
   "id": "11a2fc09",
   "metadata": {},
   "outputs": [
    {
     "name": "stdout",
     "output_type": "stream",
     "text": [
      "1 9 6 56\n",
      "[16]\n"
     ]
    }
   ],
   "source": [
    "z = [reduce(lambda j,k:j+k,filter(lambda a:a<20,map(int,input().split())))]\n",
    "print(z)"
   ]
  },
  {
   "cell_type": "markdown",
   "id": "bc96385d",
   "metadata": {},
   "source": [
    "## Iterator:\n",
    "    - iter()\n",
    "    - next()"
   ]
  },
  {
   "cell_type": "code",
   "execution_count": 15,
   "id": "0e2461ff",
   "metadata": {},
   "outputs": [
    {
     "name": "stdout",
     "output_type": "stream",
     "text": [
      "4\n",
      "8\n",
      "9\n",
      "2\n"
     ]
    }
   ],
   "source": [
    "h = [4,8,9,2]\n",
    "for i in h:\n",
    "    print(i)"
   ]
  },
  {
   "cell_type": "code",
   "execution_count": 19,
   "id": "f4f5d073",
   "metadata": {},
   "outputs": [
    {
     "name": "stdout",
     "output_type": "stream",
     "text": [
      "<list_iterator object at 0x00000215AA3D8EE0>\n"
     ]
    }
   ],
   "source": [
    "g = iter(h)\n",
    "print(g)"
   ]
  },
  {
   "cell_type": "code",
   "execution_count": 20,
   "id": "bed61614",
   "metadata": {},
   "outputs": [
    {
     "name": "stdout",
     "output_type": "stream",
     "text": [
      "4\n",
      "8\n",
      "9\n",
      "2\n"
     ]
    }
   ],
   "source": [
    "for i in g:\n",
    "    print(i)"
   ]
  },
  {
   "cell_type": "code",
   "execution_count": 28,
   "id": "21d11ede",
   "metadata": {},
   "outputs": [
    {
     "name": "stdout",
     "output_type": "stream",
     "text": [
      "4\n",
      "8\n"
     ]
    }
   ],
   "source": [
    "g = iter(h)\n",
    "print(next(g))\n",
    "print(next(g))"
   ]
  },
  {
   "cell_type": "code",
   "execution_count": 3,
   "id": "06aa6194",
   "metadata": {},
   "outputs": [
    {
     "name": "stdout",
     "output_type": "stream",
     "text": [
      "<generator object <genexpr> at 0x0000014764F77F20>\n"
     ]
    }
   ],
   "source": [
    "b = [5,1,9]\n",
    "s = (i for i in b)\n",
    "print(s)"
   ]
  },
  {
   "cell_type": "code",
   "execution_count": 5,
   "id": "80378773",
   "metadata": {},
   "outputs": [
    {
     "name": "stdout",
     "output_type": "stream",
     "text": [
      "1\n",
      "9\n"
     ]
    }
   ],
   "source": [
    "print(next(s))\n",
    "print(next(s))"
   ]
  },
  {
   "cell_type": "code",
   "execution_count": 24,
   "id": "1659dc66",
   "metadata": {},
   "outputs": [
    {
     "name": "stdout",
     "output_type": "stream",
     "text": [
      "First Value\n",
      "Second Value\n",
      "First Value\n"
     ]
    }
   ],
   "source": [
    "def num():\n",
    "    for i in range(5):\n",
    "        yield \"First Value\"\n",
    "        yield \"Second Value\"\n",
    "\n",
    "k = iter(num())\n",
    "print(next(k))\n",
    "print(next(k))\n",
    "print(next(k))"
   ]
  },
  {
   "cell_type": "code",
   "execution_count": 25,
   "id": "93e8d36a",
   "metadata": {},
   "outputs": [],
   "source": [
    "k = num()"
   ]
  },
  {
   "cell_type": "code",
   "execution_count": 26,
   "id": "1a7508c1",
   "metadata": {},
   "outputs": [
    {
     "name": "stdout",
     "output_type": "stream",
     "text": [
      "<generator object num at 0x0000014764D4E970>\n"
     ]
    }
   ],
   "source": [
    "print(k)"
   ]
  },
  {
   "cell_type": "code",
   "execution_count": 27,
   "id": "b3c38dd1",
   "metadata": {},
   "outputs": [
    {
     "name": "stdout",
     "output_type": "stream",
     "text": [
      "First Value\n"
     ]
    }
   ],
   "source": [
    "print(next(k))"
   ]
  },
  {
   "cell_type": "code",
   "execution_count": 28,
   "id": "803d51c6",
   "metadata": {},
   "outputs": [
    {
     "name": "stdout",
     "output_type": "stream",
     "text": [
      "Second Value\n"
     ]
    }
   ],
   "source": [
    "print(next(k))"
   ]
  },
  {
   "cell_type": "markdown",
   "id": "731b335a",
   "metadata": {},
   "source": [
    "## OOPS Concept:\n",
    "    - class => blueprint of an object => design\n",
    "    - object => instance of a class => material\n",
    "    - method => function => mechanism\n",
    "    - inheritance => acquiring the properties from one class to another class\n",
    "    - encapsulation\n",
    "    - polymorphism\n",
    "    - data abstraction"
   ]
  },
  {
   "cell_type": "code",
   "execution_count": 29,
   "id": "b10708d9",
   "metadata": {},
   "outputs": [
    {
     "name": "stdout",
     "output_type": "stream",
     "text": [
      "<class 'int'>\n"
     ]
    }
   ],
   "source": [
    "a = 10\n",
    "print(type(a))"
   ]
  },
  {
   "cell_type": "code",
   "execution_count": null,
   "id": "9f69ef2e",
   "metadata": {},
   "outputs": [],
   "source": [
    "House\n",
    "    => Design => class\n",
    "    bricks,sand,cement,iron\n",
    "\n",
    "Building => completed => object\n",
    "rooms => doors,fans,ac,lights => methods"
   ]
  },
  {
   "cell_type": "code",
   "execution_count": 33,
   "id": "7866a38a",
   "metadata": {},
   "outputs": [
    {
     "name": "stdout",
     "output_type": "stream",
     "text": [
      "10\n"
     ]
    }
   ],
   "source": [
    "def ad(a,b):\n",
    "    j = 0\n",
    "    return a+b\n",
    "\n",
    "s = ad(4,6)\n",
    "print(s)"
   ]
  },
  {
   "cell_type": "code",
   "execution_count": 36,
   "id": "f2ab51d4",
   "metadata": {},
   "outputs": [],
   "source": [
    "class Student:\n",
    "    h = 78\n",
    "    pass"
   ]
  },
  {
   "cell_type": "code",
   "execution_count": 34,
   "id": "6ba6ceea",
   "metadata": {},
   "outputs": [
    {
     "name": "stdout",
     "output_type": "stream",
     "text": [
      "['__annotations__', '__call__', '__class__', '__closure__', '__code__', '__defaults__', '__delattr__', '__dict__', '__dir__', '__doc__', '__eq__', '__format__', '__ge__', '__get__', '__getattribute__', '__globals__', '__gt__', '__hash__', '__init__', '__init_subclass__', '__kwdefaults__', '__le__', '__lt__', '__module__', '__name__', '__ne__', '__new__', '__qualname__', '__reduce__', '__reduce_ex__', '__repr__', '__setattr__', '__sizeof__', '__str__', '__subclasshook__']\n"
     ]
    }
   ],
   "source": [
    "print(dir(ad))"
   ]
  },
  {
   "cell_type": "code",
   "execution_count": 37,
   "id": "10022d71",
   "metadata": {},
   "outputs": [
    {
     "name": "stdout",
     "output_type": "stream",
     "text": [
      "['__class__', '__delattr__', '__dict__', '__dir__', '__doc__', '__eq__', '__format__', '__ge__', '__getattribute__', '__gt__', '__hash__', '__init__', '__init_subclass__', '__le__', '__lt__', '__module__', '__ne__', '__new__', '__reduce__', '__reduce_ex__', '__repr__', '__setattr__', '__sizeof__', '__str__', '__subclasshook__', '__weakref__', 'h']\n"
     ]
    }
   ],
   "source": [
    "print(dir(Student))"
   ]
  },
  {
   "cell_type": "code",
   "execution_count": 38,
   "id": "8a9a494c",
   "metadata": {},
   "outputs": [
    {
     "name": "stdout",
     "output_type": "stream",
     "text": [
      "{}\n"
     ]
    }
   ],
   "source": [
    "print(ad.__dict__)"
   ]
  },
  {
   "cell_type": "code",
   "execution_count": 39,
   "id": "df40d264",
   "metadata": {},
   "outputs": [
    {
     "name": "stdout",
     "output_type": "stream",
     "text": [
      "{'__module__': '__main__', 'h': 78, '__dict__': <attribute '__dict__' of 'Student' objects>, '__weakref__': <attribute '__weakref__' of 'Student' objects>, '__doc__': None}\n"
     ]
    }
   ],
   "source": [
    "print(Student.__dict__)"
   ]
  },
  {
   "cell_type": "code",
   "execution_count": 41,
   "id": "4f5f4420",
   "metadata": {},
   "outputs": [
    {
     "name": "stdout",
     "output_type": "stream",
     "text": [
      "__main__\n",
      "78\n"
     ]
    }
   ],
   "source": [
    "print(Student.__module__)\n",
    "print(Student.h)"
   ]
  },
  {
   "cell_type": "code",
   "execution_count": null,
   "id": "d12c1305",
   "metadata": {},
   "outputs": [],
   "source": []
  }
 ],
 "metadata": {
  "kernelspec": {
   "display_name": "Python 3 (ipykernel)",
   "language": "python",
   "name": "python3"
  },
  "language_info": {
   "codemirror_mode": {
    "name": "ipython",
    "version": 3
   },
   "file_extension": ".py",
   "mimetype": "text/x-python",
   "name": "python",
   "nbconvert_exporter": "python",
   "pygments_lexer": "ipython3",
   "version": "3.9.13"
  }
 },
 "nbformat": 4,
 "nbformat_minor": 5
}
